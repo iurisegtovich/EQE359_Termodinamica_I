{
 "cells": [
  {
   "cell_type": "markdown",
   "metadata": {},
   "source": [
    "UFRJ/EQ, Agosto de 2018,\n",
    "(updated @ 19 de Junho de 2019).\n",
    "\n",
    "# Evaporador / Compressor, Equação de estado cúbica\n",
    "\n",
    "iuri segtovich"
   ]
  },
  {
   "cell_type": "code",
   "execution_count": 1,
   "metadata": {},
   "outputs": [],
   "source": [
    "import numpy as np\n",
    "#1. arrays (vetores R^n) para cálculos em sequência\n",
    "#2. resolução de raiz de polinômios (np.roots)\n",
    "\n",
    "from matplotlib import pyplot as plt\n",
    "# pacote para desenhar gráficos\n",
    "\n",
    "from scipy import optimize as opt\n",
    "# resolução de equação não linear por método de biseção (opt.bisect)"
   ]
  },
  {
   "cell_type": "code",
   "execution_count": 2,
   "metadata": {},
   "outputs": [],
   "source": [
    "R=8.314 #S.I."
   ]
  },
  {
   "cell_type": "code",
   "execution_count": 3,
   "metadata": {},
   "outputs": [],
   "source": [
    "# Cúbica\n",
    "def func_P_cubic(T,Vm):\n",
    "    a=func_a(T=T)\n",
    "    return R*T/(Vm-b) - a/(Vm**2 + u*b*Vm + w*b**2)\n",
    "\n",
    "\n",
    "def func_a(T):\n",
    "    Tr=T/Tc\n",
    "    return ac*(1+f_omega*(1-Tr**(.5)))**2"
   ]
  },
  {
   "cell_type": "code",
   "execution_count": 4,
   "metadata": {},
   "outputs": [],
   "source": [
    "def func_VL_VV_cubic(T,P):\n",
    "    a=func_a(T=T)\n",
    "    A=a*P/(R**2*T**2)\n",
    "    B=b*P/(R*T)\n",
    "    \n",
    "    c3=1 \n",
    "    c2=-(1+B-u*B)\n",
    "    c1=(A+w*B**2-u*B-u*B**2)\n",
    "    c0=-A*B-w*B**2-w*B**3\n",
    "    \n",
    "    list_coeffs=[c3,c2,c1,c0]\n",
    "\n",
    "    Z1,Z2,Z3=np.roots(list_coeffs) #Como c3=1, nunca vai vir menos de três raízes (incluindo real e complexa)\n",
    "    \n",
    "    V1=Z1*R*T/P\n",
    "    V2=Z2*R*T/P\n",
    "    V3=Z3*R*T/P\n",
    "        \n",
    "    imag_tol = 1e-11\n",
    "\n",
    "    listVphysical=[]\n",
    "    \n",
    "    for V in [V1,V2,V3]:\n",
    "        if (abs(V.imag) < imag_tol) and (V.real > b): #condicao para existencia de um valor real\n",
    "            listVphysical.append(V.real)\n",
    "    nVphysical = len(listVphysical)\n",
    "    vL=min(listVphysical) #se shouver apenas um V físico a função vai retornar valores de Volume iguais para liq e vap\n",
    "    vV=max(listVphysical) \n",
    "    \n",
    "    return vL, vV, nVphysical"
   ]
  },
  {
   "cell_type": "code",
   "execution_count": 5,
   "metadata": {},
   "outputs": [],
   "source": [
    "def func_Plimits(T):\n",
    "    #cálculo dos limites para busca de pressão de saturação\n",
    "    \n",
    "    #calcular coeficientes da representação polinomial\n",
    "    a=func_a(T=T)\n",
    "    \n",
    "    c4 = 1\n",
    "    c3 = (-2*R*T*b*u + 2*a)/(-R*T)\n",
    "    c2 = (-R*T*b**2*u**2 - 2*R*T*b**2*w + a*b*u - 4*a*b)/(-R*T)\n",
    "    c1 = (-2*R*T*b**3*u*w - 2*a*b**2*u + 2*a*b**2)/(-R*T)\n",
    "    c0 = (-R*T*b**4*w**2 + a*b**3*u)/(-R*T)\n",
    "    \n",
    "    #resolver raízes com a função roots\n",
    "    list_coeffs=[c4,c3,c2,c1,c0]\n",
    "\n",
    "    V1,V2,V3,V4=np.roots(list_coeffs) #Como c4=1, nunca vai vir menos de quatro raízes (incluindo real e complexa)\n",
    "    \n",
    "    imag_tol = 1e-11\n",
    "\n",
    "    listVphysical=[]\n",
    "    \n",
    "    for V in [V1,V2,V3,V4]:\n",
    "        if (abs(V.imag) < imag_tol) and (V.real > b): #condicao para existencia de um valor real\n",
    "            listVphysical.append(V.real)\n",
    "    nVphysical = len(listVphysical)\n",
    "    \n",
    "    if nVphysical >= 1:\n",
    "        Vinfi = min(listVphysical)\n",
    "        Vsupi = max(listVphysical)\n",
    "    \n",
    "    \n",
    "        #calcular a pressão correspondente a cada raiz de volume selecionada\n",
    "        Psupi = func_P_cubic(T=T,Vm=Vsupi)\n",
    "        Pinfi = func_P_cubic(T=T,Vm=Vinfi)\n",
    "            \n",
    "    elif nVphysical==0:\n",
    "        #não achamos faixa de busca\n",
    "        Vli=None\n",
    "        Vvi=None\n",
    "        Psupi=None\n",
    "        Pinfi=None\n",
    "        \n",
    "    return Vinfi,Vsupi,Pinfi,Psupi,nVphysical"
   ]
  },
  {
   "cell_type": "code",
   "execution_count": 6,
   "metadata": {},
   "outputs": [],
   "source": [
    "def func_Gres_RT(T,P,Z):    \n",
    "    a=func_a(T)\n",
    "    A=a*P/(R**2*T**2)\n",
    "    B=b*P/(R*T)\n",
    "    T1=A/(B*(u**2-4*w)**.5)\n",
    "    T2=(-1)\n",
    "    T3=2*Z+B*(u+(u**2-4*w)**.5)\n",
    "    T4=2*Z+B*(u-(u**2-4*w)**.5)\n",
    "    Gres_RT_TPZ = (Z-1)-np.log(Z-B)+T1*T2*np.log(T3/T4)\n",
    "    return Gres_RT_TPZ"
   ]
  },
  {
   "cell_type": "code",
   "execution_count": 7,
   "metadata": {},
   "outputs": [],
   "source": [
    "def func_Psat(T):\n",
    "    \n",
    "    def func_RES(P):\n",
    "        VL,VV,nV=func_VL_VV_cubic(T=T,P=P)\n",
    "        ZL=VL*P/(R*T)\n",
    "        ZV=VV*P/(R*T)\n",
    "        Gres_RT_L=func_Gres_RT(T=T,P=P,Z=ZL)\n",
    "        Gres_RT_V=func_Gres_RT(T=T,P=P,Z=ZV)\n",
    "        return Gres_RT_L-Gres_RT_V\n",
    "\n",
    "    Vinfi,Vsupi,Pinfi,Psupi,nlim=func_Plimits(T=T)\n",
    "    \n",
    "    #definir com limite superior uma pressão ligeiramente abaixo da pressão limite superior\n",
    "    #e ligeiramente acima da pressão limite inferior para garantir que existam três volumes nas condições teste\n",
    "    #não levar pressão negativa para o cálculo de pressão de saturação\n",
    "    Psupi=Psupi*.999999\n",
    "\n",
    "    if Pinfi > 0.:\n",
    "        Pinfi = Pinfi*1.000001\n",
    "    else:\n",
    "        Pinfi = Psupi/1e10\n",
    "    \n",
    "    P0a=Pinfi\n",
    "    P0b=Psupi\n",
    "    \n",
    "    Psati = opt.bisect(func_RES,P0a,P0b)\n",
    "    \n",
    "    return Psati"
   ]
  },
  {
   "cell_type": "code",
   "execution_count": 8,
   "metadata": {},
   "outputs": [],
   "source": [
    "def func_Tsat(P):\n",
    "    \n",
    "    def func_RES(T):\n",
    "        return func_Psat(T=T)-P\n",
    "\n",
    "    Tsati = opt.fsolve(func_RES,.99*Tc)[0]\n",
    "    \n",
    "    return Tsati"
   ]
  },
  {
   "cell_type": "code",
   "execution_count": 9,
   "metadata": {},
   "outputs": [],
   "source": [
    "def func_Hgi(T): #integral CpdT, considerando como temperatura de referência 298K\n",
    "    T0 = 298.\n",
    "    Hgi = R * (A1 * (T - T0) + (B1 / 2) * (T ** 2 - T0 ** 2) + (C1 / 3) * (T ** 3 - T0 ** 3) + (D1) * (\n",
    "                    T ** (-1) - T0 ** (-1)))\n",
    "    return Hgi\n",
    "\n",
    "#calculo de Hreal considerando como temperatura de referência 298K\n",
    "def func_Hreal(T,P,Z):\n",
    "    Hres=func_Hres(T=T,P=P,Z=Z)\n",
    "    Hgi=func_Hgi(T=T)\n",
    "    return Hres+Hgi\n",
    "\n",
    "def func_dadT(T): #definição de da/dT\n",
    "    Tr = T/Tc\n",
    "    dadT = (-0.45724*(R*Tc)**2/Pc)*f_omega*((1+f_omega*(1-Tr**.5))**2/(Tc*T))**.5  \n",
    "    return dadT\n",
    "\n",
    "def func_Hres(T,P,Z): #definição de Hres (A=U-TS; H=U+PV :. H=A+PV+TS)\n",
    "    B=(b*P)/(R*T)\n",
    "    a=func_a(T=T)\n",
    "    dadT=func_dadT(T=T)    \n",
    "    T1=np.sqrt(u**2-4*w)    \n",
    "    Hres = ((a-T*dadT)/(b*T1))*np.log( (2*Z+B*(u-T1))/(2*Z+B*(u+T1)) ) + R*T*(Z-1)\n",
    "    return Hres"
   ]
  },
  {
   "cell_type": "code",
   "execution_count": 10,
   "metadata": {},
   "outputs": [],
   "source": [
    "def func_Sres(T,P,Z): #cálculo da S residual\n",
    "    B=b*P/(R*T)\n",
    "    dadT=func_dadT(T=T)\n",
    "    T1=np.sqrt(u**2-4*w)\n",
    "    Sres = R*np.log(Z-B) - (dadT/(b*T1))*np.log( (2*Z+B*(u-T1))/(2*Z+B*(u+T1)) )\n",
    "    return Sres\n",
    "\n",
    "def func_Sgi(T,P): #cálculo da S gas ideal usando integral Cp/T dT e ln(P/P0)\n",
    "    #considerando como temperatura de referência 298K e pressao de referencia 1 bar\n",
    "    T0=298. #K\n",
    "    P0=1e5 #Pa\n",
    "    Sgi = R * (A1 * np.log(T / T0) + B1 * (T - T0) + (C1 / 2) * (T ** 2 - T0 ** 2) - (D1 / 2) * (\n",
    "                T ** (-2) - T0 ** (-2))) - R * np.log(P / P0)\n",
    "    return Sgi\n",
    "\n",
    "def func_Sreal(T,P,Z):\n",
    "    #considerando como temperatura de referência 298K e pressao de referencia 1 bar\n",
    "    Sgi = func_Sgi(T=T,P=P)\n",
    "    Sres = func_Sres(T=T,P=P,Z=Z)\n",
    "    Sreal = Sres+Sgi\n",
    "    return Sreal"
   ]
  },
  {
   "cell_type": "code",
   "execution_count": 11,
   "metadata": {},
   "outputs": [],
   "source": [
    "#Cálculo de T através de Van der Waals\n",
    "from scipy.optimize import fsolve\n",
    "\n",
    "  \n",
    "def func_T_cubic(P,Vm):\n",
    "    from scipy.optimize import fsolve\n",
    "    \n",
    "    def T_guess(P,Vm):\n",
    "        a=func_a(T=Tc)\n",
    "        return (P + a/(Vm**2 + u*b*Vm + w*b**2) )*(Vm-b)/R\n",
    "\n",
    "    def RES(T):\n",
    "        return P-func_P_cubic(T=T,Vm=Vm)\n",
    "\n",
    "    T=fsolve(func=RES,x0=T_guess(P=P,Vm=max(Vm,b*1.01)))[0]\n",
    "\n",
    "    return T"
   ]
  },
  {
   "cell_type": "markdown",
   "metadata": {},
   "source": [
    "# Resolução"
   ]
  },
  {
   "cell_type": "markdown",
   "metadata": {},
   "source": [
    "# Água"
   ]
  },
  {
   "cell_type": "code",
   "execution_count": 12,
   "metadata": {},
   "outputs": [],
   "source": [
    "Tc= 647.1 #K\n",
    "Pc= 220.55e5 #Pa\n",
    "omega= 0.345 #fator acêntrico, adimensional\n",
    "\n",
    "#Cp\n",
    "A1 = 3.470\n",
    "B1 = 1.450E-3\n",
    "C1 = 0\n",
    "D1 = 0.121E5"
   ]
  },
  {
   "cell_type": "markdown",
   "metadata": {},
   "source": [
    "# Soave"
   ]
  },
  {
   "cell_type": "code",
   "execution_count": 13,
   "metadata": {},
   "outputs": [],
   "source": [
    "u=1\n",
    "w=0\n",
    "\n",
    "b=(0.08664*R*Tc)/Pc\n",
    "ac=0.42748*R**2*Tc**2/Pc\n",
    "\n",
    "f_omega = 0.48 + 1.574*omega-0.176*omega**2"
   ]
  },
  {
   "cell_type": "code",
   "execution_count": 14,
   "metadata": {},
   "outputs": [
    {
     "name": "stdout",
     "output_type": "stream",
     "text": [
      "100000.0 2320.3421011955475\n",
      "2.38440718022e-05\n",
      "0.000962396725595\n",
      "-48120.4198976\n",
      "-130.193447862\n",
      "100000.0\n",
      "375.28437635\n",
      "0.030944366075\n",
      "0.991770270266\n",
      "2401.92097576\n",
      "7.67017182151\n",
      "50522.3408733\n",
      "137.863619683\n",
      "5052234.08733\n",
      "649.297169493\n",
      "11656.907864\n"
     ]
    }
   ],
   "source": [
    "T1=298\n",
    "P1=1e5\n",
    "M1=100\n",
    "\n",
    "PSAT1=func_Psat(T=T1)\n",
    "print(P1,PSAT1)\n",
    "#P1>PSAT1 :. CORRENTE 1 É LÍQUIDO\n",
    "\n",
    "VL1,VV1,n1=func_VL_VV_cubic(T=T1,P=P1)\n",
    "V1=VL1\n",
    "print(V1)\n",
    "#VOLUME 1 = VOLUME DE LÍQUIDO\n",
    "\n",
    "Z1=P1*V1/(R*T1) #NÃO ESQUECER ESSE PARÊNTESES\n",
    "print(Z1)\n",
    "\n",
    "H1=func_Hreal(T=T1,P=P1,Z=Z1)\n",
    "print(H1)\n",
    "\n",
    "S1=func_Sreal(T=T1,P=P1,Z=Z1)\n",
    "print(S1)\n",
    "\n",
    "P2=P1\n",
    "print(P2)\n",
    "#processo isobarico no evaporador\n",
    "\n",
    "T2=func_Tsat(P=P2)\n",
    "print(T2)\n",
    "#dado vapor saturado após o evaporador\n",
    "\n",
    "VL2,VV2,n2=func_VL_VV_cubic(T=T2,P=P2)\n",
    "V2=VV2\n",
    "print(V2)\n",
    "#VOLUME 2 = VOLUME DE vapor\n",
    "\n",
    "Z2=P2*V2/(R*T2)\n",
    "print(Z2)\n",
    "\n",
    "H2=func_Hreal(T=T2,P=P2,Z=Z2)\n",
    "print(H2)\n",
    "\n",
    "S2=func_Sreal(T=T2,P=P2,Z=Z2)\n",
    "print(S2)\n",
    "\n",
    "DH21=H2-H1\n",
    "print(DH21)\n",
    "DS21=S2-S1\n",
    "print(DS21)\n",
    "\n",
    "Q=M1*DH21\n",
    "print(Q)\n",
    "\n",
    "P3=1e6\n",
    "S3=S2\n",
    "\n",
    "def RES(T3):\n",
    "    VL3,VV3,n3=func_VL_VV_cubic(T=T3,P=P3)\n",
    "    Z3=P3*VV3/(R*T3)\n",
    "    return func_Sreal(T=T3,P=P3,Z=Z3)-S3\n",
    "\n",
    "\n",
    "T3 = opt.fsolve(RES,T2)[0]\n",
    "print(T3)\n",
    "\n",
    "VL3,VV3,n3=func_VL_VV_cubic(T=T3,P=P3)\n",
    "V3=VV3\n",
    "Z3=P3*V3/(R*T3)\n",
    "H3=func_Hreal(T=T3,P=P3,Z=Z3)\n",
    "print(H3)\n",
    "\n",
    "DH32=H3-H2\n",
    "DS32=S3-S2\n",
    "W=M1*DH32"
   ]
  },
  {
   "cell_type": "markdown",
   "metadata": {},
   "source": [
    "# Gráficos (extra)"
   ]
  },
  {
   "cell_type": "markdown",
   "metadata": {},
   "source": [
    "## envelope"
   ]
  },
  {
   "cell_type": "code",
   "execution_count": 15,
   "metadata": {},
   "outputs": [],
   "source": [
    "Ttest=T1\n",
    "nV=100\n",
    "minV=b*1.01\n",
    "maxV=1e-1\n",
    "seqVm= np.logspace(np.log10(minV),np.log10(maxV),nV)\n",
    "\n",
    "seqPt1=np.zeros(nV)\n",
    "seqPt2=np.zeros(nV)\n",
    "seqPt3=np.zeros(nV)\n",
    "for i in range(nV):\n",
    "    seqPt1[i]=func_P_cubic(T=T1,Vm=seqVm[i])\n",
    "    seqPt2[i]=func_P_cubic(T=T2,Vm=seqVm[i])\n",
    "    seqPt3[i]=func_P_cubic(T=T3,Vm=seqVm[i])\n",
    "\n",
    "nPsat=100\n",
    "seqT3=np.linspace(Tc/3,Tc*.99,nPsat)\n",
    "seqP3=np.zeros(nPsat)\n",
    "for i in range(nPsat):\n",
    "    seqP3[i]=func_Psat(seqT3[i])\n",
    "\n",
    "VL_seq=np.zeros(nPsat)\n",
    "VV_seq=np.zeros(nPsat)\n",
    "nV_seq=np.zeros(nPsat)\n",
    "for i in range(nPsat):\n",
    "    VL_seq[i],VV_seq[i],nV_seq[i]=func_VL_VV_cubic(T=seqT3[i],P=seqP3[i])\n",
    "    \n",
    "Psat_test = func_Psat(T=Ttest)\n"
   ]
  },
  {
   "cell_type": "code",
   "execution_count": 16,
   "metadata": {},
   "outputs": [
    {
     "name": "stdout",
     "output_type": "stream",
     "text": [
      "7.9821967968e-05 7.9821967968e-05 1\n"
     ]
    }
   ],
   "source": [
    "vl,vv,n = func_VL_VV_cubic(T=Tc,P=Pc)\n",
    "print(vl,vv,n)\n",
    "vc=vv"
   ]
  },
  {
   "cell_type": "code",
   "execution_count": 17,
   "metadata": {},
   "outputs": [
    {
     "data": {
      "image/png": "[encoded data removed]",
      "text/plain": [
       "<Figure size 432x288 with 1 Axes>"
      ]
     },
     "metadata": {},
     "output_type": "display_data"
    }
   ],
   "source": [
    "plt.plot(seqVm,seqPt1,label='{0:.0f}'.format(T1)+' K') #create a logarithm vs logarithm scale plot of pressure vs volume, using the function pressure in each value of the volume list\n",
    "plt.plot(seqVm,seqPt2,label='{0:.0f}'.format(T2)+' K') #create a logarithm vs logarithm scale plot of pressure vs volume, using the function pressure in each value of the volume list\n",
    "plt.plot(seqVm,seqPt3,label='{0:.0f}'.format(T3)+' K') #create a logarithm vs logarithm scale plot of pressure vs volume, using the function pressure in each value of the volume list\n",
    "plt.ylabel(r'$P / \\mathrm{Pa}$') #create labels to be displayed in y axis of the plot\n",
    "plt.xlabel(r'${V} / \\mathrm{m^{3}mol^{-1}}$') #use matplotlib's  mathtext to create special symbols in the x label\n",
    "plt.ylim(1e3,1e9)#define max and min limits of the y axis only to the positive pressure range. remember that this plot is in logarithm scale and it does not accept negative values.\n",
    "plt.xlim(b,1e-1) #define max and min limits of the x axis\n",
    "plt.xscale('log')\n",
    "plt.yscale('log')\n",
    "\n",
    "plt.plot(VL_seq,seqP3, color='y')\n",
    "plt.plot(VV_seq,seqP3, color='y')\n",
    "\n",
    "\n",
    "plt.axhline(func_Psat(T1),color='black',ls=':')\n",
    "plt.axhline(func_Psat(T2),color='black',ls=':')\n",
    "\n",
    "plt.scatter(vc,Pc,color='y',label=r'$(V_{C},P_{C})$')\n",
    "\n",
    "plt.scatter(V1,P1,label='1',zorder=10)\n",
    "plt.scatter(V2,P2,label='2',zorder=10)\n",
    "plt.scatter(V3,P3,label='3',zorder=10)\n",
    "\n",
    "plt.legend()\n",
    "\n",
    "\n",
    "\n",
    "plt.show()"
   ]
  },
  {
   "cell_type": "markdown",
   "metadata": {},
   "source": [
    "# diagrama de fases no envelope P versus H"
   ]
  },
  {
   "cell_type": "code",
   "execution_count": 18,
   "metadata": {},
   "outputs": [],
   "source": [
    "#CALCULAR H PARA CADA TSAT/PSAT/VSATL E TSAT/PSAT/VSATV\n",
    "\n",
    "HL_seq=np.zeros(nPsat)\n",
    "HV_seq=np.zeros(nPsat)\n",
    "for i in range(nPsat):\n",
    "    VL,VV,nV=func_VL_VV_cubic(T=seqT3[i],P=seqP3[i])\n",
    "    ZL=seqP3[i]*VL/(R*seqT3[i])\n",
    "    ZV=seqP3[i]*VV/(R*seqT3[i])\n",
    "    HL_seq[i]=func_Hreal(T=seqT3[i],P=seqP3[i],Z=ZL)\n",
    "    HV_seq[i]=func_Hreal(T=seqT3[i],P=seqP3[i],Z=ZV)"
   ]
  },
  {
   "cell_type": "code",
   "execution_count": 19,
   "metadata": {},
   "outputs": [],
   "source": [
    "Ttest=T1\n",
    "\n",
    "#CALCULAR H PARA seqV DADO T\n",
    "nV=10000\n",
    "seq_V= np.logspace(np.log10(b*1.11),6+np.log10(R*Tc/Pc),nV)\n",
    "seq_P=np.zeros(nV)\n",
    "seq_H=np.zeros(nV)\n",
    "Z=np.zeros(nV)\n",
    "for i in range(nV):\n",
    "    seq_P[i]= func_P_cubic(Ttest,seq_V[i])\n",
    "    Z[i]=(seq_P[i]*seq_V[i])/(R*Ttest)\n",
    "    seq_H[i]=func_Hreal(T=Ttest,P=seq_P[i],Z=Z[i])\n",
    "    \n",
    "Ttest=T2\n",
    "\n",
    "#CALCULAR H PARA seqV DADO T\n",
    "seq_P2=np.zeros(nV)\n",
    "seq_H2=np.zeros(nV)\n",
    "for i in range(nV):\n",
    "    seq_P2[i]= func_P_cubic(Ttest,seq_V[i])\n",
    "    Z[i]=(seq_P2[i]*seq_V[i])/(R*Ttest)\n",
    "    seq_H2[i]=func_Hreal(T=Ttest,P=seq_P2[i],Z=Z[i])\n",
    "    \n",
    "Ttest=T3\n",
    "\n",
    "#CALCULAR H PARA seqV DADO T\n",
    "seq_P3=np.zeros(nV)\n",
    "seq_H3=np.zeros(nV)\n",
    "for i in range(nV):\n",
    "    seq_P3[i]= func_P_cubic(Ttest,seq_V[i])\n",
    "    Z[i]=(seq_P3[i]*seq_V[i])/(R*Ttest)\n",
    "    seq_H3[i]=func_Hreal(T=Ttest,P=seq_P3[i],Z=Z[i])    "
   ]
  },
  {
   "cell_type": "code",
   "execution_count": 20,
   "metadata": {},
   "outputs": [],
   "source": [
    "Hrealc=func_Hreal(T=Tc,P=Pc,Z=Pc*vc/(R*Tc))"
   ]
  },
  {
   "cell_type": "code",
   "execution_count": 21,
   "metadata": {},
   "outputs": [
    {
     "data": {
      "image/png": "[encoded data removed]",
      "text/plain": [
       "<Figure size 432x288 with 1 Axes>"
      ]
     },
     "metadata": {},
     "output_type": "display_data"
    }
   ],
   "source": [
    "plt.plot(seq_H,seq_P,label='{0:.0f}'.format(T1)+' K')\n",
    "plt.plot(seq_H2,seq_P2,label='{0:.0f}'.format(T2)+' K')\n",
    "plt.plot(seq_H3,seq_P3,label='{0:.0f}'.format(T3)+' K')\n",
    "plt.yscale('log')\n",
    "plt.ylabel(r'$P (\\mathrm{Pa})$')\n",
    "plt.xlabel(r'${H} (\\mathrm{J/Kg)}})$')\n",
    "\n",
    "plt.plot(HL_seq,seqP3, color='y')\n",
    "plt.plot(HV_seq,seqP3, color='y')\n",
    "plt.yscale('log')\n",
    "plt.ylabel(r'$P (\\mathrm{Pa})$')\n",
    "plt.xlabel(r'${H} (\\mathrm{J/kg})$')\n",
    "plt.xlim(-80000,20000)\n",
    "plt.ylim(1e2,1e8)\n",
    "\n",
    "plt.scatter(Hrealc,Pc, color='y',label=r'$(H_{C},P_{C})$')\n",
    "plt.axhline(Psat_test,color='black',ls=':')\n",
    "plt.axhline(P2,color='black',ls=':')\n",
    "\n",
    "\n",
    "plt.scatter(H1,P1,label='1')\n",
    "plt.scatter(H2,P2,label='2')\n",
    "plt.scatter(H3,P3,label='3')\n",
    "\n",
    "plt.legend()\n",
    "\n",
    "plt.show()"
   ]
  },
  {
   "cell_type": "code",
   "execution_count": null,
   "metadata": {},
   "outputs": [],
   "source": []
  },
  {
   "cell_type": "code",
   "execution_count": 22,
   "metadata": {},
   "outputs": [],
   "source": [
    "# envelope\n",
    "#CALCULAR S PARA CADA TSAT/PSAT/VSATL E TSAT/PSAT/VSATV\n",
    "SL_seq=np.zeros(nPsat)\n",
    "SV_seq=np.zeros(nPsat)\n",
    "for i in range(nPsat):\n",
    "    VL,VV,nV=func_VL_VV_cubic(T=seqT3[i],P=seqP3[i])\n",
    "    ZL=seqP3[i]*VL/(R*seqT3[i])\n",
    "    ZV=seqP3[i]*VV/(R*seqT3[i])\n",
    "    SL_seq[i]=func_Sreal(T=seqT3[i],P=seqP3[i],Z=ZL)\n",
    "    SV_seq[i]=func_Sreal(T=seqT3[i],P=seqP3[i],Z=ZV)\n",
    "    \n"
   ]
  },
  {
   "cell_type": "code",
   "execution_count": 23,
   "metadata": {},
   "outputs": [],
   "source": [
    "# isobaras\n",
    "\n",
    "Ptest=P1\n",
    "nV=1000\n",
    "\n",
    "\n",
    "seq_T=np.zeros(nV)\n",
    "seq_S=np.zeros(nV)\n",
    "Z=np.zeros(nV)\n",
    "\n",
    "seq_V= np.logspace(np.log10(b*1.11),4+np.log10(R*Tc/Pc),nV)\n",
    "\n",
    "for i in range(nV): #para cada volume terá um valor de T e um de S\n",
    "    seq_T[i]= func_T_cubic(P=Ptest,Vm=seq_V[i])\n",
    "    Z[i]=(Ptest*seq_V[i])/(R*seq_T[i])\n",
    "    seq_S[i]=func_Sreal(T=seq_T[i],P=Ptest,Z=Z[i])\n",
    "    \n",
    "# isobaras\n",
    "\n",
    "Ptest=P3\n",
    "\n",
    "seq_T2=np.zeros(nV)\n",
    "seq_S2=np.zeros(nV)\n",
    "\n",
    "for i in range(nV): #para cada volume terá um valor de T e um de S\n",
    "    seq_T2[i]= func_T_cubic(P=Ptest,Vm=seq_V[i])\n",
    "    Z[i]=(Ptest*seq_V[i])/(R*seq_T2[i])\n",
    "    seq_S2[i]=func_Sreal(T=seq_T2[i],P=Ptest,Z=Z[i])"
   ]
  },
  {
   "cell_type": "code",
   "execution_count": 24,
   "metadata": {},
   "outputs": [],
   "source": [
    "Srealc=func_Sreal(T=Tc,P=Pc,Z=Pc*vc/(R*Tc))"
   ]
  },
  {
   "cell_type": "code",
   "execution_count": 25,
   "metadata": {},
   "outputs": [
    {
     "data": {
      "image/png": "[encoded data removed]",
      "text/plain": [
       "<Figure size 432x288 with 1 Axes>"
      ]
     },
     "metadata": {},
     "output_type": "display_data"
    }
   ],
   "source": [
    "plt.plot(SL_seq,seqT3, color='y')\n",
    "plt.plot(SV_seq,seqT3, color='y')\n",
    "\n",
    "\n",
    "plt.ylabel(r'$T (\\mathrm{K})$') \n",
    "plt.xlabel(r'${S} (\\mathrm{J/kg})$')\n",
    "plt.xlim(-150,50)\n",
    "plt.ylim(50,1000)\n",
    "plt.scatter(Srealc,Tc, color='y',label=r'$(S_{C},T_{C})$')\n",
    "plt.axhline(func_Tsat(P=P1),color='black',ls=':')\n",
    "plt.axhline(func_Tsat(P=P3),color='black',ls=':')\n",
    "#isobara\n",
    "plt.plot(seq_S,seq_T,label='{0:.1f}'.format(P1/1e5)+' bar')    \n",
    "plt.plot(seq_S2,seq_T2,label='{0:.1f}'.format(P3/1e5)+' bar')    \n",
    "\n",
    "plt.scatter(S1,T1,label='1')\n",
    "plt.scatter(S2,T2,label='2')\n",
    "plt.scatter(S3,T3,label='3')\n",
    "\n",
    "plt.legend()\n",
    "plt.show()\n"
   ]
  },
  {
   "cell_type": "markdown",
   "metadata": {},
   "source": [
    "# Referências\n",
    "\n",
    ">* Reid, R. C., Prausnitz, J. M. and Poling, B. E., 1987. The Properties of Gases and Liquids. 4th ed., McGraw-Hill. [ISBN: 0070517991, 9780070517998\n",
    "](https://books.google.com.br/books?id=AcRTAAAAMAAJ)\n",
    "\n",
    ">* Smith, J. M., van Ness, H. C. and Abbott, M. M., 2007. Introdução a termodinâmica da engenharia química. 7a ed., LTC. [ISBN: 8521615531, 9788521615538](https://books.google.com.br/books?id=TzeQPgAACAAJ)\n",
    "\n",
    "\n",
    ">* Topliss, R J., Dimitrelis D., and Prausnitz, J. M., 1988, “Computational Aspects of a Non-Cubic Equation of State for Phase-Equilibrium Calculations. Effect of Density-Dependent Mixing Rules.” Computers & Chemical Engineering 12 (5): 483–89. [doi:10.1016/0098-1354(88)85067-1](http://dx.doi.org/10.1016/0098-1354(88)85067-1)\n",
    "\n",
    ">* [numpy.roots ](https://docs.scipy.org/doc/numpy/reference/generated/numpy.roots.html)\n",
    ">* [scipy.optimize.bisect](https://docs.scipy.org/doc/scipy/reference/generated/scipy.optimize.bisect.html)\n",
    ">* [scipy.optimize.fsolve](https://docs.scipy.org/doc/scipy/reference/generated/scipy.optimize.fsolve.html)"
   ]
  }
 ],
 "metadata": {
  "kernelspec": {
   "display_name": "Python [default]",
   "language": "python",
   "name": "python3"
  },
  "language_info": {
   "codemirror_mode": {
    "name": "ipython",
    "version": 3
   },
   "file_extension": ".py",
   "mimetype": "text/x-python",
   "name": "python",
   "nbconvert_exporter": "python",
   "pygments_lexer": "ipython3",
   "version": "3.6.3"
  }
 },
 "nbformat": 4,
 "nbformat_minor": 2
}
