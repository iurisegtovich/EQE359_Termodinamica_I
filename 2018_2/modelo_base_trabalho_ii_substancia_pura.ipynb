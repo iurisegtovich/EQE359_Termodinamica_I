{
 "cells": [
  {
   "cell_type": "markdown",
   "metadata": {},
   "source": [
    "UFRJ/EQ, Agosto de 2018.\n",
    "\n",
    "# Cálculo de equilíbrio líquido-vapor de substância pura com equação de estado cúbica.\n",
    "\n",
    "> Aluna/Aluno:"
   ]
  },
  {
   "cell_type": "markdown",
   "metadata": {},
   "source": [
    "# Introdução\n",
    "\n",
    "* objetivos ...\n",
    "\n",
    "* sistema de interesse ...\n",
    "\n"
   ]
  },
  {
   "cell_type": "markdown",
   "metadata": {},
   "source": [
    "# Metodologia\n",
    "\n",
    "1. [ ] Programar a forma P(T,V) da equação de Peng e Robinson (Reid, Prausnitz & Poling, 1987 - pp 42, 43)\n",
    "  1. [ ] Buscar parâmetros de componente puro (Smith, van Ness & Abbott, 2007, pp 507, 508, 509)\n",
    "  2. [ ] Cálculo em sequência de P versus sequência de V para dados T igual, abaixo e acima da temperatura crítica.\n",
    "  3. [ ] Desenhar isotermas no plano P versus V\n",
    "2. [ ] Programar a forma V(P,T) da equação de estado usando método de solução de raiz de polinômios (numpy.roots)\n",
    "  1. [ ] Implementar lógica de classificação de raízes de volume (líquido, vapor, intermediária e não física)\n",
    "  2. [ ] Comparar calculos pontuais com as isotermas já desenhadas\n",
    "3. [ ] Programação de pressão limite superior e inferior para faixa de busca do cálculo de pressão de saturação (baseado em Topliss, Dimitrelis & Prausnitz, 1988)\n",
    "  1. [ ] Comparar cálculos pontuais com as isotermas\n",
    "4. [ ] Programação de energia de Gibbs residual (Reid, Prausnitz & Poling, 1987, pp 102)\n",
    "  1. [ ] Cálculo em sequência de G{RES,L} e sequência G{RES,V} versus sequência P para dado T.\n",
    "  2. [ ] Desenhar G{RES,L} e G{RES,V} versus P para dado T e verificar existência de solução para o critério de equilíbrio de fases (igualdade de potencial químico para o componente entre fase líquida e vapor) na temperatura dada.\n",
    "5. [ ] Programação de resolução da pressão de saturação usando método de bisseção (scipy.optimize.bisect)\n",
    "  1. [ ] Cálculo em sequência de pressão de saturação (P{SAT}) versus sequência de T\n",
    "  2. [ ] Desenhar P{SAT} versus T (Smith, van ness, Abbott, 2007, pp 48 – parte líquido-vapor)\n",
    "  3. [ ] Programar correlação de Antoine e comparar, no gráfico, os resultados da correlação com os resultados da equação de estado (Smith, van ness, Abbott, 2007, pp 510)\n",
    "6. [ ] Geração do envelope de fases no plano P versus V (Smith, van Ness & Abbott, 2007, pp 67)\n",
    "  1. [ ] Cálculo em sequência de volumes de líquido e volumes de vapor para cada par (T,P) na curva de P{SAT}\n",
    "  2. [ ] Desenhar envelope de fases no diagrama P versus V (curva P{SAT} vs V{L} e curva P{SAT} vs V{V}) (Smith van Ness Abbott, 2007, pp 67)\n",
    "  3. [ ] desenhar algumas isotermas no mesmo gráfico (curva P(T,V) vs V)\n",
    "7. [ ] Programação e diagrama de entalpia e entropia residuais\n",
    "  1. [ ] Implementar H_res e S_res (Reid, Prausnitz & Poling, 1987, pp 102)\n",
    "  2. [ ] Testar pontualmente (H_res e S_res a baixa pressão - comportamento de gás ideal?)\n",
    "  3. [ ] Geração dos envelope de fases nos planos P versus H (Smith, van Ness & Abbott, 2007, pp 168 – parte líquido-vapor)\n",
    "    1. [ ] Cálculo em sequência de entalpia residual de líquido e de vapor para cada par (T,P) na curva de P{SAT}\n",
    "    2. [ ] Desenhar envelope de fases no diagrama P versus H{RES}  (curva P{SAT} vs Hres{L} e curva P{SAT} vs Hres{V}) \n",
    "    3. [ ] Implementar cálculo de Cp de gás ideal (Smith van ness abbott 2007, pp 119, 635)\n",
    "    4. [ ] Calcular H de gás ideal em relação a uma temperatura de referência T0\n",
    "    5. [ ] Calcular H de gás e líquido real em relação a essa temperatura de referência T0\n",
    "    6. [ ] Desenhar envelope de fases no diagrama P versus H (curva P{SAT} vs Hreal{L} e curva P{SAT} vs Hreal{V}) \n",
    "    7. [ ] Calcular e desenhar algumas isotermas no diagrama P versus H\n",
    "        1. [ ] Usar a mesma sequência de volumes utilizada para isotermas no gráfico P vs V, para dada temperatura: para cada volume: calcular pressão, e daí calcular entalpia residual, gas ideal e real,(desenhar curva P(T,V) vs H(T,V))\n",
    "  4. [ ] Geração dos envelope de fases nos planos T versus S (Smith, van Ness & Abbott, 2007, pp 168  – parte líquido-vapor)\n",
    "    1. [ ] Cálculo em sequência de entropia residual de líquido e de vapor para cada par (T,P) na curva de P{SAT}\n",
    "    2. [ ] Desenhar envelope de fases no diagrama P versus S{RES}  (curva P{SAT} vs Sres{L} e curva P{SAT} vs Sres{V}) \n",
    "    3. [ ] Implementar cálculo de Cp de gás ideal (Smith van ness abbott 2007, pp 119, 635)\n",
    "    4. [ ] Calcular S de gás ideal em relação a uma temperatura de referência T0\n",
    "    5. [ ] Calcular S de gás e líquido real em relação a essa temperatura de referência T0\n",
    "    6. [ ] Desenhar envelope de fases no diagrama P versus S (curva P{SAT} vs Sreal{L} e curva P{SAT} vs Sreal{V}) \n",
    "    7. [ ] Implementar cálculo de isóbaras (dado P e V calcular T)\n",
    "        1. [ ] Implementar cálculo de T dado P e v para van der waals (analítico)\n",
    "        2. [ ] Implementar solução numérica usando a solução de van der waals como estimativa inicial (scipy.optimize.fsolve)\n",
    "        3. [ ] Usar a mesma sequência de volumes utilizada para isotermas no gráfico P vs V, para dada pressão: para cada volume: calcular temperatura, e daí calcular entropia residual, gas ideal e real, (desenhar curva T(P,V) vs S(T,V))"
   ]
  },
  {
   "cell_type": "markdown",
   "metadata": {},
   "source": [
    "# Referências\n",
    "\n",
    ">* Reid, R. C., Prausnitz, J. M. and Poling, B. E., 1987. The Properties of Gases and Liquids. 4th ed., McGraw-Hill. [ISBN: 0070517991, 9780070517998\n",
    "](https://books.google.com.br/books?id=AcRTAAAAMAAJ)\n",
    "\n",
    ">* Smith, J. M., van Ness, H. C. and Abbott, M. M., 2007. Introdução a termodinâmica da engenharia química. 7a ed., LTC. [ISBN: 8521615531, 9788521615538](https://books.google.com.br/books?id=TzeQPgAACAAJ)\n",
    "\n",
    "\n",
    ">* Topliss, R J., Dimitrelis D., and Prausnitz, J. M., 1988, “Computational Aspects of a Non-Cubic Equation of State for Phase-Equilibrium Calculations. Effect of Density-Dependent Mixing Rules.” Computers & Chemical Engineering 12 (5): 483–89. [doi:10.1016/0098-1354(88)85067-1](http://dx.doi.org/10.1016/0098-1354(88)85067-1)\n",
    "\n",
    ">* [numpy.roots ](https://docs.scipy.org/doc/numpy/reference/generated/numpy.roots.html)\n",
    ">* [scipy.optimize.bisect](https://docs.scipy.org/doc/scipy/reference/generated/scipy.optimize.bisect.html)\n",
    ">* [scipy.optimize.fsolve](https://docs.scipy.org/doc/scipy/reference/generated/scipy.optimize.fsolve.html)"
   ]
  },
  {
   "cell_type": "code",
   "execution_count": null,
   "metadata": {},
   "outputs": [],
   "source": []
  }
 ],
 "metadata": {
  "kernelspec": {
   "display_name": "Python [default]",
   "language": "python",
   "name": "python3"
  },
  "language_info": {
   "codemirror_mode": {
    "name": "ipython",
    "version": 3
   },
   "file_extension": ".py",
   "mimetype": "text/x-python",
   "name": "python",
   "nbconvert_exporter": "python",
   "pygments_lexer": "ipython3",
   "version": "3.6.3"
  }
 },
 "nbformat": 4,
 "nbformat_minor": 2
}
