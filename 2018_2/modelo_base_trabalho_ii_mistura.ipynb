{
 "cells": [
  {
   "cell_type": "markdown",
   "metadata": {},
   "source": [
    "UFRJ/EQ, Agosto de 2018.\n",
    "\n",
    "# Cálculo de equilíbrio líquido-vapor de mistura com equação de estado cúbica.\n",
    "\n",
    "> Aluna/Aluno:"
   ]
  },
  {
   "cell_type": "markdown",
   "metadata": {},
   "source": [
    "# Introdução\n",
    "\n",
    "* objetivos ...\n",
    "\n",
    "* sistema de interesse ...\n",
    "\n"
   ]
  },
  {
   "cell_type": "markdown",
   "metadata": {},
   "source": [
    "# Metodologia\n",
    "\n",
    "1. [ ] Programação da forma P(T,V,x) para misturas usando a equação de Peng e Robinson (Reid,\n",
    "Prausnitz & Poling, 1987 - pp 42, 43)\n",
    "  1. [ ] Programar a regra de combinação e mistura clássica (Reid, Prausnitz & Poling, 1987 -\n",
    "pp 82)\n",
    "    1. [ ] usar k_ij= 0\n",
    "\n",
    "  1. Cálculo em sequência de P versus sequência de V para algumas T dadas (como na parte I) para para mistura com uma composição rica no componente mais pesado.\n",
    "    1. Desenhar isotermas no plano P versus V para essa composição\n",
    "  1. Repetir cálculos para mistura com uma composição rica no componente mais leve.\n",
    "    1. Desenhar isotermas no plano P versus V para essa composição\n",
    "\n",
    "1. Programação da forma V(T,P,x)\n",
    "  1. Adaptar a função de cálculo de volume da parte I para trabalhar com a equação de estado\n",
    "para mistura.\n",
    "    1. Definir coeficientes da forma cúbica da equação de estado e resolver usando método\n",
    "de solução de raiz de polinômios (numpy.roots)\n",
    "    2. Implementar lógica de classificação de raízes de volume (líquido, vapor,\n",
    "intermediária e não física)\n",
    "  2. Comparar calculos pontuais com as isotermas no gráfico P versus V (como na parte I)\n",
    "\n",
    "1. [ ] Programação de coeficientes de fugacidade na mistura (Reid, Prausnitz & Poling, 1987, pp\n",
    "144, 145)\n",
    "    1. [ ] testar caso limite\n",
    "        1. [ ] se coeficientes de fugacidade para raiz de volume de gas a baixa pressão são\n",
    "próximos à 1 - comportamento de gás ideal.\n",
    "        2. [ ] se coeficientes de fugacidade no caso de numero de componentes\n",
    "ser 1 dá igual à exp(G{RES}/(RT)) da primeira parte do trabalho.\n",
    "4. [ ] programação de resolução da pressão de ponto de bolha\n",
    "\n",
    "  1. Implementar algoritmo de pressão de ponto de bolha\n",
    "(ver anexo: Sandler, 2017, pp 561, 562)\n",
    "  2. Testar se para composição próximo a puro ( [1,0] e [0,1] o valor de ponto de bolha dá\n",
    "próximo a pressão de saturação de cada puro calculada da forma da parte I )\n",
    "  3. Cálculo em sequência de pressão de bolha (\n",
    " ) e composição da fase vapor (y)\n",
    "versus uma sequência de x para dada T\n",
    "\n",
    "5. [ ] Geração do envelope de fases para uma mistura binária no plano P versus x_1 (Smith, van\n",
    "Ness & Abbott, 2007, pp 260)\n",
    "  1. [ ] Desenhar P versus x_1 para dado T: curva de ponto de bolha\n",
    "  2. [ ] Desenhar P versus y_1 para dado T: curva de ponto de orvalho\n"
   ]
  },
  {
   "cell_type": "markdown",
   "metadata": {},
   "source": [
    "# Referências\n",
    "\n",
    ">* Reid, R. C., Prausnitz, J. M. and Poling, B. E., 1987. The Properties of Gases and Liquids. 4th ed., McGraw-Hill. [ISBN: 0070517991, 9780070517998\n",
    "](https://books.google.com.br/books?id=AcRTAAAAMAAJ)\n",
    "\n",
    ">* Smith, J. M., van Ness, H. C. and Abbott, M. M., 2007. Introdução a termodinâmica da engenharia química. 7a ed., LTC. [ISBN: 8521615531, 9788521615538](https://books.google.com.br/books?id=TzeQPgAACAAJ)\n",
    "\n",
    ">* [numpy.roots ](https://docs.scipy.org/doc/numpy/reference/generated/numpy.roots.html)\n",
    ">* [scipy.optimize.bisect](https://docs.scipy.org/doc/scipy/reference/generated/scipy.optimize.bisect.html)\n",
    "\n",
    ">* Sandler S., 2006, Chemical, Biochemical, and Engineering Thermodynamics, 4th ed. John Wiley & Sons"
   ]
  }
 ],
 "metadata": {
  "kernelspec": {
   "display_name": "Python [default]",
   "language": "python",
   "name": "python3"
  },
  "language_info": {
   "codemirror_mode": {
    "name": "ipython",
    "version": 3
   },
   "file_extension": ".py",
   "mimetype": "text/x-python",
   "name": "python",
   "nbconvert_exporter": "python",
   "pygments_lexer": "ipython3",
   "version": "3.6.3"
  }
 },
 "nbformat": 4,
 "nbformat_minor": 2
}
