{
 "cells": [
  {
   "cell_type": "markdown",
   "metadata": {},
   "source": [
    "UFRJ/EQ, Agosto de 2018.\n",
    "\n",
    "# Cálculo de equilíbrio líquido-vapor de substância pura com equação de estado cúbica.\n",
    "\n",
    "> Aluna/Aluno:"
   ]
  },
  {
   "cell_type": "markdown",
   "metadata": {},
   "source": [
    "# Introdução\n",
    "\n",
    "* objetivos ...\n",
    "\n",
    "* sistema de interesse ...\n",
    "\n"
   ]
  },
  {
   "cell_type": "markdown",
   "metadata": {},
   "source": [
    "# Metodologia\n",
    "\n",
    "1. [ ] programação $P(T,V)$ usando a **equação de Peng e Robinson** (Reid, Prausnitz & Poling, 1987 - pp 42, 43)\n",
    "  1. [ ] cálculo em sequência de $P$ versus sequência de $V$ para dados $T$\n",
    "  1. [ ] desenhar isotermas no plano $P$ versus $V$\n",
    "1. [x] programação $V(P,T)$ usando método de solução de raiz de polinômios (numpy.roots)\n",
    "  1. [x] implementar lógica de classificação de raízes de volume (líquido, vapor, intermediária e não física)\n",
    "  1. [ ] comparar calculos pontuais com as isotermas\n",
    "1. [x] programação de pressão limite superior e inferior para cálculo de equilibrio de fases (baseado em Topliss, Dimitrelis & Prausnitz, 1988)\n",
    "  1. [ ] comparar calculos pontuais com as isotermas\n",
    "1. [x] programação de energia de gibbs residual (Reid, Prausnitz & Poling, 1987)\n",
    "  1. [ ] cálculo em sequência $G^{\\mathrm{RES},L}$ e sequência $G^{\\mathrm{RES},V}$ versus sequência $P$ para dado $T$\n",
    "  1. [ ] desenhar $G^{\\mathrm{RES},L}$ e $G^{\\mathrm{RES},V}$ versus $P$ para dado $T$ e verificar existência de solução para o critério de equilíbrio de fases.\n",
    "1. [ ] programação de resolução da pressão de saturação usando método de bisseção (scipy.optimize.bisect)\n",
    "    1. [ ] cálculo em sequência de pressão de saturação versus sequência de $T$\n",
    "    1. [ ] desenhar $P^\\mathrm{SAT}$ versus $T$\n",
    "1. [ ] geração do envelope de fases no plano $P$ versus $V$ (Smith, van Ness & Abbott, 2007)\n",
    "    1. [ ] cálculo em sequência de volumes de líquido e olume de vapor para cada par $(T,P)$ na curva de $P^\\mathrm{SAT}$\n",
    "    1. [ ] desenhar envelope de fases no diagrama $P$ versus $V$ com algumas isotermas\n",
    "1. [ ] **programação de entalpia e entropia residuais (Reid, Prausnitz & Poling, 1987)**\n",
    "    1. [ ] **testar pontualmente**\n",
    "    1. [ ] **geração dos envelope de fases nos planos $T$ versus $S^\\mathrm{RES}$ e $P$ versus $H^\\mathrm{RES}$ (Smith, van Ness & Abbott, 2007)**\n",
    "    1. [ ] **cálculo em sequência de entalpia e entropia residuais de líquido e de vapor para cada par $(T,P)$ na curva de $P^\\mathrm{SAT}$**\n",
    "    1. [ ] **desenhar envelope de fases no diagrama T versus $S^\\mathrm{RES}$ com algumas isóbaras**\n",
    "    1. [ ] **desenhar envelope de fases no diagrama P versus $H^\\mathrm{RES}$ com algumas isotermas**\n",
    "    1. [ ] programar Cpig, hreal, sreal, desenhar graficos com hreal e sreal"
   ]
  },
  {
   "cell_type": "markdown",
   "metadata": {},
   "source": [
    "# Referências\n",
    "\n",
    ">* Reid, R. C., Prausnitz, J. M. and Poling, B. E., 1987. The Properties of Gases and Liquids. 4th ed., McGraw-Hill. [ISBN: 0070517991, 9780070517998\n",
    "](https://books.google.com.br/books?id=AcRTAAAAMAAJ)\n",
    "\n",
    ">* Smith, J. M., van Ness, H. C. and Abbott, M. M., 2007. Introdução a termodinâmica da engenharia química. 7a ed., LTC. [ISBN: 8521615531, 9788521615538](https://books.google.com.br/books?id=TzeQPgAACAAJ)\n",
    "\n",
    "\n",
    ">* Topliss, R J., Dimitrelis D., and Prausnitz, J. M., 1988, “Computational Aspects of a Non-Cubic Equation of State for Phase-Equilibrium Calculations. Effect of Density-Dependent Mixing Rules.” Computers & Chemical Engineering 12 (5): 483–89. [doi:10.1016/0098-1354(88)85067-1](http://dx.doi.org/10.1016/0098-1354(88)85067-1)\n",
    "\n",
    ">* [numpy.roots ](https://docs.scipy.org/doc/numpy/reference/generated/numpy.roots.html)\n",
    ">* [scipy.optimize.bisect](https://docs.scipy.org/doc/scipy/reference/generated/scipy.optimize.bisect.html)\n",
    ">* [scipy.optimize.fsolve](https://docs.scipy.org/doc/scipy/reference/generated/scipy.optimize.fsolve.html)"
   ]
  }
 ],
 "metadata": {
  "kernelspec": {
   "display_name": "Python [default]",
   "language": "python",
   "name": "python3"
  },
  "language_info": {
   "codemirror_mode": {
    "name": "ipython",
    "version": 3
   },
   "file_extension": ".py",
   "mimetype": "text/x-python",
   "name": "python",
   "nbconvert_exporter": "python",
   "pygments_lexer": "ipython3",
   "version": "3.6.3"
  }
 },
 "nbformat": 4,
 "nbformat_minor": 2
}
