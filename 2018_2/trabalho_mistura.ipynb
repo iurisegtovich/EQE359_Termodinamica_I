{
 "cells": [
  {
   "cell_type": "markdown",
   "metadata": {},
   "source": [
    "UFRJ/EQ, Agosto de 2018.\n",
    "\n",
    "# Cálculo de equilíbrio líquido-vapor de mistura com equação de estado cúbica.\n",
    "\n",
    "> Aluna/Aluno:"
   ]
  },
  {
   "cell_type": "markdown",
   "metadata": {},
   "source": [
    "# Introdução\n",
    "\n",
    "* objetivos ...\n",
    "\n",
    "* sistema de interesse ...\n",
    "\n"
   ]
  },
  {
   "cell_type": "markdown",
   "metadata": {},
   "source": [
    "1. [ ] Programação da forma P(T,V) para misturas usando a equação de Peng e Robinson (Reid,\n",
    "Prausnitz & Poling, 1987 - pp 42, 43)\n",
    "  1. [ ] Programar a regra de combinação e mistura clássica (Reid, Prausnitz & Poling, 1987 -\n",
    "pp 82)\n",
    "    1. [ ] usar k_ij= 0\n",
    "  2. [ ] cálculo em sequência de P versus sequência de V para dados T para uma composição\n",
    "rica em um componente pesado.\n",
    "  3. [ ] cálculo em sequência de P versus sequência de V para dados T para uma composição\n",
    "rica em um componente leve.\n",
    "  4. [ ] Desenhar isotermas no plano P versus V para uma composição ricaem um componente\n",
    "pesado\n",
    "  5. [ ] Desenhar isotermas no plano P versus V para uma composição rica em um componente\n",
    "leve\n",
    "2. [ ] Programação V(P,T) usando método de solução de raiz de polinômios (numpy.roots)\n",
    "  1. [ ] Implementar lógica de classificação de raízes de volume (líquido, vapor, intermediária e\n",
    "não física)\n",
    "  2. [ ] Comparar calculos pontuais com as isotermas\n",
    "3. [ ] Programação de coeficientes de fugacidade na mistura (Reid, Prausnitz & Poling, 1987, pp\n",
    "144, 145)\n",
    "    1. [ ] testar se coeficientes de fugacidade para raiz de volume de gas a baixa pressão são\n",
    "próximos à 1 (comportamento de gás ideal)?\n",
    "    2. [ ] testar se no caso limite: coeficientes de fugacidade no caso de numero de componentes\n",
    "ser 1 dá igual à exp(G{RES}/(RT)) da primeira parte do trabalho?\n",
    "4. [ ] programação de resolução da pressão de ponto de bolha (Sandler, 2017, pp 561, 562)\n",
    "  1. [ ] Cálculo em sequência de pressão de bolha e composição da fase vapor (y) versus\n",
    "sequência de x para dada T\n",
    "5. [ ] Geração do envelope de fases para uma mistura binária no plano P versus x_1 (Smith, van\n",
    "Ness & Abbott, 2007, pp 260)\n",
    "  1. [ ] Desenhar P versus x_1 para dado T: curva de ponto de bolha\n",
    "  2. [ ] Desenhar P versus y_1 para dado T: curva de ponto de orvalho\n",
    "6. [ ] Implementar resolução de pressão de ponto de orvalho (adaptação do algoritmo de Sandler,\n",
    "2017, pp 561, 562)\n",
    "  1. [ ] Diagrama de fases de mistura no plano P versus T (Smith, van Ness & Abbott, 2007, pp\n",
    "119)\n",
    "    1. [ ] Calcular sequência de ponto de bolha versus sequência de temperatura para uma\n",
    "mistura com uma composição definida rica no compoente leve\n",
    "    2. [ ] Calcular sequência de ponto de orvalho versus sequência de temperatura para uma\n",
    "mistura com composição definida rica no compoente pesado\n",
    "    3. [ ] Desenhar P{SAT} leve, P{SAT} pesado, P{BOLHA} mistura 1 e P{ORVALHO}\n",
    "mistura 1, P{BOLHA} mistura 2 e P{ORVALHO} mistura 2 no mesmo gráfico\n",
    "(plano P versus T)"
   ]
  },
  {
   "cell_type": "markdown",
   "metadata": {},
   "source": [
    "# Referências\n",
    "\n",
    ">* Reid, R. C., Prausnitz, J. M. and Poling, B. E., 1987. The Properties of Gases and Liquids. 4th ed., McGraw-Hill. [ISBN: 0070517991, 9780070517998\n",
    "](https://books.google.com.br/books?id=AcRTAAAAMAAJ)\n",
    "\n",
    ">* Smith, J. M., van Ness, H. C. and Abbott, M. M., 2007. Introdução a termodinâmica da engenharia química. 7a ed., LTC. [ISBN: 8521615531, 9788521615538](https://books.google.com.br/books?id=TzeQPgAACAAJ)\n",
    "\n",
    ">* [numpy.roots ](https://docs.scipy.org/doc/numpy/reference/generated/numpy.roots.html)\n",
    ">* [scipy.optimize.bisect](https://docs.scipy.org/doc/scipy/reference/generated/scipy.optimize.bisect.html)\n",
    "\n",
    ">* Sandler S., 2006, Chemical, Biochemical, and Engineering Thermodynamics, 4th ed. John Wiley & Sons"
   ]
  }
 ],
 "metadata": {
  "kernelspec": {
   "display_name": "Python [default]",
   "language": "python",
   "name": "python3"
  },
  "language_info": {
   "codemirror_mode": {
    "name": "ipython",
    "version": 3
   },
   "file_extension": ".py",
   "mimetype": "text/x-python",
   "name": "python",
   "nbconvert_exporter": "python",
   "pygments_lexer": "ipython3",
   "version": "3.6.3"
  }
 },
 "nbformat": 4,
 "nbformat_minor": 2
}
