{
 "cells": [
  {
   "cell_type": "markdown",
   "metadata": {},
   "source": [
    "UFRJ/EQ, Agosto de 2018.\n",
    "\n",
    "# Cálculo de equilíbrio líquido-vapor de mistura com equação de estado cúbica.\n",
    "\n",
    "> Aluna/Aluno:"
   ]
  },
  {
   "cell_type": "markdown",
   "metadata": {},
   "source": [
    "# Introdução\n",
    "\n",
    "* objetivos ...\n",
    "\n",
    "* sistema de interesse ...\n",
    "\n"
   ]
  },
  {
   "cell_type": "markdown",
   "metadata": {},
   "source": [
    "# Metodologia\n",
    "\n",
    "1. [ ] **programação $P(T,V)$ usando a equação de Peng e Robinson (Reid, Prausnitz & Poling, 1987 - pp 42, 43)**\n",
    "  1. [ ] **programar a regra de mistura (Reid, Prausnitz & Poling, 1987 - pp 82)**\n",
    "  1. [ ] **cálculo em sequência de $P$ versus sequência de $V$ para dados $T$ para uma composição rica no componente pesado**\n",
    "  1. [ ] **cálculo em sequência de $P$ versus sequência de $V$ para dados $T$ para uma composição rica no componente leve**\n",
    "  1. [ ] **desenhar isotermas no plano $P$ versus $V$ para uma composição rica no componente pesado**\n",
    "  1. [ ] **desenhar isotermas no plano $P$ versus $V$ para uma composição rica no componente leve**\n",
    "  \n",
    "1. [ ] programação $V(P,T)$ usando método de solução de raiz de polinômios (numpy.roots)\n",
    "  1. [ ] implementar lógica de classificação de raízes de volume (líquido, vapor, intermediária e não física)\n",
    "  1. [ ] comparar calculos pontuais com as isotermas\n",
    "  \n",
    "1. [ ] **programação de coeficientes de fugacidade na mistura (Reid, Prausnitz & Poling, 1987, pp 144, 145)**\n",
    "  1. [ ] testar pontualmente\n",
    "\n",
    "1. [ ] **programação de resolução da pressão de ponto de bolha e ponto de orvalho (Sandler, 2017, pp 561, 562)**\n",
    "    1. [ ] cálculo em sequência de pressão de bolha e composição da fase vapor ($y$)versus sequência de $x$ para dada T\n",
    "1. [ ] geração do envelope de fases no plano $P$ versus $x_1$ (Smith, van Ness & Abbott, 2007)\n",
    "    1. [ ] desenhar $P$ versus $x_1$ para dado T $\\to$ curva de ponto de bolha\n",
    "    1. [ ] desenhar $P$ versus $y_1$ para dado T $\\to$ curva de ponto de orvalho\n"
   ]
  },
  {
   "cell_type": "markdown",
   "metadata": {},
   "source": [
    "# Referências\n",
    "\n",
    ">* Reid, R. C., Prausnitz, J. M. and Poling, B. E., 1987. The Properties of Gases and Liquids. 4th ed., McGraw-Hill. [ISBN: 0070517991, 9780070517998\n",
    "](https://books.google.com.br/books?id=AcRTAAAAMAAJ)\n",
    "\n",
    ">* Smith, J. M., van Ness, H. C. and Abbott, M. M., 2007. Introdução a termodinâmica da engenharia química. 7a ed., LTC. [ISBN: 8521615531, 9788521615538](https://books.google.com.br/books?id=TzeQPgAACAAJ)\n",
    "\n",
    ">* [numpy.roots ](https://docs.scipy.org/doc/numpy/reference/generated/numpy.roots.html)\n",
    ">* [scipy.optimize.bisect](https://docs.scipy.org/doc/scipy/reference/generated/scipy.optimize.bisect.html)\n",
    "\n",
    ">* Sandler S., 2006, Chemical, Biochemical, and Engineering Thermodynamics, 4th ed. John Wiley & Sons"
   ]
  }
 ],
 "metadata": {
  "kernelspec": {
   "display_name": "Python [default]",
   "language": "python",
   "name": "python3"
  },
  "language_info": {
   "codemirror_mode": {
    "name": "ipython",
    "version": 3
   },
   "file_extension": ".py",
   "mimetype": "text/x-python",
   "name": "python",
   "nbconvert_exporter": "python",
   "pygments_lexer": "ipython3",
   "version": "3.6.3"
  }
 },
 "nbformat": 4,
 "nbformat_minor": 2
}
