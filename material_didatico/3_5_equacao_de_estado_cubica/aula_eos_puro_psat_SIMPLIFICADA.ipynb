{
 "cells": [
  {
   "cell_type": "markdown",
   "metadata": {},
   "source": [
    "UFRJ/EQ, Agosto de 2018,\n",
    "(updated @ 19 de Junho de 2019).\n",
    "\n",
    "# Cálculo de equilíbrio líquido-vapor de substância pura com equação de estado cúbica.\n",
    "\n",
    "iuri segtovich"
   ]
  },
  {
   "cell_type": "markdown",
   "metadata": {},
   "source": [
    "# Introdução\n",
    "\n",
    "O objetivo dessa aula é apresentar uma metodologia de resolução computacional de equação de estado cúbica.\n",
    "\n",
    "> Por resolução, entendamos (1) cálculo de pressão a partir de volume e temperatura, (2) cálculo de volume a partir de pressão e temperatura e (3) cálculo de propriedades residuais (entalpia, entropia, energia de Helmholtz, energia de Gibbs).\n",
    "\n",
    "Além disso, é apresentada uma metodologia para o cálculo de equilíbrio líquido vapor a partir do critério de igualdade de potencial químico do componente em cada fase.\n",
    "\n",
    "> O critério de equlíbrio é satisfeito utilizando os cálculos de energia de Gibbs residual a partir da equação de estado.\n",
    "\n",
    "Esta aula se limita ao estudo de substâncias puras.\n",
    "\n",
    "> São estudadas a relação $P,V,T$ de substância pura em estado líquido ou vapor e em equilíbrio de fases, e a curva univariante de pressão de saturação.\n",
    "\n",
    "Os cálculos que seguem são realizados utilizado a equação de estado cúbica de Soave para a substância Metano.\n",
    "\n",
    "> São utilizados o equacionamento e parâmetros apresentados por Reid, Prausnitz & Poling, 1987 e por Smith, van Ness & Abbott, 2007.\n",
    "\n",
    ">* Vamos trabalhar apenas com propriedades intensivas, portanto convém usar a notação simplificada: $P$ para pressão, $T$ para temperatura, $V$, $H$, $S$, $A$ e $G$ para volume molar, entalpia molar, entropia molar, energia de Helmholtz molar e energia de Gibbs molar."
   ]
  },
  {
   "cell_type": "markdown",
   "metadata": {},
   "source": [
    "# Metodologia"
   ]
  },
  {
   "cell_type": "markdown",
   "metadata": {},
   "source": [
    "Essa aula é dividida nas seguintes etapas:\n",
    "\n",
    "1. programação $P(T,V)$ usando a equação de Soave (Reid, Prausnitz & Poling, 1987 - pp 42, 43)\n",
    "  1. cálculo em sequência de $P$ versus sequência de $V$ para dados $T$\n",
    "  1. desenhar isotermas no plano $P$ versus $V$\n",
    "1. programação $V(T,P)$ usando método de solução de raiz de polinômios (numpy.roots)\n",
    "  1. implementar lógica de classificação de raízes de volume (líquido, vapor, intermediária e não física)\n",
    "  1. comparar calculos pontuais com as isotermas\n",
    "1. programação de pressão limite superior e inferior para cálculo de equilibrio de fases (baseado em Topliss, Dimitrelis & Prausnitz, 1988)\n",
    "  1. comparar calculos pontuais com as isotermas\n",
    "1. programação de energia de gibbs residual (Reid, Prausnitz & Poling, 1987)\n",
    "  1. cálculo em sequência $G^{\\mathrm{RES},L}$ e sequência $G^{\\mathrm{RES},V}$ versus sequência $P$ para dado $T$\n",
    "  1. desenhar $G^{\\mathrm{RES},L}$ e $G^{\\mathrm{RES},V}$ versus $P$ para dado $T$ e verificar existência de solução para o critério de equilíbrio de fases.\n",
    "1. programação de resolução da pressão de saturação usando método de bisseção (scipy.optimize.bisect)\n",
    "    1. cálculo em sequência de pressão de saturação versus sequência de $T$\n",
    "    1. desenhar $P^\\mathrm{SAT}$ versus $T$\n",
    "1. geração do envelope de fases no plano $P$ versus $V$ (Smith, van Ness & Abbott, 2007)\n",
    "    1. cálculo em sequência de volumes de líquido e olume de vapor para cada par $(T,P)$ na curva de $P^\\mathrm{SAT}$\n",
    "    1. desenhar envelope de fases no diagrama $P$ versus $V$ com algumas isotermas\n",
    "1. programação de entalpia e entropia residuais (Reid, Prausnitz & Poling, 1987) - TAREFA\n",
    "    1. testar pontualmente\n",
    "1. geração dos envelope de fases nos planos $T$ versus $S^\\mathrm{RES}$ e $P$ versus $H^\\mathrm{RES}$ (Smith, van Ness & Abbott, 2007)\n",
    "    1. cálculo em sequência de entalpia e entropia residuais de líquido e de vapor para cada par $(T,P)$ na curva de $P^\\mathrm{SAT}$\n",
    "    1. desenhar envelope de fases no diagrama T versus $S^\\mathrm{RES}$ com algumas isóbaras\n",
    "    1. desenhar envelope de fases no diagrama P versus $H^\\mathrm{RES}$ com algumas isotermas"
   ]
  },
  {
   "cell_type": "markdown",
   "metadata": {},
   "source": [
    "## carregando pacotes utilizados nesta aula:"
   ]
  },
  {
   "cell_type": "code",
   "execution_count": 1,
   "metadata": {},
   "outputs": [],
   "source": [
    "import numpy as np\n",
    "#1. arrays (vetores R^n) para cálculos em sequência\n",
    "#2. resolução de raiz de polinômios (np.roots)\n",
    "\n",
    "from matplotlib import pyplot as plt\n",
    "# pacote para desenhar gráficos\n",
    "\n",
    "from scipy import optimize as opt\n",
    "# resolução de equação não linear por método de biseção (opt.bisect)"
   ]
  },
  {
   "cell_type": "markdown",
   "metadata": {},
   "source": [
    "# Implementação, resultados e discussão"
   ]
  },
  {
   "cell_type": "markdown",
   "metadata": {},
   "source": [
    "## A equação de Soave\n",
    "é uma equação de estado dada pela expressão de pressão em função de temperatura e volume molar abaixo"
   ]
  },
  {
   "cell_type": "markdown",
   "metadata": {},
   "source": [
    "$$P=\\frac{RT}{V-b}-\\frac{a}{V^2+ubV+wb^2}$$\n",
    "\n",
    "em que\n",
    "\n",
    "> $u=1$\n",
    ">\n",
    "> $w=0$\n",
    ">\n",
    "> $b=\\frac{0.08664RT_c}{P_c}$\n",
    ">\n",
    "> $a=\\frac{0.42748R^2T_c^2}{P_c}(1+f(1-(T/T_c)^{(1/2)}))^2$\n",
    ">\n",
    ">$f=0.48+1.574\\omega-0.176\\omega^2$\n",
    "\n",
    "> Reid, Prausnitz & Poling, 1987 pp 42, 43"
   ]
  },
  {
   "cell_type": "markdown",
   "metadata": {},
   "source": [
    "Nota-se que sua parametrização ($a$,$b$) é dada em função de propriedades do componente (temperatura crítica - $T_c$, pressão crítica - $P_c$, e o fator acêntrico de Pitzer - $\\omega$ )\n",
    "\n",
    "Os parâmetros $u$ e $w$ servem para representar a equação de Soave na forma geral em que também se encaixam as equações de van der Waals; Redlich e Kwong; e Peng e Robinson utilizada por Reid, Prausnitz e Poling, 1987.\n",
    "\n",
    "> Abaixo são dadas as propriedades para o metano\n",
    "> (Smith, van Ness & Abbott, 2007, pp 632, 633)"
   ]
  },
  {
   "cell_type": "code",
   "execution_count": 2,
   "metadata": {},
   "outputs": [],
   "source": [
    "Tc= 190.6 #K\n",
    "Pc= 45.99e5 #Pa\n",
    "omega= 0.012 #fator acêntrico, adimensional"
   ]
  },
  {
   "cell_type": "markdown",
   "metadata": {},
   "source": [
    "Aqui é definida como constante global do roteiro de cálculo da aula a constante de gases $R$ em unidades do sistema internacional S.I."
   ]
  },
  {
   "cell_type": "code",
   "execution_count": 3,
   "metadata": {},
   "outputs": [],
   "source": [
    "R=8.314 #S.I."
   ]
  },
  {
   "cell_type": "markdown",
   "metadata": {},
   "source": [
    "Aqui é implementada a equação de estado apresentada\n",
    "> A implementação é feita como uma função de temperatura e volume molar retornando pressão,\n",
    ">\n",
    "> Essa equação conta com constantes ou parâmetros globais $R$, $a$ e $b$\n",
    ">\n",
    "> Notemos que o parâmetro $a$ da equação de Soave depende da temperatura, dessa forma faremos a implementação desse parâmetro como uma função global `func_a(T)`"
   ]
  },
  {
   "cell_type": "code",
   "execution_count": 4,
   "metadata": {},
   "outputs": [],
   "source": [
    "# Cúbica\n",
    "def func_P_cubic(T,Vm):\n",
    "    a=func_a(T=T)\n",
    "    return R*T/(Vm-b) - a/(Vm**2 + u*b*Vm + w*b**2)\n",
    "\n",
    "# Soave\n",
    "u=1\n",
    "w=0\n",
    "\n",
    "b=(0.08664*R*Tc)/Pc\n",
    "ac=0.42748*R**2*Tc**2/Pc\n",
    "\n",
    "def func_a(T):\n",
    "    Tr=T/Tc\n",
    "    return ac*(1+f_omega*(1-Tr**(.5)))**2\n",
    "\n",
    "f_omega = 0.48 + 1.574*omega-0.176*omega**2"
   ]
  },
  {
   "cell_type": "markdown",
   "metadata": {},
   "source": [
    "## Cálculo"
   ]
  },
  {
   "cell_type": "markdown",
   "metadata": {},
   "source": [
    "* testes\n",
    "\n",
    "Podemos arbitrar valores de temperatura e volume molar para verificar se a função retorna valores coerentes"
   ]
  },
  {
   "cell_type": "code",
   "execution_count": 5,
   "metadata": {},
   "outputs": [
    {
     "name": "stdout",
     "output_type": "stream",
     "text": [
      "4598201536.582451\n"
     ]
    }
   ],
   "source": [
    "Ptest=func_P_cubic(T=170,Vm=b*1.01)\n",
    "print( Ptest)"
   ]
  },
  {
   "cell_type": "markdown",
   "metadata": {},
   "source": [
    "* vetorizado\n",
    "\n",
    "Aqui definimos array (vetor $\\mathbb{R}^n$) contendo uma sequência finita de valores arbitrados para volume molar\n",
    "\n",
    "> vamos usar um array de tamanho 100 para termos uma quantidade tal de valores calculados que possamos apreciá-la em um gráfico\n",
    "\n",
    "Realizaremos o cálculo de pressão para cada elemento do array de volume molar, resultando em um array de valores calculados para pressão em data temperatura."
   ]
  },
  {
   "cell_type": "code",
   "execution_count": 6,
   "metadata": {},
   "outputs": [
    {
     "name": "stdout",
     "output_type": "stream",
     "text": [
      "Vm: [  3.01515279e-05   3.27244123e-05   3.55168457e-05   3.85475624e-05\n",
      "   4.18368957e-05   4.54069138e-05   4.92815679e-05   5.34868533e-05\n",
      "   5.80509834e-05   6.30045789e-05   6.83808736e-05   7.42159374e-05\n",
      "   8.05489177e-05   8.74223026e-05   9.48822060e-05   1.02978676e-04\n",
      "   1.11766033e-04   1.21303231e-04   1.31654256e-04   1.42888552e-04\n",
      "   1.55081490e-04   1.68314875e-04   1.82677488e-04   1.98265688e-04\n",
      "   2.15184058e-04   2.33546104e-04   2.53475016e-04   2.75104497e-04\n",
      "   2.98579662e-04   3.24058005e-04   3.51710462e-04   3.81722552e-04\n",
      "   4.14295628e-04   4.49648224e-04   4.88017522e-04   5.29660940e-04\n",
      "   5.74857867e-04   6.23911529e-04   6.77151030e-04   7.34933553e-04\n",
      "   7.97646764e-04   8.65711406e-04   9.39584127e-04   1.01976054e-03\n",
      "   1.10677856e-03   1.20122197e-03   1.30372442e-03   1.41497358e-03\n",
      "   1.53571584e-03   1.66676125e-03   1.80898901e-03   1.96335332e-03\n",
      "   2.13088981e-03   2.31272249e-03   2.51007129e-03   2.72426022e-03\n",
      "   2.95672627e-03   3.20902908e-03   3.48286134e-03   3.78006020e-03\n",
      "   4.10261959e-03   4.45270354e-03   4.83266080e-03   5.24504049e-03\n",
      "   5.69260929e-03   6.17836995e-03   6.70558144e-03   7.27778084e-03\n",
      "   7.89880706e-03   8.57282656e-03   9.30436137e-03   1.00983194e-02\n",
      "   1.09600272e-02   1.18952662e-02   1.29103108e-02   1.40119710e-02\n",
      "   1.52076379e-02   1.65053331e-02   1.79137631e-02   1.94423769e-02\n",
      "   2.11014301e-02   2.29020534e-02   2.48563271e-02   2.69773624e-02\n",
      "   2.92793896e-02   3.17778529e-02   3.44895147e-02   3.74325674e-02\n",
      "   4.06267561e-02   4.40935108e-02   4.78560899e-02   5.19397367e-02\n",
      "   5.63718484e-02   6.11821603e-02   6.64029448e-02   7.20692283e-02\n",
      "   7.82190260e-02   8.48935971e-02   9.21377214e-02   1.00000000e-01]\n",
      "P: [  4.45709529e+09   3.55717449e+08   1.34572190e+08   6.30018951e+07\n",
      "   3.11533556e+07   1.50715201e+07   6.53057815e+06   1.98401089e+06\n",
      "  -3.21532909e+05  -1.33360146e+06  -1.59572739e+06  -1.43221107e+06\n",
      "  -1.04121976e+06  -5.45116691e+05  -1.92242266e+04   4.90991834e+05\n",
      "   9.59284622e+05   1.37185326e+06   1.72293564e+06   2.01189430e+06\n",
      "   2.24126897e+06   2.41546841e+06   2.53989221e+06   2.62034563e+06\n",
      "   2.66265588e+06   2.67242780e+06   2.65489598e+06   2.61484339e+06\n",
      "   2.55656551e+06   2.48386508e+06   2.40006686e+06   2.30804493e+06\n",
      "   2.21025726e+06   2.10878385e+06   2.00536590e+06   1.90144427e+06\n",
      "   1.79819621e+06   1.69656957e+06   1.59731421e+06   1.50101041e+06\n",
      "   1.40809437e+06   1.31888073e+06   1.23358245e+06   1.15232813e+06\n",
      "   1.07517709e+06   1.00213229e+06   9.33151484e+05   8.68156635e+05\n",
      "   8.07041974e+05   7.49680724e+05   6.95930751e+05   6.45639251e+05\n",
      "   5.98646621e+05   5.54789621e+05   5.13903937e+05   4.75826237e+05\n",
      "   4.40395790e+05   4.07455731e+05   3.76854015e+05   3.48444125e+05\n",
      "   3.22085565e+05   2.97644193e+05   2.74992399e+05   2.54009182e+05\n",
      "   2.34580135e+05   2.16597350e+05   1.99959281e+05   1.84570553e+05\n",
      "   1.70341746e+05   1.57189158e+05   1.45034547e+05   1.33804870e+05\n",
      "   1.23432015e+05   1.13852535e+05   1.05007385e+05   9.68416621e+04\n",
      "   8.93043548e+04   8.23481011e+04   7.59289555e+04   7.00061663e+04\n",
      "   6.45419639e+04   5.95013591e+04   5.48519537e+04   5.05637599e+04\n",
      "   4.66090322e+04   4.29621079e+04   3.95992582e+04   3.64985491e+04\n",
      "   3.36397107e+04   3.10040152e+04   2.85741641e+04   2.63341817e+04\n",
      "   2.42693170e+04   2.23659520e+04   2.06115167e+04   1.89944104e+04\n",
      "   1.75039279e+04   1.61301917e+04   1.48640893e+04   1.36972146e+04]\n"
     ]
    }
   ],
   "source": [
    "Ttest=165.\n",
    "nV=100\n",
    "minV=b*1.01\n",
    "maxV=1e-1\n",
    "seqVm= np.logspace(np.log10(minV),np.log10(maxV),nV)\n",
    "print( \"Vm:\", seqVm )\n",
    "\n",
    "seqP=np.zeros(nV)\n",
    "for i in range(nV):\n",
    "    seqP[i]=func_P_cubic(T=Ttest,Vm=seqVm[i])\n",
    "\n",
    "print( \"P:\", seqP )"
   ]
  },
  {
   "cell_type": "markdown",
   "metadata": {},
   "source": [
    "* plot"
   ]
  },
  {
   "cell_type": "code",
   "execution_count": 7,
   "metadata": {},
   "outputs": [
    {
     "data": {
      "image/png": "[encoded data removed]",
      "text/plain": [
       "<Figure size 432x288 with 1 Axes>"
      ]
     },
     "metadata": {},
     "output_type": "display_data"
    }
   ],
   "source": [
    "plt.plot(seqVm,seqP,label=str(Ttest)+' K') #create a logarithm vs logarithm scale plot of pressure vs volume, using the function pressure in each value of the volume list\n",
    "plt.axvline(b,color='black',ls=\":\")\n",
    "plt.ylabel(r'$P / \\mathrm{Pa}$') #create labels to be displayed in y axis of the plot\n",
    "plt.xlabel(r'${V} / \\mathrm{m^{3}mol^{-1}}$') #use matplotlib's  mathtext to create special symbols in the x label\n",
    "plt.ylim(-2e6,1e7)#define max and min limits of the y axis only to the positive pressure range. remember that this plot is in logarithm scale and it does not accept negative values.\n",
    "plt.xlim(1e-5,1e-1) #define max and min limits of the x axis\n",
    "plt.xscale('log')\n",
    "plt.legend()\n",
    "plt.show()"
   ]
  },
  {
   "cell_type": "markdown",
   "metadata": {},
   "source": [
    "## V eos\n",
    "\n",
    "A equação de estado de Soave é dita cúbica pois pode ser re-escrita da seguinte forma:\n",
    "\n",
    "$$Z^3-Z^2(1+B-uB)+Z(A+wB^2-uB-uB^2)-AB-wB^2-wB^3=0$$\n",
    "\n",
    "> Reid, Prausnitz & Poling, 1987, pp 42, 43\n",
    "\n",
    "Que é um polinômia de grau 3 (equação cúbica) na variável Z\n",
    "\n",
    "em que \n",
    "\n",
    "$$Z=\\frac{PV}{RT}$$\n",
    "\n",
    "Vamos implementar essa forma polinomial e resolver usando um método de solução de polinômios\n"
   ]
  },
  {
   "cell_type": "code",
   "execution_count": 8,
   "metadata": {},
   "outputs": [],
   "source": [
    "def func_VL_VV_cubic(T,P):\n",
    "    a=func_a(T=T)\n",
    "    A=a*P/(R**2*T**2)\n",
    "    B=b*P/(R*T)\n",
    "    \n",
    "    c3=1 \n",
    "    c2=-(1+B-u*B)\n",
    "    c1=(A+w*B**2-u*B-u*B**2)\n",
    "    c0=-A*B-w*B**2-w*B**3\n",
    "    \n",
    "    list_coeffs=[c3,c2,c1,c0]\n",
    "\n",
    "    Z1,Z2,Z3=np.roots(list_coeffs) #Como c3=1, nunca vai vir menos de três raízes (incluindo real e complexa)\n",
    "    \n",
    "    V1=Z1*R*T/P\n",
    "    V2=Z2*R*T/P\n",
    "    V3=Z3*R*T/P\n",
    "        \n",
    "    imag_tol = 1e-11\n",
    "\n",
    "    listVphysical=[]\n",
    "    \n",
    "    for V in [V1,V2,V3]:\n",
    "        if (abs(V.imag) < imag_tol) and (V.real > b): #condicao para existencia de um valor real\n",
    "            listVphysical.append(V.real)\n",
    "    nVphysical = len(listVphysical)\n",
    "    vL=min(listVphysical) #se shouver apenas um V físico a função vai retornar valores de Volume iguais para liq e vap\n",
    "    vV=max(listVphysical) \n",
    "    \n",
    "    return vL, vV, nVphysical"
   ]
  },
  {
   "cell_type": "code",
   "execution_count": 9,
   "metadata": {},
   "outputs": [
    {
     "name": "stdout",
     "output_type": "stream",
     "text": [
      "vL, vV, nVphys\n",
      "5.50104205055e-05 0.00120418212191 3\n"
     ]
    },
    {
     "data": {
      "image/png": "[encoded data removed]",
      "text/plain": [
       "<Figure size 432x288 with 1 Axes>"
      ]
     },
     "metadata": {},
     "output_type": "display_data"
    }
   ],
   "source": [
    "Ptest=1e6\n",
    "vL, vV, nVphys  = func_VL_VV_cubic(T=Ttest,P=Ptest)\n",
    "print (\"vL, vV, nVphys\")     \n",
    "print(vL, vV, nVphys)    \n",
    "    \n",
    "plt.plot(seqVm,seqP,label='test') \n",
    "plt.scatter(vL,Ptest,label=\"vL\") \n",
    "plt.scatter(vV,Ptest,label=\"vV\") \n",
    "plt.axhline(Ptest,color='black',ls=':')\n",
    "\n",
    "plt.xlabel(r'${V} / \\mathrm{m^{3}mol^{-1}}$')\n",
    "plt.ylabel(r'$P / \\mathrm{Pa}$')\n",
    "plt.title('Equação de estado cúbica') \n",
    "plt.ylim(-2e6,1e7)\n",
    "plt.xlim(1e-5,1e-1) \n",
    "plt.xscale('log')\n",
    "plt.legend()\n",
    "plt.show()  "
   ]
  },
  {
   "cell_type": "markdown",
   "metadata": {},
   "source": [
    "# Faixa de busca para pressão de saturação\n",
    "(metodologia baseada em Topliss, Dimitrelis & Prausnitz, 1988)\n",
    "\n",
    "Sabendo que a pressão de saturação está na faixa de pressão para a qual há três raízes de volume, a região de busca pode ser definida pelo cálculo do mínimo e máximo locais da isoterma:\n",
    "\n",
    "dado $T$, buscar $V^*$ tal que $\\left(\\frac{\\partial P}{\\partial V}\\right)_T=0$\n",
    "\n",
    "Filtram-se apenas os valores físicos: $V^*$ entre $b$ e $\\infty$"
   ]
  },
  {
   "cell_type": "markdown",
   "metadata": {},
   "source": [
    "$$ \\left( \\frac{\\partial P}{\\partial V} \\right) _T= 0$$\n",
    "\n",
    "usando a equação de Soave, obtemos a seguinte expressão para essa derivada parcial\n",
    "\n",
    "$$\\frac{\\partial{P}}{\\partial{V}} = - \\frac{R T}{\\left(V - b\\right)^{2}} - \\frac{a \\left(- 2 V - b u\\right)}{\\left(V^{2} + V b u + b^{2} w\\right)^{2}}$$\n",
    "\n",
    "como buscamos os valores de V para os quais a expressão dá zero, podemos multiplicar ambos os lados da equação pelos denominadores de cada termo, obtendo assim\n",
    "\n",
    "$$- R T \\left(V^{2} + V b u + b^{2} w\\right)^{2} - a \\left(- 2 V - b u\\right) \\left(V - b\\right)^{2} = 0$$\n",
    "\n",
    "realizando as operações distributivas, potências de somas e coletando os coeficientes de iguais potências de V chegamos a representação polinomial\n",
    "\n",
    "$$V^{4} - \\frac{V^{3}}{R T} \\left(- 2 R T b u + 2 a\\right) - \\frac{V^{2}}{R T} \\left(- R T b^{2} u^{2} - 2 R T b^{2} w + a b u - 4 a b\\right) - \\frac{V}{R T} \\left(- 2 R T b^{3} u w - 2 a b^{2} u + 2 a b^{2}\\right) - \\frac{1}{R T} \\left(- R T b^{4} w^{2} + a b^{3} u\\right) = 0$$\n",
    "\n",
    "A qual pode ser convenientemente expressa por coeficientes $c_0$, $c_1$, $c_2$, $c_3$ e $c_4$.\n",
    "\n",
    "$$ c_4V^4 + c_3 V^3+c_2V^2+c_1 V+c_0=0$$\n",
    "\n",
    "em que\n",
    "\n",
    "$c_4 = 1$\n",
    "\n",
    "$c_3 = (-2RTbu + 2a)/(-RT)$\n",
    "\n",
    "$c_2 = (-RTb^2u^2 - 2RTb^2w + abu - 4ab)/(-RT)$\n",
    "\n",
    "$c_1 = (-2RTb^3uw - 2ab^2u + 2ab^2)/(-RT)$\n",
    "\n",
    "$c_0 = (-RTb^4w^2 + ab^3u)/(-RT)$"
   ]
  },
  {
   "cell_type": "code",
   "execution_count": 10,
   "metadata": {},
   "outputs": [],
   "source": [
    "def func_Plimits(T):\n",
    "    #cálculo dos limites para busca de pressão de saturação\n",
    "    \n",
    "    #calcular coeficientes da representação polinomial\n",
    "    a=func_a(T=T)\n",
    "    \n",
    "    c4 = 1\n",
    "    c3 = (-2*R*T*b*u + 2*a)/(-R*T)\n",
    "    c2 = (-R*T*b**2*u**2 - 2*R*T*b**2*w + a*b*u - 4*a*b)/(-R*T)\n",
    "    c1 = (-2*R*T*b**3*u*w - 2*a*b**2*u + 2*a*b**2)/(-R*T)\n",
    "    c0 = (-R*T*b**4*w**2 + a*b**3*u)/(-R*T)\n",
    "    \n",
    "    #resolver raízes com a função roots\n",
    "    list_coeffs=[c4,c3,c2,c1,c0]\n",
    "\n",
    "    V1,V2,V3,V4=np.roots(list_coeffs) #Como c4=1, nunca vai vir menos de quatro raízes (incluindo real e complexa)\n",
    "    \n",
    "    imag_tol = 1e-11\n",
    "\n",
    "    listVphysical=[]\n",
    "    \n",
    "    for V in [V1,V2,V3,V4]:\n",
    "        if (abs(V.imag) < imag_tol) and (V.real > b): #condicao para existencia de um valor real\n",
    "            listVphysical.append(V.real)\n",
    "    nVphysical = len(listVphysical)\n",
    "    \n",
    "    if nVphysical >= 1:\n",
    "        Vinfi = min(listVphysical)\n",
    "        Vsupi = max(listVphysical)\n",
    "    \n",
    "    \n",
    "        #calcular a pressão correspondente a cada raiz de volume selecionada\n",
    "        Psupi = func_P_cubic(T=T,Vm=Vsupi)\n",
    "        Pinfi = func_P_cubic(T=T,Vm=Vinfi)\n",
    "            \n",
    "    elif nVphysical==0:\n",
    "        #não achamos faixa de busca\n",
    "        Vli=None\n",
    "        Vvi=None\n",
    "        Psupi=None\n",
    "        Pinfi=None\n",
    "        \n",
    "    return Vinfi,Vsupi,Pinfi,Psupi,nVphysical"
   ]
  },
  {
   "cell_type": "code",
   "execution_count": 11,
   "metadata": {},
   "outputs": [
    {
     "name": "stdout",
     "output_type": "stream",
     "text": [
      "Ttest: 165.0\n",
      "nPlim: 2\n",
      "Vli: 6.84886195927e-05\n",
      "Vvi: 0.000230311850089\n",
      "Pinfi: -1595803.6264\n",
      "Psupi: 2672831.50119\n"
     ]
    }
   ],
   "source": [
    "Vinfilim,Vsupilim,Pinfilim,Psupilim,nPlim=func_Plimits(T=Ttest)\n",
    "print(\"Ttest:\",Ttest)\n",
    "print(\"nPlim:\",nPlim)\n",
    "print(\"Vli:\",Vinfilim)\n",
    "print(\"Vvi:\",Vsupilim)\n",
    "print(\"Pinfi:\",Pinfilim)\n",
    "print(\"Psupi:\",Psupilim)"
   ]
  },
  {
   "cell_type": "markdown",
   "metadata": {},
   "source": [
    "* validação gráfica"
   ]
  },
  {
   "cell_type": "code",
   "execution_count": 12,
   "metadata": {},
   "outputs": [
    {
     "data": {
      "image/png": "[encoded data removed]",
      "text/plain": [
       "<Figure size 432x288 with 1 Axes>"
      ]
     },
     "metadata": {},
     "output_type": "display_data"
    }
   ],
   "source": [
    "plt.semilogx(seqVm,seqP,label=str(Ttest)+' K') #create a logarithm vs logarithm scale plot of pressure vs volume, using the function pressure in each value of the volume list\n",
    "plt.ylabel(r'$P (\\mathrm{Pa})$') #create labels to be displayed in y axis of the plot\n",
    "plt.xlabel(r'${V} (\\mathrm{m^{3}mol^{-1}})$') #use matplotlib's  mathtext to create special symbols in the x label\n",
    "plt.ylim(-2e6,1e7)#define max and min limits of the y axis only to the positive pressure range. remember that this plot is in logarithm scale and it does not accept negative values.\n",
    "plt.xlim(1e-5,1e-1) #define max and min limits of the x axis\n",
    "if nPlim>0:\n",
    "    plt.scatter(Vsupilim,Psupilim)\n",
    "    plt.axhline(Psupilim,color='black',ls=':')\n",
    "    plt.scatter(Vinfilim,Pinfilim)\n",
    "    plt.axhline(Pinfilim,color='black',ls=':')\n",
    "plt.legend()\n",
    "plt.show()"
   ]
  },
  {
   "cell_type": "markdown",
   "metadata": {},
   "source": [
    "## G residual\n",
    "\n",
    "$$A^{\\mathrm{RES}} = - R T \\ln{\\left (\\frac{V}{V^{IG}} \\right )} - R T \\ln{\\left (\\frac{1}{Z} \\left(- B + Z\\right) \\right )} + \\frac{a}{b \\sqrt{u^{2} - 4 w}} \\ln{\\left (\\frac{B \\left(u - \\sqrt{u^{2} - 4 w}\\right) + 2 Z}{B \\left(u + \\sqrt{u^{2} - 4 w}\\right) + 2 Z} \\right )}$$\n",
    "\n",
    "> Reid, Prausnitz & Poling, 1987, pp 102\n",
    "\n",
    "logo, como $G = A+PV$\n",
    "\n",
    "temos que $G^{IG} = A^{IG}+PV^{IG}$\n",
    "\n",
    "logo\n",
    "\n",
    "$$G^\\mathrm{RES} = A^\\mathrm{RES}+P(V-V^{IG})$$\n",
    "\n",
    "$$G^{\\mathrm{RES}} = R T (Z-1) - R T \\ln{\\left ( - B + Z \\right )} + \\frac{a}{b \\sqrt{u^{2} - 4 w}} \\ln{\\left (\\frac{B \\left(u - \\sqrt{u^{2} - 4 w}\\right) + 2 Z}{B \\left(u + \\sqrt{u^{2} - 4 w}\\right) + 2 Z} \\right )}$$\n",
    "\n"
   ]
  },
  {
   "cell_type": "code",
   "execution_count": 13,
   "metadata": {},
   "outputs": [],
   "source": [
    "def func_Gres_RT(T,P,Z):    \n",
    "    a=func_a(T)\n",
    "    A=a*P/(R**2*T**2)\n",
    "    B=b*P/(R*T)\n",
    "    T1=A/(B*(u**2-4*w)**.5)\n",
    "    T2=(-1)\n",
    "    T3=2*Z+B*(u+(u**2-4*w)**.5)\n",
    "    T4=2*Z+B*(u-(u**2-4*w)**.5)\n",
    "    Gres_RT_TPZ = (Z-1)-np.log(Z-B)+T1*T2*np.log(T3/T4)\n",
    "    return Gres_RT_TPZ"
   ]
  },
  {
   "cell_type": "markdown",
   "metadata": {},
   "source": [
    "## o critério de equilíbrio\n",
    "\n",
    "$$\\mu_i^L=\\mu_i^V$$\n",
    "\n",
    "no caso do puro, $G=\\mu_i$\n",
    "\n",
    "$$G^\\mathrm{L}=G^\\mathrm{V}$$\n",
    "\n",
    "usando uma mesma referência\n",
    "\n",
    "$$G^\\mathrm{L}-G^\\mathrm{IG}=G^\\mathrm{V}-G^\\mathrm{IG}$$\n",
    "\n",
    "$$ G^\\mathrm{RES,L}=G^\\mathrm{RES,V} $$\n",
    "\n",
    "ou com as variáveis adimensionadas dividinto pelo produto $(RT)$\n",
    "\n",
    "$$ \\frac{G^\\mathrm{RES,L}}{RT}=\\frac{G^\\mathrm{RES,V}}{RT} $$"
   ]
  },
  {
   "cell_type": "markdown",
   "metadata": {},
   "source": [
    "* verificar existẽncia de solução em uma temperatura teste"
   ]
  },
  {
   "cell_type": "code",
   "execution_count": 14,
   "metadata": {},
   "outputs": [],
   "source": [
    "Vinfi,Vsupi,Pinfi,Psupi,nVlim=func_Plimits(Ttest)\n",
    "\n",
    "nP=100\n",
    "Gres_RT_L=np.zeros(nP)\n",
    "Gres_RT_V=np.zeros(nP)\n",
    "\n",
    "Psupi=Psupi*.999999\n",
    "\n",
    "if Pinfi > 0:\n",
    "    Pinfi = Pinfi*1.000001\n",
    "else:\n",
    "    Pinfi = Psupi/1e10 \n",
    "\n",
    "seqP2 = np.linspace(Pinfi,Psupi,nP)\n",
    "Vmi_L=np.zeros(nP)\n",
    "Vmi_V=np.zeros(nP)\n",
    "Z_L=np.zeros(nP)\n",
    "Z_V=np.zeros(nP)\n",
    "nV=np.zeros(nP)\n",
    "for i in range(nP):\n",
    "    Vmi_L[i],Vmi_V[i],nV[i] = func_VL_VV_cubic(T=Ttest,P=seqP2[i])\n",
    "    Z_L[i]=(seqP2[i]*Vmi_L[i])/(R*Ttest)\n",
    "    Z_V[i]=(seqP2[i]*Vmi_V[i])/(R*Ttest)\n",
    "    Gres_RT_L[i] = func_Gres_RT(T=Ttest,P=seqP2[i],Z=Z_L[i])\n",
    "    Gres_RT_V[i] = func_Gres_RT(T=Ttest,P=seqP2[i],Z=Z_V[i])"
   ]
  },
  {
   "cell_type": "markdown",
   "metadata": {},
   "source": [
    "* plot"
   ]
  },
  {
   "cell_type": "code",
   "execution_count": 15,
   "metadata": {},
   "outputs": [
    {
     "data": {
      "image/png": "[encoded data removed]",
      "text/plain": [
       "<Figure size 432x288 with 1 Axes>"
      ]
     },
     "metadata": {},
     "output_type": "display_data"
    }
   ],
   "source": [
    "plt.plot(Gres_RT_L,seqP2)\n",
    "plt.plot(Gres_RT_V,seqP2)\n",
    "\n",
    "plt.xlabel(r'$G^\\mathrm{RES}/RT$') #create labels to be displayed in y axis of the plot\n",
    "plt.ylabel(r'$P (\\mathrm{Pa})$') #use matplotlib's  mathtext to create special symbols in the x label\n",
    "plt.title('Busca gráfica da solução do equilíbrio de fases em T = '+str(Ttest)+'K') #create a title for the figure\n",
    "\n",
    "plt.show()"
   ]
  },
  {
   "cell_type": "markdown",
   "metadata": {},
   "source": [
    "## Pressão de saturação"
   ]
  },
  {
   "cell_type": "code",
   "execution_count": 16,
   "metadata": {},
   "outputs": [
    {
     "name": "stdout",
     "output_type": "stream",
     "text": [
      "Ttest,Psat_test\n",
      "165.0 1960331.7642619642\n"
     ]
    }
   ],
   "source": [
    "def func_Psat(T):\n",
    "    \n",
    "    def func_RES(P):\n",
    "        VL,VV,nV=func_VL_VV_cubic(T=T,P=P)\n",
    "        ZL=VL*P/(R*T)\n",
    "        ZV=VV*P/(R*T)\n",
    "        Gres_RT_L=func_Gres_RT(T=T,P=P,Z=ZL)\n",
    "        Gres_RT_V=func_Gres_RT(T=T,P=P,Z=ZV)\n",
    "        return Gres_RT_L-Gres_RT_V\n",
    "\n",
    "    Vinfi,Vsupi,Pinfi,Psupi,nlim=func_Plimits(T=T)\n",
    "    \n",
    "    #definir com limite superior uma pressão ligeiramente abaixo da pressão limite superior\n",
    "    #e ligeiramente acima da pressão limite inferior para garantir que existam três volumes nas condições teste\n",
    "    #não levar pressão negativa para o cálculo de pressão de saturação\n",
    "    Psupi=Psupi*.999999\n",
    "\n",
    "    if Pinfi > 0.:\n",
    "        Pinfi = Pinfi*1.000001\n",
    "    else:\n",
    "        Pinfi = Psupi/1e10\n",
    "    \n",
    "    P0a=Pinfi\n",
    "    P0b=Psupi\n",
    "    \n",
    "    Psati = opt.bisect(func_RES,P0a,P0b)\n",
    "    \n",
    "    return Psati\n",
    "\n",
    "Psat_test = func_Psat(T=Ttest)\n",
    "print('Ttest,Psat_test')\n",
    "print(Ttest,Psat_test)"
   ]
  },
  {
   "cell_type": "code",
   "execution_count": 17,
   "metadata": {},
   "outputs": [
    {
     "data": {
      "image/png": "[encoded data removed]",
      "text/plain": [
       "<Figure size 432x288 with 1 Axes>"
      ]
     },
     "metadata": {},
     "output_type": "display_data"
    }
   ],
   "source": [
    "plt.plot(Gres_RT_L,seqP2)\n",
    "plt.plot(Gres_RT_V,seqP2)\n",
    "plt.axhline(Psat_test,color='k',ls=\":\")\n",
    "\n",
    "plt.xlabel(r'$G^\\mathrm{RES}/RT$') #create labels to be displayed in y axis of the plot\n",
    "plt.ylabel(r'$P (\\mathrm{Pa})$') #use matplotlib's  mathtext to create special symbols in the x label\n",
    "plt.title('Busca gráfica da solução do equilíbrio de fases em T = '+str(Ttest)+'K') #create a title for the figure\n",
    "\n",
    "plt.show()"
   ]
  },
  {
   "cell_type": "markdown",
   "metadata": {},
   "source": [
    "* cálculo em sequência"
   ]
  },
  {
   "cell_type": "code",
   "execution_count": 18,
   "metadata": {},
   "outputs": [],
   "source": [
    "nPsat=100\n",
    "seqT3=np.linspace(Tc/3,Tc*.99,nPsat)\n",
    "seqP3=np.zeros(nPsat)\n",
    "for i in range(nPsat):\n",
    "    seqP3[i]=func_Psat(seqT3[i])"
   ]
  },
  {
   "cell_type": "markdown",
   "metadata": {},
   "source": [
    "* plot"
   ]
  },
  {
   "cell_type": "code",
   "execution_count": 19,
   "metadata": {},
   "outputs": [
    {
     "data": {
      "image/png": "[encoded data removed]",
      "text/plain": [
       "<Figure size 432x288 with 1 Axes>"
      ]
     },
     "metadata": {},
     "output_type": "display_data"
    }
   ],
   "source": [
    "plt.plot(seqT3,seqP3)\n",
    "plt.scatter(Tc,Pc)\n",
    "# plt.yscale('log')\n",
    "\n",
    "plt.xlabel(r'$T(\\mathrm{K})$') #create labels to be displayed in y axis of the plot\n",
    "plt.ylabel(r'$P (\\mathrm{Pa})$') #use matplotlib's  mathtext to create special symbols in the x label\n",
    "plt.title('Pressão de saturação') #create a title for the figure\n",
    "\n",
    "plt.show()"
   ]
  },
  {
   "cell_type": "markdown",
   "metadata": {},
   "source": [
    "# Implementação inversa:\n",
    "$T^{\\mathrm{SAT}}(P)$"
   ]
  },
  {
   "cell_type": "code",
   "execution_count": 20,
   "metadata": {},
   "outputs": [
    {
     "name": "stdout",
     "output_type": "stream",
     "text": [
      "Ttest,Psat_test,Tsat_test\n",
      "165.0 1960331.7642619642 165.0\n"
     ]
    }
   ],
   "source": [
    "def func_Tsat(P):\n",
    "    \n",
    "    def func_RES(T):\n",
    "        return func_Psat(T=T)-P\n",
    "\n",
    "    Tsati = opt.fsolve(func_RES,.99*Tc)[0]\n",
    "    \n",
    "    return Tsati\n",
    "\n",
    "Tsat_test = func_Tsat(P=Psat_test)\n",
    "print('Ttest,Psat_test,Tsat_test')\n",
    "print(Ttest,Psat_test,Tsat_test)"
   ]
  },
  {
   "cell_type": "markdown",
   "metadata": {},
   "source": [
    "## testando"
   ]
  },
  {
   "cell_type": "code",
   "execution_count": 21,
   "metadata": {
    "scrolled": true
   },
   "outputs": [
    {
     "name": "stdout",
     "output_type": "stream",
     "text": [
      "2.17438573603e-05 65.8781500033\n",
      "0.0202253817378 111.040647228\n",
      "0.0404290196183 119.856978422\n",
      "0.0606326574987 125.744267492\n",
      "0.0808362953792 130.30405322\n",
      "0.10103993326 134.084427274\n",
      "0.12124357114 137.344715799\n",
      "0.141447209021 140.229934098\n",
      "0.161650846901 142.830098467\n",
      "0.181854484782 145.20525709\n",
      "0.202058122662 147.397641461\n",
      "0.222261760542 149.438181454\n",
      "0.242465398423 151.350268918\n",
      "0.262669036303 153.152062227\n",
      "0.282872674184 154.857965118\n",
      "0.303076312064 156.479612967\n",
      "0.323279949945 158.026552171\n",
      "0.343483587825 159.506721154\n",
      "0.363687225706 160.926799107\n",
      "0.383890863586 162.292464073\n",
      "0.404094501467 163.608587453\n",
      "0.424298139347 164.879382959\n",
      "0.444501777228 166.108522327\n",
      "0.464705415108 167.299226372\n",
      "0.484909052988 168.454337479\n",
      "0.505112690869 169.576377923\n",
      "0.525316328749 170.667597234\n",
      "0.54551996663 171.730011019\n",
      "0.56572360451 172.76543303\n",
      "0.585927242391 173.775501844\n",
      "0.606130880271 174.761703238\n",
      "0.626334518152 175.72538904\n",
      "0.646538156032 176.667793139\n",
      "0.666741793913 177.590045131\n",
      "0.686945431793 178.493182032\n",
      "0.707149069674 179.378158359\n",
      "0.727352707554 180.245854868\n",
      "0.747556345434 181.097086142\n",
      "0.767759983315 181.932607222\n",
      "0.787963621195 182.753119409\n",
      "0.808167259076 183.559275374\n",
      "0.828370896956 184.35168366\n",
      "0.848574534837 185.130912674\n",
      "0.868778172717 185.897494227\n",
      "0.888981810598 186.651926687\n",
      "0.909185448478 187.3946778\n",
      "0.929389086359 188.126187207\n",
      "0.949592724239 188.846868712\n",
      "0.96979636212 189.557112318\n",
      "0.99 190.257286065\n"
     ]
    }
   ],
   "source": [
    "for Psat_test_i in np.linspace(100,.99*Pc):\n",
    "    print( Psat_test_i/Pc, func_Tsat(P=Psat_test_i) )"
   ]
  },
  {
   "cell_type": "markdown",
   "metadata": {},
   "source": [
    "## envelope"
   ]
  },
  {
   "cell_type": "code",
   "execution_count": 22,
   "metadata": {},
   "outputs": [],
   "source": [
    "VL_seq=np.zeros(nPsat)\n",
    "VV_seq=np.zeros(nPsat)\n",
    "nV_seq=np.zeros(nPsat)\n",
    "for i in range(nPsat):\n",
    "    VL_seq[i],VV_seq[i],nV_seq[i]=func_VL_VV_cubic(T=seqT3[i],P=seqP3[i])"
   ]
  },
  {
   "cell_type": "code",
   "execution_count": 23,
   "metadata": {},
   "outputs": [
    {
     "name": "stdout",
     "output_type": "stream",
     "text": [
      "0.000112750267236 0.000112750267236 1\n"
     ]
    }
   ],
   "source": [
    "vl,vv,n = func_VL_VV_cubic(T=Tc,P=Pc)\n",
    "print(vl,vv,n)\n",
    "vc=vv"
   ]
  },
  {
   "cell_type": "code",
   "execution_count": 24,
   "metadata": {},
   "outputs": [
    {
     "data": {
      "image/png": "[encoded data removed]",
      "text/plain": [
       "<Figure size 432x288 with 1 Axes>"
      ]
     },
     "metadata": {},
     "output_type": "display_data"
    }
   ],
   "source": [
    "plt.plot(seqVm,seqP,label='{0:.0f}'.format(Ttest)+' K') #create a logarithm vs logarithm scale plot of pressure vs volume, using the function pressure in each value of the volume list\n",
    "plt.ylabel(r'$P / \\mathrm{Pa}$') #create labels to be displayed in y axis of the plot\n",
    "plt.xlabel(r'${V} / \\mathrm{m^{3}mol^{-1}}$') #use matplotlib's  mathtext to create special symbols in the x label\n",
    "plt.ylim(0,Pc*3)#define max and min limits of the y axis only to the positive pressure range. remember that this plot is in logarithm scale and it does not accept negative values.\n",
    "plt.xlim(b,(R*Tc/Pc)*100) #define max and min limits of the x axis\n",
    "plt.xscale('log')\n",
    "\n",
    "plt.plot(VL_seq,seqP3, color='y')\n",
    "plt.plot(VV_seq,seqP3, color='y')\n",
    "\n",
    "\n",
    "plt.axhline(Psat_test,color='black',ls=':')\n",
    "\n",
    "plt.scatter(vc,Pc,color='y',label=r'$(V_{C},P_{C})$')\n",
    "      \n",
    "plt.legend()\n",
    "\n",
    "plt.show()"
   ]
  },
  {
   "cell_type": "markdown",
   "metadata": {},
   "source": [
    "# diagrama de fases no envelope P versus H"
   ]
  },
  {
   "cell_type": "code",
   "execution_count": 25,
   "metadata": {},
   "outputs": [],
   "source": [
    "A1 = 1.702\n",
    "B1 = 9.081*10**(-3)\n",
    "C1 = -2.164*10**(-6)\n",
    "\n",
    "def func_Hgi(T): #integral CpdT, considerando como temperatura de referência 298K\n",
    "    T0 = 298.\n",
    "    Hgi=R*(A1*(T-T0)+(B1/2)*(T**2-T0**2)+(C1/3)*(T**3-T0**3))\n",
    "    return Hgi\n",
    "\n",
    "#calculo de Hreal considerando como temperatura de referência 298K\n",
    "def func_Hreal(T,P,Z):\n",
    "    Hres=func_Hres(T=T,P=P,Z=Z)\n",
    "    Hgi=func_Hgi(T=T)\n",
    "    return Hres+Hgi\n",
    "\n",
    "def func_dadT(T): #definição de da/dT\n",
    "    Tr = T/Tc\n",
    "    dadT = (-0.45724*(R*Tc)**2/Pc)*f_omega*((1+f_omega*(1-Tr**.5))**2/(Tc*T))**.5  \n",
    "    return dadT\n",
    "\n",
    "def func_Hres(T,P,Z): #definição de Hres (A=U-TS; H=U+PV :. H=A+PV+TS)\n",
    "    B=(b*P)/(R*T)\n",
    "    a=func_a(T=T)\n",
    "    dadT=func_dadT(T=T)    \n",
    "    T1=np.sqrt(u**2-4*w)    \n",
    "    Hres = ((a-T*dadT)/(b*T1))*np.log( (2*Z+B*(u-T1))/(2*Z+B*(u+T1)) ) + R*T*(Z-1)\n",
    "    return Hres"
   ]
  },
  {
   "cell_type": "code",
   "execution_count": 26,
   "metadata": {},
   "outputs": [],
   "source": [
    "#CALCULAR H PARA CADA TSAT/PSAT/VSATL E TSAT/PSAT/VSATV\n",
    "\n",
    "HL_seq=np.zeros(nPsat)\n",
    "HV_seq=np.zeros(nPsat)\n",
    "for i in range(nPsat):\n",
    "    VL,VV,nV=func_VL_VV_cubic(T=seqT3[i],P=seqP3[i])\n",
    "    ZL=seqP3[i]*VL/(R*seqT3[i])\n",
    "    ZV=seqP3[i]*VV/(R*seqT3[i])\n",
    "    HL_seq[i]=func_Hreal(T=seqT3[i],P=seqP3[i],Z=ZL)\n",
    "    HV_seq[i]=func_Hreal(T=seqT3[i],P=seqP3[i],Z=ZV)"
   ]
  },
  {
   "cell_type": "code",
   "execution_count": 27,
   "metadata": {},
   "outputs": [],
   "source": [
    "#CALCULAR H PARA seqV DADO T\n",
    "nV=1000\n",
    "seq_V= np.logspace(np.log10(b*1.01),2+np.log10(R*Tc/Pc),nV)\n",
    "seq_P=np.zeros(nV)\n",
    "seq_H=np.zeros(nV)\n",
    "Z=np.zeros(nV)\n",
    "for i in range(nV):\n",
    "    seq_P[i]= func_P_cubic(Ttest,seq_V[i])\n",
    "    Z[i]=(seq_P[i]*seq_V[i])/(R*Ttest)\n",
    "    seq_H[i]=func_Hreal(T=Ttest,P=seq_P[i],Z=Z[i])"
   ]
  },
  {
   "cell_type": "code",
   "execution_count": 28,
   "metadata": {},
   "outputs": [],
   "source": [
    "Hrealc=func_Hreal(T=Tc,P=Pc,Z=Pc*vc/(R*Tc))"
   ]
  },
  {
   "cell_type": "code",
   "execution_count": 29,
   "metadata": {},
   "outputs": [
    {
     "data": {
      "image/png": "[encoded data removed]",
      "text/plain": [
       "<Figure size 432x288 with 1 Axes>"
      ]
     },
     "metadata": {},
     "output_type": "display_data"
    }
   ],
   "source": [
    "plt.plot(seq_H,seq_P,label='{0:.0f}'.format(Ttest)+' K')\n",
    "plt.yscale('log')\n",
    "plt.ylabel(r'$P (\\mathrm{Pa})$')\n",
    "plt.xlabel(r'${H} (\\mathrm{J/Kg)}})$')\n",
    "\n",
    "plt.plot(HL_seq,seqP3, color='y')\n",
    "plt.plot(HV_seq,seqP3, color='y')\n",
    "plt.yscale('log')\n",
    "plt.ylabel(r'$P (\\mathrm{Pa})$')\n",
    "plt.xlabel(r'${H} (\\mathrm{J/kg})$')\n",
    "plt.xlim(-20000,0)\n",
    "plt.ylim(1e5,1e7)\n",
    "\n",
    "plt.scatter(Hrealc,Pc, color='y',label=r'$(H_{C},P_{C})$')\n",
    "plt.axhline(Psat_test,color='black',ls=':')\n",
    "plt.legend()\n",
    "plt.show()"
   ]
  },
  {
   "cell_type": "code",
   "execution_count": 30,
   "metadata": {},
   "outputs": [],
   "source": [
    "def func_Sres(T,P,Z): #cálculo da S residual\n",
    "    B=b*P/(R*T)\n",
    "    dadT=func_dadT(T=T)\n",
    "    T1=np.sqrt(u**2-4*w)\n",
    "    Sres = R*np.log(Z-B) - (dadT/(b*T1))*np.log( (2*Z+B*(u-T1))/(2*Z+B*(u+T1)) )\n",
    "    return Sres\n",
    "\n",
    "def func_Sgi(T,P): #cálculo da S gas ideal usando integral Cp/T dT e ln(P/P0)\n",
    "    #considerando como temperatura de referência 298K e pressao de referencia 1 bar\n",
    "    T0=298. #K\n",
    "    P0=1e5 #Pa\n",
    "    Sgi=R*(A1*np.log(T/T0)+B1*(T-T0)+(C1/2)*(T**2-T0**2)) - R*np.log(P/P0)\n",
    "    return Sgi\n",
    "\n",
    "def func_Sreal(T,P,Z):\n",
    "    #considerando como temperatura de referência 298K e pressao de referencia 1 bar\n",
    "    Sgi = func_Sgi(T=T,P=P)\n",
    "    Sres = func_Sres(T=T,P=P,Z=Z)\n",
    "    Sreal = Sres+Sgi\n",
    "    return Sreal"
   ]
  },
  {
   "cell_type": "code",
   "execution_count": 31,
   "metadata": {},
   "outputs": [
    {
     "name": "stdout",
     "output_type": "stream",
     "text": [
      "42057993.35180766\n",
      "230.0\n"
     ]
    }
   ],
   "source": [
    "#Cálculo de T através de Van der Waals\n",
    "from scipy.optimize import fsolve\n",
    "\n",
    "  \n",
    "def func_T_cubic(P,Vm):\n",
    "    from scipy.optimize import fsolve\n",
    "    \n",
    "    def T_guess(P,Vm):\n",
    "        a=func_a(T=Tc)\n",
    "        return (P + a/(Vm**2 + u*b*Vm + w*b**2) )*(Vm-b)/R\n",
    "\n",
    "    def RES(T):\n",
    "        return P-func_P_cubic(T=T,Vm=Vm)\n",
    "\n",
    "    T=fsolve(func=RES,x0=T_guess(P=P,Vm=max(Vm,b*1.01)))[0]\n",
    "\n",
    "    return T\n",
    "\n",
    "Vmtest=5e-5\n",
    "Ptest=func_P_cubic(T=230,Vm=Vmtest)\n",
    "print(Ptest)\n",
    "print( func_T_cubic(P=Ptest,Vm=Vmtest) )\n"
   ]
  },
  {
   "cell_type": "code",
   "execution_count": 32,
   "metadata": {},
   "outputs": [],
   "source": [
    "# envelope\n",
    "#CALCULAR S PARA CADA TSAT/PSAT/VSATL E TSAT/PSAT/VSATV\n",
    "SL_seq=np.zeros(nPsat)\n",
    "SV_seq=np.zeros(nPsat)\n",
    "for i in range(nPsat):\n",
    "    VL,VV,nV=func_VL_VV_cubic(T=seqT3[i],P=seqP3[i])\n",
    "    ZL=seqP3[i]*VL/(R*seqT3[i])\n",
    "    ZV=seqP3[i]*VV/(R*seqT3[i])\n",
    "    SL_seq[i]=func_Sreal(T=seqT3[i],P=seqP3[i],Z=ZL)\n",
    "    SV_seq[i]=func_Sreal(T=seqT3[i],P=seqP3[i],Z=ZV)"
   ]
  },
  {
   "cell_type": "code",
   "execution_count": 33,
   "metadata": {},
   "outputs": [],
   "source": [
    "# isobaras\n",
    "\n",
    "Ptest=Psat_test\n",
    "nV=1000\n",
    "val_V= np.logspace(np.log10(1.01*b),2+np.log10(R*Tc/Pc),nV) #valores de pressão estipulados\n",
    "\n",
    "seq_T=np.zeros(nV)\n",
    "seq_S=np.zeros(nV)\n",
    "Z=np.zeros(nV)\n",
    "\n",
    "for i in range(nV): #para cada volume terá um valor de T e um de S\n",
    "    seq_T[i]= func_T_cubic(P=Ptest,Vm=seq_V[i])\n",
    "    Z[i]=(Ptest*seq_V[i])/(R*seq_T[i])\n",
    "    seq_S[i]=func_Sreal(T=seq_T[i],P=Ptest,Z=Z[i])"
   ]
  },
  {
   "cell_type": "code",
   "execution_count": 34,
   "metadata": {},
   "outputs": [],
   "source": [
    "Srealc=func_Sreal(T=Tc,P=Pc,Z=Pc*vc/(R*Tc))"
   ]
  },
  {
   "cell_type": "code",
   "execution_count": 35,
   "metadata": {},
   "outputs": [
    {
     "data": {
      "image/png": "[encoded data removed]",
      "text/plain": [
       "<Figure size 432x288 with 1 Axes>"
      ]
     },
     "metadata": {},
     "output_type": "display_data"
    }
   ],
   "source": [
    "plt.plot(SL_seq,seqT3, color='y')\n",
    "plt.plot(SV_seq,seqT3, color='y')\n",
    "plt.ylabel(r'$T (\\mathrm{K})$') \n",
    "plt.xlabel(r'${S} (\\mathrm{J/kg})$')\n",
    "plt.xlim(-120,0)\n",
    "plt.ylim(100,250)\n",
    "plt.scatter(Srealc,Tc, color='y',label=r'$(S_{C},T_{C})$')\n",
    "plt.axhline(Ttest,color='black',ls=':')\n",
    "#isobara\n",
    "plt.plot(seq_S,seq_T,label='{0:.1f}'.format(Ptest/1e5)+' bar')    \n",
    "plt.legend()\n",
    "plt.show()"
   ]
  },
  {
   "cell_type": "markdown",
   "metadata": {},
   "source": [
    "# Conclusão\n",
    "\n",
    "A solução do equilibrio liquido vapor por eos não é simples. há que se preocupar com solução trivial (GresL=GresV | vl=vv; eos retornando uma unica raiz real; dificuldade de convergencia dos metodo numericos...)\n",
    "\n"
   ]
  },
  {
   "cell_type": "markdown",
   "metadata": {},
   "source": [
    "# Referências\n",
    "\n",
    ">* Reid, R. C., Prausnitz, J. M. and Poling, B. E., 1987. The Properties of Gases and Liquids. 4th ed., McGraw-Hill. [ISBN: 0070517991, 9780070517998\n",
    "](https://books.google.com.br/books?id=AcRTAAAAMAAJ)\n",
    "\n",
    ">* Smith, J. M., van Ness, H. C. and Abbott, M. M., 2007. Introdução a termodinâmica da engenharia química. 7a ed., LTC. [ISBN: 8521615531, 9788521615538](https://books.google.com.br/books?id=TzeQPgAACAAJ)\n",
    "\n",
    "\n",
    ">* Topliss, R J., Dimitrelis D., and Prausnitz, J. M., 1988, “Computational Aspects of a Non-Cubic Equation of State for Phase-Equilibrium Calculations. Effect of Density-Dependent Mixing Rules.” Computers & Chemical Engineering 12 (5): 483–89. [doi:10.1016/0098-1354(88)85067-1](http://dx.doi.org/10.1016/0098-1354(88)85067-1)\n",
    "\n",
    ">* [numpy.roots ](https://docs.scipy.org/doc/numpy/reference/generated/numpy.roots.html)\n",
    ">* [scipy.optimize.bisect](https://docs.scipy.org/doc/scipy/reference/generated/scipy.optimize.bisect.html)\n",
    ">* [scipy.optimize.fsolve](https://docs.scipy.org/doc/scipy/reference/generated/scipy.optimize.fsolve.html)"
   ]
  },
  {
   "cell_type": "markdown",
   "metadata": {},
   "source": [
    "## Perspectivas futuras:\n",
    "* Revisar nomenclatura dos vetores de acordo com seus objetivos\n",
    "* Desenhar isentropas no diagrama PxH"
   ]
  }
 ],
 "metadata": {
  "kernelspec": {
   "display_name": "Python [default]",
   "language": "python",
   "name": "python3"
  },
  "language_info": {
   "codemirror_mode": {
    "name": "ipython",
    "version": 3
   },
   "file_extension": ".py",
   "mimetype": "text/x-python",
   "name": "python",
   "nbconvert_exporter": "python",
   "pygments_lexer": "ipython3",
   "version": "3.6.3"
  }
 },
 "nbformat": 4,
 "nbformat_minor": 2
}
