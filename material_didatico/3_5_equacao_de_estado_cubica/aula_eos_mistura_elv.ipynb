{
 "cells": [
  {
   "cell_type": "markdown",
   "metadata": {},
   "source": [
    "# Equação de estado e equilíbrio líquido-vapor para mistura binária"
   ]
  },
  {
   "cell_type": "code",
   "execution_count": 1,
   "metadata": {
    "colab": {},
    "colab_type": "code",
    "id": "y6WEcu5VoW98"
   },
   "outputs": [],
   "source": [
    "import numpy as np\n",
    "#pacote para fazer vetores\n",
    "\n",
    "from matplotlib import pyplot as plt\n",
    "#pacote para desenhar graficos\n",
    "\n",
    "%matplotlib inline\n",
    "#configuração de desenho do gráfico no campo de resultado da célula no próprio arquivo ipynb"
   ]
  },
  {
   "cell_type": "markdown",
   "metadata": {},
   "source": [
    "# unidades"
   ]
  },
  {
   "cell_type": "code",
   "execution_count": 2,
   "metadata": {},
   "outputs": [],
   "source": [
    "R=8.314"
   ]
  },
  {
   "cell_type": "markdown",
   "metadata": {},
   "source": [
    "# Sistema modelado:"
   ]
  },
  {
   "cell_type": "code",
   "execution_count": 3,
   "metadata": {},
   "outputs": [],
   "source": [
    "#nC5\n",
    "Tc1= 469.7 #K\n",
    "Pc1= 33.7e5 #Pa\n",
    "omega1=0.252\n",
    "\n",
    "\n",
    "#Benzeno\n",
    "Tc2= 562.2 #K\n",
    "Pc2= 48.98e5 #Pa\n",
    "omega2= 0.210\n",
    "\n",
    "#nC5\n",
    "def func_Psat1_Antoine(T):\n",
    "    A1 = 13.7667\n",
    "    B1 = 2451.88\n",
    "    C1 = 232.014\n",
    "    Psat1=10**3*np.exp(A1-B1/(T-273.15+C1))\n",
    "    return Psat1\n",
    "\n",
    "#Benzeno\n",
    "def func_Psat2_Antoine(T):\n",
    "    A2=13.7819\n",
    "    B2=2726.81\n",
    "    C2=217.572\n",
    "    Psat2=10**3*np.exp(A2-B2/(T-273.15+C2))\n",
    "    return Psat2"
   ]
  },
  {
   "cell_type": "markdown",
   "metadata": {
    "colab_type": "text",
    "id": "gUvHkw8upSmy"
   },
   "source": [
    "## A equação de Peng-Robinson para mistura"
   ]
  },
  {
   "cell_type": "code",
   "execution_count": 4,
   "metadata": {},
   "outputs": [],
   "source": [
    "def func_P_PengRobinson(T,V,x1,x2):\n",
    "    bm=func_bmix(x1=x1,x2=x2)\n",
    "    am=func_amix(T=T,x1=x1,x2=x2)\n",
    "    return R*T/(V-bm)-am/(V**2+u*bm*V+w*bm**2)\n",
    "\n",
    "#parametros da equação de estado\n",
    "u=2\n",
    "w=-1\n",
    "\n",
    "b1=0.07780*R*Tc1/Pc1\n",
    "\n",
    "def func_a1(T):\n",
    "    Tr1=T/Tc1\n",
    "    return (0.45724*R**2*Tc1**2/Pc1)*(1+f_omega1*(1-np.sqrt(Tr1)))**2\n",
    "\n",
    "f_omega1 = 0.37464 + 1.54226*omega1-0.26992*omega1**2\n",
    "\n",
    "b2=0.07780*R*Tc2/Pc2\n",
    "\n",
    "def func_a2(T):\n",
    "    Tr2=T/Tc2\n",
    "    return (0.45724*R**2*Tc2**2/Pc2)*(1+f_omega2*(1-np.sqrt(Tr2)))**2\n",
    "\n",
    "f_omega2 = 0.37464 + 1.54226*omega2-0.26992*omega2**2\n",
    "\n",
    "def func_bmix(x1,x2):\n",
    "    bm = b1*x1+b2*x2\n",
    "    return bm\n",
    "\n",
    "def func_amix(T,x1,x2): #para kij zero\n",
    "    a1=func_a1(T=T)\n",
    "    a2=func_a2(T=T)\n",
    "    am= x1*x1*np.sqrt(a1*a1)+ \\\n",
    "        x1*x2*np.sqrt(a1*a2)+ \\\n",
    "        x2*x1*np.sqrt(a2*a1)+ \\\n",
    "        x2*x2*np.sqrt(a2*a2)\n",
    "    return am"
   ]
  },
  {
   "cell_type": "markdown",
   "metadata": {},
   "source": [
    "## Cálculo de isopletas de temperatura e composição"
   ]
  },
  {
   "cell_type": "code",
   "execution_count": 5,
   "metadata": {
    "colab": {
     "base_uri": "https://localhost:8080/",
     "height": 1246
    },
    "colab_type": "code",
    "id": "3Ooy7xqORSZ_",
    "outputId": "0840b9d6-1d6d-4224-8236-05e67e812481"
   },
   "outputs": [],
   "source": [
    "Ttest=298\n",
    "nV=100\n",
    "x1test=.1\n",
    "x2test=.9\n",
    "\n",
    "bmtest=func_bmix(x1=x1test,x2=x2test)\n",
    "\n",
    "minV= bmtest*1.01\n",
    "maxV= 1e-1 #m3/mol\n",
    "\n",
    "seqV= np.logspace(np.log10(minV),np.log10(maxV),nV)\n",
    "seqP=np.zeros(nV)\n",
    "\n",
    "for i in range(nV):\n",
    "    seqP[i]=func_P_PengRobinson(T=Ttest,V=seqV[i],x1=x1test,x2=x2test)"
   ]
  },
  {
   "cell_type": "code",
   "execution_count": 6,
   "metadata": {},
   "outputs": [
    {
     "data": {
      "image/png": "[encoded data removed]",
      "text/plain": [
       "<Figure size 432x288 with 1 Axes>"
      ]
     },
     "metadata": {},
     "output_type": "display_data"
    }
   ],
   "source": [
    "plt.plot(seqV,seqP,label='test') \n",
    "plt.axvline(bmtest,color='black',ls=':')\n",
    "\n",
    "plt.xlabel(r'${V} / \\mathrm{m^{3}mol^{-1}}$')\n",
    "plt.ylabel(r'$P / \\mathrm{Pa}$')\n",
    "plt.title('Equação de estado de Peng e Robinson') \n",
    "plt.ylim(-1e6,1e7)\n",
    "plt.xlim(1e-5,1e-1) \n",
    "plt.xscale('log')\n",
    "plt.legend()\n",
    "plt.show()"
   ]
  },
  {
   "cell_type": "markdown",
   "metadata": {},
   "source": [
    "## Cálculo de volume"
   ]
  },
  {
   "cell_type": "code",
   "execution_count": 7,
   "metadata": {
    "colab": {
     "base_uri": "https://localhost:8080/",
     "height": 371
    },
    "colab_type": "code",
    "id": "o_5CpR43R9V0",
    "outputId": "b531f28e-af7d-4a71-8a2c-ed59f76cd87e"
   },
   "outputs": [
    {
     "name": "stdout",
     "output_type": "stream",
     "text": [
      "vL, vV, nVphys\n",
      "8.95654170542e-05 0.0236542569148 3\n"
     ]
    },
    {
     "data": {
      "image/png": "[encoded data removed]",
      "text/plain": [
       "<Figure size 432x288 with 1 Axes>"
      ]
     },
     "metadata": {},
     "output_type": "display_data"
    }
   ],
   "source": [
    "def func_VL_VV_cubic(T,P,x1,x2):\n",
    "    am=func_amix(T=T,x1=x1,x2=x2)\n",
    "    A=am*P/(R**2*T**2)\n",
    "    bm=func_bmix(x1=x1,x2=x2)\n",
    "    B=bm*P/(R*T)\n",
    "    \n",
    "    c3=1 \n",
    "    c2=-(1+B-u*B)\n",
    "    c1=(A+w*B**2-u*B-u*B**2)\n",
    "    c0=-A*B-w*B**2-w*B**3\n",
    "    \n",
    "    list_coeffs=[c3,c2,c1,c0]\n",
    "\n",
    "    Z1,Z2,Z3=np.roots(list_coeffs) #Como c3=1, nunca vai vir menos de três raízes (incluindo real e complexa)\n",
    "    \n",
    "    V1=Z1*R*T/P\n",
    "    V2=Z2*R*T/P\n",
    "    V3=Z3*R*T/P\n",
    "        \n",
    "    imag_tol = 1e-11\n",
    "\n",
    "    listVphysical=[]\n",
    "    \n",
    "    for V in [V1,V2,V3]:\n",
    "        if (abs(V.imag) < imag_tol) and (V.real > bm): #condicao para existencia de um valor real\n",
    "            listVphysical.append(V.real)\n",
    "    nVphysical = len(listVphysical)\n",
    "    vL=min(listVphysical) #se shouver apenas um V físico a função vai retornar valores de Volume iguais para liq e vap\n",
    "    vV=max(listVphysical) \n",
    "    \n",
    "    return vL, vV, nVphysical\n",
    "\n",
    "Ptest=1e5\n",
    "vL, vV, nVphys  = func_VL_VV_cubic(T=Ttest,P=Ptest,x1=x1test,x2=x2test)\n",
    "print (\"vL, vV, nVphys\")     \n",
    "print(vL, vV, nVphys)    \n",
    "    \n",
    "plt.plot(seqV,seqP,label='test') \n",
    "plt.scatter(vL,Ptest,label=\"vL\") \n",
    "plt.scatter(vV,Ptest,label=\"vV\") \n",
    "plt.axhline(Ptest,color='black',ls=':')\n",
    "\n",
    "plt.xlabel(r'${V} / \\mathrm{m^{3}mol^{-1}}$')\n",
    "plt.ylabel(r'$P / \\mathrm{Pa}$')\n",
    "plt.title('Equação de estado de Peng e Robinson') \n",
    "plt.ylim(-1e6,1e6)\n",
    "plt.xlim(1e-5,1e-1) \n",
    "plt.xscale('log')\n",
    "plt.legend()\n",
    "plt.show()  "
   ]
  },
  {
   "cell_type": "markdown",
   "metadata": {},
   "source": [
    "# Coeficientes de fugacidade"
   ]
  },
  {
   "cell_type": "code",
   "execution_count": 8,
   "metadata": {
    "colab": {
     "base_uri": "https://localhost:8080/",
     "height": 51
    },
    "colab_type": "code",
    "id": "Upgje4mkSls9",
    "outputId": "7e28dedb-322d-4ca5-dbf5-81807d780738"
   },
   "outputs": [
    {
     "name": "stdout",
     "output_type": "stream",
     "text": [
      "phi1 0.95907759394\n",
      "phi2 0.956332249343\n"
     ]
    }
   ],
   "source": [
    "def func_lnphi1(T,P,Z,x1,x2):\n",
    "    bm = func_bmix(x1=x1,x2=x2)\n",
    "    B=bm*P/(R*T)\n",
    "    am = func_amix(T=T,x1=x1,x2=x2)\n",
    "    A=am*P/(R**2*T**2)\n",
    "    a1=func_a1(T=T)\n",
    "    sigma1=2*(a1/am)**.5    \n",
    "    return (b1/bm)*(Z-1) - np.log(Z-B) + A/(B*((u**2-4*w))**.5)*(b1/bm-sigma1)*np.log((2*Z+B*(u+(u**2-4*w)**.5))/(2*Z+B*(u-(u**2-4*w)**.5)))\n",
    "\n",
    "def func_lnphi2(T,P,Z,x1,x2):\n",
    "    b = func_bmix(x1=x1,x2=x2)\n",
    "    B=b*P/(R*T)\n",
    "    a = func_amix(T=T,x1=x1,x2=x2)\n",
    "    A=a*P/(R**2*T**2)\n",
    "    a2=func_a2(T)\n",
    "    sigma2=2*(a2/a)**.5\n",
    "    return (b2/b)*(Z-1) - np.log(Z-B) + A/(B*((u**2-4*w))**.5)*(b2/b-sigma2)*np.log((2*Z+B*(u+(u**2-4*w)**.5))/(2*Z+B*(u-(u**2-4*w)**.5)))\n",
    "\n",
    "Ttest=298\n",
    "x1test=.5\n",
    "x2test=.5\n",
    "Ptest=1e5\n",
    "\n",
    "Vm_Ltest,Vm_Vtest,nVphystest = func_VL_VV_cubic(T=Ttest,P=Ptest,x1=x1test, x2=x2test)\n",
    "\n",
    "ZVtest=(Ptest*Vm_Vtest)/(R*Ttest)\n",
    "\n",
    "lnphi1_test = func_lnphi1(T=Ttest,P=Ptest,Z=ZVtest,x1=x1test,x2=x2test)\n",
    "lnphi2_test = func_lnphi2(T=Ttest,P=Ptest,Z=ZVtest,x1=x1test,x2=x2test)\n",
    "\n",
    "print (\"phi1\", np.exp(lnphi1_test))\n",
    "print (\"phi2\", np.exp(lnphi2_test))"
   ]
  },
  {
   "cell_type": "code",
   "execution_count": 9,
   "metadata": {
    "colab": {
     "base_uri": "https://localhost:8080/",
     "height": 51
    },
    "colab_type": "code",
    "id": "Aj2xGDMbTyV1",
    "outputId": "299d49ff-812b-4474-c515-efcaa178bcf6"
   },
   "outputs": [
    {
     "name": "stdout",
     "output_type": "stream",
     "text": [
      "(Gres1/RT): -0.0380873189661 ln(phi1): -0.0380873189661\n",
      "(Gres2/RT): -0.0407048761148 ln(phi2): -0.0407048761148\n"
     ]
    }
   ],
   "source": [
    "def func_Gres1_RT(T,P,Z):    \n",
    "    a=func_a1(T)\n",
    "    A=a*P/(R**2*T**2)\n",
    "    b=b1\n",
    "    B=b*P/(R*T)\n",
    "    T1=A/(B*(u**2-4*w)**.5)\n",
    "    T2=(-1)\n",
    "    T3=2*Z+B*(u+(u**2-4*w)**.5)\n",
    "    T4=2*Z+B*(u-(u**2-4*w)**.5)\n",
    "    Gres_RT_TPZ = (Z-1)-np.log(Z-B)+T1*T2*np.log(T3/T4)\n",
    "    return Gres_RT_TPZ\n",
    "\n",
    "def func_Gres2_RT(T,P,Z):    \n",
    "    a=func_a2(T)\n",
    "    A=a*P/(R**2*T**2)\n",
    "    b=b2\n",
    "    B=b*P/(R*T)\n",
    "    T1=A/(B*(u**2-4*w)**.5)\n",
    "    T2=(-1)\n",
    "    T3=2*Z+B*(u+(u**2-4*w)**.5)\n",
    "    T4=2*Z+B*(u-(u**2-4*w)**.5)\n",
    "    Gres_RT_TPZ = (Z-1)-np.log(Z-B)+T1*T2*np.log(T3/T4)\n",
    "    return Gres_RT_TPZ\n",
    "\n",
    "Ttest=298\n",
    "Ptest=1e5\n",
    "\n",
    "Vmi_L,Vmi_V,nVphys = func_VL_VV_cubic(T=Ttest,P=Ptest,x1=1,x2=0)\n",
    "ZVtest=R*Ttest/(Ptest*Vm_Vtest)\n",
    "G1test = func_Gres1_RT(T=Ttest,P=Ptest,Z=ZVtest)\n",
    "lnphi1test=func_lnphi1(T=Ttest,P=Ptest,Z=ZVtest,x1=1,x2=0)\n",
    "print(\"(Gres1/RT):\",(G1test), \"ln(phi1):\", lnphi1test)\n",
    "\n",
    "Vmi_L,Vmi_V,nVphys = func_VL_VV_cubic(T=Ttest,P=Ptest,x1=0,x2=1)\n",
    "ZVtest=R*Ttest/(Ptest*Vm_Vtest)\n",
    "G2test = func_Gres2_RT(T=Ttest,P=Ptest,Z=ZVtest)\n",
    "lnphi2test=func_lnphi2(T=Ttest,P=Ptest,Z=ZVtest,x1=0,x2=1)\n",
    "print(\"(Gres2/RT):\",(G2test), \"ln(phi2):\",lnphi2test)"
   ]
  },
  {
   "cell_type": "markdown",
   "metadata": {},
   "source": [
    "# Cálculo de pressão de ponto de bolha"
   ]
  },
  {
   "cell_type": "code",
   "execution_count": 10,
   "metadata": {
    "colab": {
     "base_uri": "https://localhost:8080/",
     "height": 34
    },
    "colab_type": "code",
    "id": "U65gVXYRpXBN",
    "outputId": "41101fbe-f286-4f2d-9d72-a8bbf2b94ec9"
   },
   "outputs": [
    {
     "name": "stdout",
     "output_type": "stream",
     "text": [
      "(40359.666723757153, 0.84390233567079975, 0.15609766432920016)\n"
     ]
    }
   ],
   "source": [
    "#estimativa inicial\n",
    "def func_Pbolha_ideal(T,z1,z2):\n",
    "    x1=z1\n",
    "    x2=z2\n",
    "    \n",
    "    Psat1=func_Psat1_Antoine(T=T)\n",
    "    Psat2=func_Psat2_Antoine(T=T)\n",
    "    \n",
    "    #calculo da pressao com a equaão classica P=somatorio(xi gammi psati)\n",
    "    #     #gamma ideal\n",
    "    #     gamma1=1\n",
    "    #     gamma2=1\n",
    "    P=x1*Psat1+x2*Psat2\n",
    "    \n",
    "    #calculo posterior das fracoes molares na fase gas\n",
    "    y1=x1*Psat1/P\n",
    "    y2=x2*Psat2/P\n",
    "    \n",
    "    return P, y1,y2\n",
    "\n",
    "x1test=.5\n",
    "x2test=.5\n",
    "Ttest=298\n",
    "\n",
    "print(func_Pbolha_ideal(T=Ttest,z1=x1test,z2=x2test))"
   ]
  },
  {
   "cell_type": "code",
   "execution_count": 11,
   "metadata": {
    "colab": {
     "base_uri": "https://localhost:8080/",
     "height": 102
    },
    "colab_type": "code",
    "id": "EtX0UKEftXut",
    "outputId": "b5674bed-1d31-4e81-ad6f-93b6d13a9287"
   },
   "outputs": [
    {
     "name": "stdout",
     "output_type": "stream",
     "text": [
      "40359.6667238 0.843902335671 0.156097664329\n",
      "f1_L: 35811.3003389 f2_L: 7422.7272605\n",
      "fug: 33495.8173333 6188.87697937\n",
      "y_novo: 0.902239216877 0.187218196804\n",
      "res_loopY: 0.0894574136802\n",
      "i: 1\n",
      "fug: 35811.3022732 7422.72521636\n",
      "y_novo: 0.902239168144 0.187218248362\n",
      "res_loopY: 1.00290151323e-07\n",
      "i: 2\n",
      "fug: 35811.3003389 7422.72726049\n",
      "y_novo: 0.902239168144 0.187218248362\n",
      "res_loopY: 3.04506420079e-13\n",
      "i: 3\n",
      "P: 43970.1382399\n",
      "j: 1\n",
      "fug: 38956.237829 8073.76685346\n",
      "y_novo: 0.829401390602 0.172121640493\n",
      "res_loopY: 0.0879343854112\n",
      "i: 1\n",
      "fug: 35811.300341 7422.72725845\n",
      "y_novo: 0.829401390554 0.172121640541\n",
      "res_loopY: 9.49889611412e-11\n",
      "i: 2\n",
      "P: 44037.1061277\n",
      "j: 2\n",
      "fug: 35864.840658 7433.81067452\n",
      "y_novo: 0.828163230443 0.171865016383\n",
      "res_loopY: 0.00149478426907\n",
      "i: 1\n",
      "fug: 35811.300339 7422.72726046\n",
      "y_novo: 0.828163230442 0.171865016384\n",
      "res_loopY: 1.76575420952e-12\n",
      "i: 2\n",
      "P: 44038.3500361\n",
      "j: 3\n",
      "fug: 35812.293321 7422.93281829\n",
      "y_novo: 0.828140267623 0.171860257053\n",
      "res_loopY: 2.77221501747e-05\n",
      "i: 1\n",
      "fug: 35811.3003389 7422.7272605\n",
      "y_novo: 0.828140267623 0.171860257053\n",
      "res_loopY: 3.28070903777e-14\n",
      "i: 2\n",
      "P: 44038.373142\n",
      "j: 4\n",
      "fug: 35811.3187832 7422.73107866\n",
      "y_novo: 0.828139841096 0.17186016865\n",
      "res_loopY: 5.14929446999e-07\n",
      "i: 1\n",
      "fug: 35811.3003389 7422.7272605\n",
      "y_novo: 0.828139841096 0.17186016865\n",
      "res_loopY: 8.60422844084e-16\n",
      "i: 2\n",
      "P: 44038.3735712\n",
      "j: 5\n",
      "fug: 35811.3006815 7422.72733142\n",
      "y_novo: 0.828139833173 0.171860167008\n",
      "res_loopY: 9.5649131393e-09\n",
      "i: 1\n",
      "fug: 35811.3003389 7422.7272605\n",
      "y_novo: 0.828139833173 0.171860167008\n",
      "res_loopY: 4.16333634234e-16\n",
      "i: 2\n",
      "P: 44038.3735791\n",
      "j: 6\n",
      "P: 44038.3735791 y1: 0.828139833173 y2: 0.171860167008 i: 2 j: 6\n"
     ]
    }
   ],
   "source": [
    "#Pbolha_phiphi\n",
    "\n",
    "#especificacao\n",
    "x1=.5\n",
    "x2=.5\n",
    "T=298\n",
    "\n",
    "#estimativa inicial de Pbolha\n",
    "Pbolha, y1, y2 = func_Pbolha_ideal(T=T,z1=x1,z2=x2)\n",
    "print(Pbolha, y1, y2)\n",
    "\n",
    "P=Pbolha\n",
    "\n",
    "#fugacidade do liquido\n",
    "\n",
    "Vm_L,Vm_V,nVphys = func_VL_VV_cubic(T=T,P=P,x1=x1,x2=x2) \n",
    "\n",
    "ZL=(P*Vm_L)/(R*T)\n",
    "\n",
    "phi1_L=np.exp( func_lnphi1(T=T,P=P,Z=ZL,x1=x1,x2=x2) )\n",
    "phi2_L=np.exp( func_lnphi2(T=T,P=P,Z=ZL,x1=x1,x2=x2) )\n",
    "\n",
    "\n",
    "f1_L=phi1_L*x1*P\n",
    "f2_L=phi2_L*x2*P\n",
    "\n",
    "print(\"f1_L:\",f1_L,\"f2_L:\",f2_L)\n",
    "\n",
    "j=0\n",
    "res_loopP=1\n",
    "soma_y=y1+y2\n",
    "while (res_loopP>1e-9 and j<100):\n",
    "    res_loopY=1 #qq coisa maior q 1e-6\n",
    "    i=0\n",
    "    while (res_loopY>1e-9 and i<100):\n",
    "        #fugacidade do vapor\n",
    "        \n",
    "        Vm_L,Vm_V,nV = func_VL_VV_cubic(T=T,P=P,x1=y1/soma_y ,x2=y2/soma_y)\n",
    "        ZV=(P*Vm_V)/(R*T)\n",
    "        phi1_V=np.exp( func_lnphi1(T=T,P=P,Z=ZV,x1=y1/soma_y ,x2=y2/soma_y) )\n",
    "        phi2_V=np.exp( func_lnphi2(T=T,P=P,Z=ZV,x1=y1/soma_y ,x2=y2/soma_y) )\n",
    "\n",
    "\n",
    "        f1_V=phi1_V*y1*P\n",
    "        f2_V=phi2_V*y2*P\n",
    "\n",
    "        print('fug:',f1_V,f2_V)\n",
    "\n",
    "        #calculando yi'\n",
    "        y1_novo=y1*f1_L/f1_V\n",
    "        y2_novo=y2*f2_L/f2_V\n",
    "        print('y_novo:',y1_novo,y2_novo)\n",
    "\n",
    "        res1=y1_novo-y1\n",
    "        #print(res1)\n",
    "        res2=y2_novo-y2\n",
    "        #print(res2)\n",
    "        res_loopY=abs(res1)+abs(res2)\n",
    "        print('res_loopY:',res_loopY)\n",
    "\n",
    "        soma_y=y1_novo+y2_novo #normalizacao dos y p/ entrar na eq de estado como uma fracao\n",
    "\n",
    "        y1=y1_novo #salvando o novo como o 'y velho' da iteracao anterior\n",
    "        y2=y2_novo\n",
    "        i=i+1\n",
    "        print('i:',i)\n",
    "\n",
    "    res_loopP=abs(soma_y-1)\n",
    "    P=P*soma_y #atualiza P\n",
    "    print('P:',P)\n",
    "    j=j+1\n",
    "    print('j:',j)\n",
    "    \n",
    "Pbolha=P\n",
    "print(\"P:\", Pbolha,\"y1:\",y1,\"y2:\",y2,\"i:\",i,\"j:\",j)"
   ]
  },
  {
   "cell_type": "code",
   "execution_count": 12,
   "metadata": {
    "colab": {},
    "colab_type": "code",
    "id": "p1H-8TJJ6cr3"
   },
   "outputs": [],
   "source": [
    "def func_Pbolha_phiphi(T,x1,x2):\n",
    "    #estimativa inicial de Pbolha\n",
    "    P, y1, y2 = func_Pbolha_ideal(T=T,z1=x1,z2=x2)\n",
    "\n",
    "    j=0\n",
    "    res_loopP=1\n",
    "    soma_y=y1+y2\n",
    "    while (res_loopP>1e-6 and j<100):\n",
    "        \n",
    "        #fugacidade do liquido\n",
    "        Vm_L,Vm_V,nVphys = func_VL_VV_cubic(T=T,P=P,x1=x1,x2=x2) \n",
    "        ZL=(P*Vm_L)/(R*T)\n",
    "        phi1_L=np.exp( func_lnphi1(T=T,P=P,Z=ZL,x1=x1,x2=x2) )\n",
    "        phi2_L=np.exp( func_lnphi2(T=T,P=P,Z=ZL,x1=x1,x2=x2) )\n",
    "        f1_L=phi1_L*x1*P\n",
    "        f2_L=phi2_L*x2*P        \n",
    "        \n",
    "        res_loopY=1 #qq coisa maior q 1e-6\n",
    "        i=0\n",
    "        while (res_loopY>1e-6 and i<100):\n",
    "            #fugacidade do vapor\n",
    "            Vm_L,Vm_V,nV = func_VL_VV_cubic(T=T,P=P,x1=y1/soma_y ,x2=y2/soma_y)\n",
    "            ZV=(P*Vm_V)/(R*T)\n",
    "            phi1_V=np.exp( func_lnphi1(T=T,P=P,Z=ZV,x1=y1/soma_y ,x2=y2/soma_y) )\n",
    "            phi2_V=np.exp( func_lnphi2(T=T,P=P,Z=ZV,x1=y1/soma_y ,x2=y2/soma_y) )\n",
    "            f1_V=phi1_V*y1*P\n",
    "            f2_V=phi2_V*y2*P\n",
    "\n",
    "            #calculando yi'\n",
    "            y1_novo=y1*f1_L/f1_V\n",
    "            y2_novo=y2*f2_L/f2_V\n",
    "            res1=y1_novo-y1\n",
    "            res2=y2_novo-y2\n",
    "            res_loopY=abs(res1)+abs(res2)\n",
    "            soma_y=y1_novo+y2_novo #normalizacao dos y p/ entrar na eq de estado como uma fracao\n",
    "            y1=y1_novo #salvando o novo como o 'y velho' da iteracao anterior\n",
    "            y2=y2_novo\n",
    "            i=i+1\n",
    "\n",
    "        res_loopP=abs(soma_y-1)\n",
    "        P=P*soma_y #atualiza P\n",
    "        j=j+1\n",
    "    return  P, y1, y2"
   ]
  },
  {
   "cell_type": "code",
   "execution_count": 13,
   "metadata": {
    "colab": {},
    "colab_type": "code",
    "id": "2_pYxM6Q6An-"
   },
   "outputs": [],
   "source": [
    "#fazer um gráfico\n",
    "Ttest=298\n",
    "nx=100\n",
    "vetor_x1 = np.linspace(0.0001,0.9999,nx) #vetor_fracoes_molares_de_A_em_fase_liquida\n",
    "vetor_x2 = 1.-vetor_x1 #subtração termo-a-termo\n",
    "\n",
    "vetor_y1 = np.zeros(nx) #vetores de zeros para fazer o calculpo sequencial\n",
    "vetor_y2 = np.zeros(nx)\n",
    "vetor_P = np.zeros(nx)\n",
    "\n",
    "#para i indo de 0 ate 99 (100 ptos)\n",
    "for i in range(nx):\n",
    "    #--------------------------------------chma a função p bolha\n",
    "    # usando como compoisção o iésimo x1 e x2 do nosso vetor para calculo sequencial\n",
    "    #salvar a resposta de pressao e a resposta de y no iesimo elemtno dos vetor prealocados\n",
    "    vetor_P[i],vetor_y1[i],vetor_y2[i] = func_Pbolha_phiphi(T=Ttest,x1=vetor_x1[i],x2=vetor_x2[i])"
   ]
  },
  {
   "cell_type": "code",
   "execution_count": 14,
   "metadata": {
    "colab": {
     "base_uri": "https://localhost:8080/",
     "height": 312
    },
    "colab_type": "code",
    "id": "eCShmp0E6DPV",
    "outputId": "22878c37-4312-44eb-9504-12e2be6c0380"
   },
   "outputs": [
    {
     "data": {
      "image/png": "[encoded data removed]",
      "text/plain": [
       "<Figure size 432x288 with 1 Axes>"
      ]
     },
     "metadata": {},
     "output_type": "display_data"
    }
   ],
   "source": [
    "plt.title('diagrama de equilibrio liquido vapor \\n'r'pelo metodo de pressao de ponto de bolha $\\phi$-$\\phi$')\n",
    "plt.plot(vetor_x1,vetor_P,label='curva de ponto de bolha')\n",
    "plt.plot(vetor_y1,vetor_P,label='curva de ponto de orvalho')\n",
    "plt.ylabel('P')\n",
    "plt.xlabel(r'$x_1,y_1,z_1$')\n",
    "plt.legend()\n",
    "plt.xlim(0,1)\n",
    "plt.show()"
   ]
  }
 ],
 "metadata": {
  "colab": {
   "collapsed_sections": [],
   "name": "Trab_Termao_Pt2.ipynb",
   "provenance": [],
   "version": "0.3.2"
  },
  "kernelspec": {
   "display_name": "Python [default]",
   "language": "python",
   "name": "python3"
  },
  "language_info": {
   "codemirror_mode": {
    "name": "ipython",
    "version": 3
   },
   "file_extension": ".py",
   "mimetype": "text/x-python",
   "name": "python",
   "nbconvert_exporter": "python",
   "pygments_lexer": "ipython3",
   "version": "3.6.3"
  }
 },
 "nbformat": 4,
 "nbformat_minor": 1
}
