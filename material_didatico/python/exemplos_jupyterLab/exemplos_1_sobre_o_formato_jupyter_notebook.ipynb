{
 "cells": [
  {
   "cell_type": "markdown",
   "metadata": {
    "slideshow": {
     "slide_type": "slide"
    }
   },
   "source": [
    "# O formato jupyter notebook\n",
    "\n",
    "Este é um arquivo jupyter-notebook (extensão .ipynb)\n",
    "Ele pode ser lido e executado no programa jupyter-lab que vem na instalação do anaconda.\n",
    "( o programa jupyter-notebook abre os arquivos ipynb organizados em abas no seu navegador de internet, o programa jupyter-lab abre uma única aba, e carrega os notebooks em sub-abas dessa, fica mais organizado.)\n",
    "Ele também pode ser rodado na plataforma online google colab\n",
    "\n",
    ">- download anaconda: https://www.anaconda.com/\n",
    ">- google colab: https://colab.research.google.com/\n",
    "\n",
    "O notebook é organizado em células\n",
    "Esta é uma célula de texto\n",
    "No jupyter-lab ou google colab existem botões para criar mais células (+), interpretar cada célula como texto ou código (Markdown/Code) e fazer a execução do código (>|).\n",
    "A seguir temos uma célula de código"
   ]
  },
  {
   "cell_type": "code",
   "execution_count": 1,
   "metadata": {
    "slideshow": {
     "slide_type": "slide"
    }
   },
   "outputs": [],
   "source": [
    "#vinculando o nome x ao objeto que representa o número 1\n",
    "#ou, dando o valor de 1 à variável x\n",
    "x=1"
   ]
  },
  {
   "cell_type": "markdown",
   "metadata": {
    "slideshow": {
     "slide_type": "slide"
    }
   },
   "source": [
    "Se a última linha de código de uma célula do noteboook não faz um vínculo (se não usa o =), Oonotebook automaticamente imprime uma representação do objeto"
   ]
  },
  {
   "cell_type": "code",
   "execution_count": 2,
   "metadata": {
    "slideshow": {
     "slide_type": "slide"
    }
   },
   "outputs": [
    {
     "data": {
      "text/plain": [
       "2"
      ]
     },
     "execution_count": 2,
     "metadata": {},
     "output_type": "execute_result"
    }
   ],
   "source": [
    "y=2\n",
    "y"
   ]
  },
  {
   "cell_type": "markdown",
   "metadata": {
    "slideshow": {
     "slide_type": "slide"
    }
   },
   "source": [
    "O número que aparece entre colchetes à esquera da célula indica a ordem em que as células foram executadas. O que importa (o que o kernel lembra) é a ordem em que as células foram executadas, e não a ordem em que elas estão dispostas no notebook, experimente rodar as quatro células a seguir em ordens diferentes."
   ]
  },
  {
   "cell_type": "code",
   "execution_count": 3,
   "metadata": {
    "slideshow": {
     "slide_type": "slide"
    }
   },
   "outputs": [],
   "source": [
    "#atribui um valor 1 à variavel x\n",
    "x=1"
   ]
  },
  {
   "cell_type": "code",
   "execution_count": 4,
   "metadata": {
    "slideshow": {
     "slide_type": "slide"
    }
   },
   "outputs": [],
   "source": [
    "#modifica o valor da variável x, o valor novo atriibuido a ela será o resultado da soma entre seu valor antigo e 1\n",
    "x=x+1"
   ]
  },
  {
   "cell_type": "code",
   "execution_count": 5,
   "metadata": {
    "slideshow": {
     "slide_type": "slide"
    }
   },
   "outputs": [],
   "source": [
    "#modifica o valor da variável x, o valor novo atriibuido a ela será o resultado do produto entre seu valor antigo e 10\n",
    "x=x*100"
   ]
  },
  {
   "cell_type": "code",
   "execution_count": 6,
   "metadata": {
    "slideshow": {
     "slide_type": "slide"
    }
   },
   "outputs": [
    {
     "data": {
      "text/plain": [
       "200"
      ]
     },
     "execution_count": 6,
     "metadata": {},
     "output_type": "execute_result"
    }
   ],
   "source": [
    "#\n",
    "x"
   ]
  },
  {
   "cell_type": "markdown",
   "metadata": {
    "slideshow": {
     "slide_type": "slide"
    }
   },
   "source": [
    "Para fazer o kernel esquecer todas as variáveis definidas, usar o botão `kernel` > `restart & clear output`"
   ]
  },
  {
   "cell_type": "markdown",
   "metadata": {},
   "source": [
    "também é possível rodar o comando %reset -f em uma célula, o qual é interpretado pelo kernel (ipython), e não pela linguagem python, exemplo:"
   ]
  },
  {
   "cell_type": "code",
   "execution_count": 7,
   "metadata": {},
   "outputs": [],
   "source": [
    "%reset -f"
   ]
  },
  {
   "cell_type": "code",
   "execution_count": 8,
   "metadata": {},
   "outputs": [
    {
     "ename": "NameError",
     "evalue": "name 'x' is not defined",
     "output_type": "error",
     "traceback": [
      "\u001b[0;31m---------------------------------------------------------------------------\u001b[0m",
      "\u001b[0;31mNameError\u001b[0m                                 Traceback (most recent call last)",
      "\u001b[0;32m<ipython-input-8-f4ed74eca506>\u001b[0m in \u001b[0;36m<module>\u001b[0;34m()\u001b[0m\n\u001b[1;32m      1\u001b[0m \u001b[0;31m#essa célula vai dar erro pois o comando %reset -f fez o kernel esquecer quem é a variável x\u001b[0m\u001b[0;34m\u001b[0m\u001b[0;34m\u001b[0m\u001b[0m\n\u001b[0;32m----> 2\u001b[0;31m \u001b[0mx\u001b[0m\u001b[0;34m\u001b[0m\u001b[0m\n\u001b[0m",
      "\u001b[0;31mNameError\u001b[0m: name 'x' is not defined"
     ]
    }
   ],
   "source": [
    "#essa célula vai dar erro pois o comando %reset -f fez o kernel esquecer quem é a variável x\n",
    "x"
   ]
  },
  {
   "cell_type": "markdown",
   "metadata": {},
   "source": [
    "O comando import é interpretado pelo python, e carrega códigos de um arquivo formato python (extensão .py).\n",
    "A célula a seguir tenta importar o módulo python_tutor_magic, descrito no arquivo python_tutor_magic.py, que deve estar na mesma pasta que este notebook, ou nos diretórios de instalação do python."
   ]
  },
  {
   "cell_type": "code",
   "execution_count": null,
   "metadata": {},
   "outputs": [],
   "source": [
    "from python_tutor_magic import pythontutor"
   ]
  },
  {
   "cell_type": "markdown",
   "metadata": {},
   "source": [
    "Esse módulo serve para podermos usar o comando %%pythontutor, que instrui o kernel a converter o código da célula em um link para a plataforma de visualização de código python tutor, em vez de executar o código aqui.\n",
    "para executar o código aqui basta remover ou comentar a linha do comando %%pythontutor.\n",
    "\n",
    "Abrir o link com Ctrl+Click para abrir em uma nova aba"
   ]
  },
  {
   "cell_type": "code",
   "execution_count": null,
   "metadata": {},
   "outputs": [],
   "source": [
    "%%pythontutor\n",
    "x=1\n",
    "x=x+1\n",
    "print(x)"
   ]
  },
  {
   "cell_type": "code",
   "execution_count": null,
   "metadata": {
    "slideshow": {
     "slide_type": "slide"
    }
   },
   "outputs": [],
   "source": [
    "#%%pythontutor\n",
    "x=1\n",
    "x=x+1\n",
    "print(x)"
   ]
  },
  {
   "cell_type": "markdown",
   "metadata": {
    "slideshow": {
     "slide_type": "slide"
    }
   },
   "source": [
    "O jupyter noteboook pode ser usado com os botões ou com teclas de atalho (hotkeys) no teclado.\n",
    "\n",
    "As teclas de atalho estão resumidas nessa tabela do site cheatography\n",
    ">- cheatography: https://www.cheatography.com/weidadeyue/cheat-sheets/jupyter-notebook/pdf/"
   ]
  }
 ],
 "metadata": {
  "celltoolbar": "Slideshow",
  "kernelspec": {
   "display_name": "Python [default]",
   "language": "python",
   "name": "python3"
  },
  "language_info": {
   "codemirror_mode": {
    "name": "ipython",
    "version": 3
   },
   "file_extension": ".py",
   "mimetype": "text/x-python",
   "name": "python",
   "nbconvert_exporter": "python",
   "pygments_lexer": "ipython3",
   "version": "3.6.3"
  }
 },
 "nbformat": 4,
 "nbformat_minor": 2
}
