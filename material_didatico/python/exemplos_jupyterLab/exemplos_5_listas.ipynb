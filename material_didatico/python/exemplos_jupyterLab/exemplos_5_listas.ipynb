{
 "cells": [
  {
   "cell_type": "markdown",
   "metadata": {},
   "source": [
    "# exemplos 5: listas e iteração"
   ]
  },
  {
   "cell_type": "code",
   "execution_count": 1,
   "metadata": {},
   "outputs": [],
   "source": [
    "#importar o comando pythontutor para gerar os links de cada exemplo para o site de visualização\n",
    "from python_tutor_magic import pythontutor"
   ]
  },
  {
   "cell_type": "markdown",
   "metadata": {},
   "source": [
    "# lista"
   ]
  },
  {
   "cell_type": "code",
   "execution_count": 8,
   "metadata": {},
   "outputs": [
    {
     "data": {
      "text/plain": [
       "[1, 2, 3, 4, 5]"
      ]
     },
     "execution_count": 8,
     "metadata": {},
     "output_type": "execute_result"
    }
   ],
   "source": [
    "#%%pythontutor\n",
    "\n",
    "t1=[1,2,3,4,5]\n",
    "t1"
   ]
  },
  {
   "cell_type": "markdown",
   "metadata": {},
   "source": [
    "# indexing"
   ]
  },
  {
   "cell_type": "code",
   "execution_count": 9,
   "metadata": {},
   "outputs": [
    {
     "data": {
      "text/plain": [
       "([42, 72, 53], 42, 72, 53, 53, 72)"
      ]
     },
     "execution_count": 9,
     "metadata": {},
     "output_type": "execute_result"
    }
   ],
   "source": [
    "#%%pythontutor\n",
    "\n",
    "t1=[42,72,53]\n",
    "\n",
    "primeiro=t1[0]\n",
    "#a indexação começa pelo 0\n",
    "\n",
    "segundo=t1[1]\n",
    "\n",
    "terceiro=t1[2]\n",
    "\n",
    "ultimo=t1[-1]\n",
    "penultimo=t1[-2]\n",
    "\n",
    "t1, primeiro, segundo, terceiro, ultimo, penultimo"
   ]
  },
  {
   "cell_type": "code",
   "execution_count": 10,
   "metadata": {},
   "outputs": [],
   "source": [
    "#%%pythontutor\n",
    "\n",
    "t1=[12,32,59,34,88,10,62,99]\n",
    "\n",
    "uma_faixa=t1[1:4]\n",
    "#começa no 1 e para antes do 4\n",
    "\n",
    "do_comeco_ate_o_quarto=t1[:4]\n",
    "#começa do começo para antes do 4\n",
    "\n",
    "ate_o_penultimo=t1[:-1]\n",
    "#começa do começo e para antes do ultimo\n",
    "\n",
    "do_segundo_em_diante=t1[1:]\n",
    "#começa do 1 e vai até o final\n",
    "\n",
    "um_sim_um_nao=t1[::2]\n",
    "#começa do começo e vai até o final com passo 2\n",
    "\n",
    "tudo_ao_contrario=t1[::-1]\n",
    "#começa do final e vai até o começo com passo -1"
   ]
  },
  {
   "cell_type": "code",
   "execution_count": 18,
   "metadata": {},
   "outputs": [
    {
     "data": {
      "text/plain": [
       "[999, 33, 44, 55, 888, 777, 666, 555]"
      ]
     },
     "execution_count": 18,
     "metadata": {},
     "output_type": "execute_result"
    }
   ],
   "source": [
    "#%%pythontutor\n",
    "\n",
    "lista=[11,22,33,44,55]\n",
    "\n",
    "#revincular elemento\n",
    "lista[0]=999\n",
    "\n",
    "#apensar elemento\n",
    "lista.append(888)\n",
    "\n",
    "#estender com outra lista\n",
    "lista.extend([777,666,555])\n",
    "\n",
    "#remover elemento por indice\n",
    "lista.pop(1)\n",
    "\n",
    "lista"
   ]
  },
  {
   "cell_type": "markdown",
   "metadata": {},
   "source": [
    "# lista de listas"
   ]
  },
  {
   "cell_type": "code",
   "execution_count": 44,
   "metadata": {},
   "outputs": [
    {
     "data": {
      "text/plain": [
       "[[11, 12], [21, 22]]"
      ]
     },
     "execution_count": 44,
     "metadata": {},
     "output_type": "execute_result"
    }
   ],
   "source": [
    "#representação de uma matriz\n",
    "#(veremos mais adiante que o módulo numpy é mais adequado para isso)\n",
    "ll=[[11,12],[21,22]]\n",
    "ll"
   ]
  },
  {
   "cell_type": "markdown",
   "metadata": {},
   "source": [
    "# tupla\n",
    "(agrupamentos, não confundir com lista)"
   ]
  },
  {
   "cell_type": "code",
   "execution_count": 30,
   "metadata": {},
   "outputs": [
    {
     "data": {
      "text/plain": [
       "((1, 2, 3), (4, 5, 6), (7,))"
      ]
     },
     "execution_count": 30,
     "metadata": {},
     "output_type": "execute_result"
    }
   ],
   "source": [
    "#%%pythontutor\n",
    "\n",
    "#tuplas são criadas quando se tenta atribuir dois ou mais objetos a um único nome\n",
    "#separam-se os objetos por vírgula\n",
    "t2=4,5,6\n",
    "\n",
    "#podem ser usados parênteses para dar mais clareza\n",
    "#em alguns contextos os parênteses se tornam obrigatórios para desambiguação\n",
    "t1=(1,2,3)\n",
    "\n",
    "#é possível forçãr uma tupla de um único elemento usando parênteses e uma vírgula solitária\n",
    "t3=(7,)\n",
    "\n",
    "t1,t2,t3"
   ]
  },
  {
   "cell_type": "markdown",
   "metadata": {},
   "source": [
    "# iterações"
   ]
  },
  {
   "cell_type": "code",
   "execution_count": 31,
   "metadata": {},
   "outputs": [
    {
     "name": "stdout",
     "output_type": "stream",
     "text": [
      "repetição número 1\n",
      "repetição número 2\n",
      "repetição número 3\n",
      "repetição número 4\n",
      "repetição número 5\n"
     ]
    }
   ],
   "source": [
    "#%%pythontutor\n",
    "\n",
    "for i in 1,2,3,4,5:\n",
    "    print(\"repetição número\",i)"
   ]
  },
  {
   "cell_type": "markdown",
   "metadata": {},
   "source": [
    "# função range"
   ]
  },
  {
   "cell_type": "code",
   "execution_count": 24,
   "metadata": {},
   "outputs": [
    {
     "name": "stdout",
     "output_type": "stream",
     "text": [
      "repetição número 0\n",
      "repetição número 1\n",
      "repetição número 2\n",
      "repetição número 3\n",
      "repetição número 4\n",
      "repetição número 5\n",
      "repetição número 6\n",
      "repetição número 7\n"
     ]
    }
   ],
   "source": [
    "#%%pythontutor\n",
    "\n",
    "n=8\n",
    "for i in range(n):\n",
    "    print(\"repetição número\",i)"
   ]
  },
  {
   "cell_type": "markdown",
   "metadata": {},
   "source": [
    "# operações com o contador"
   ]
  },
  {
   "cell_type": "code",
   "execution_count": 27,
   "metadata": {},
   "outputs": [
    {
     "name": "stdout",
     "output_type": "stream",
     "text": [
      "iteração 0\n",
      "iteração 1\n",
      "iteração 2\n",
      "iteração 3\n",
      "iteração 4\n",
      "iteração 5\n",
      "iteração 6\n",
      "iteração 7\n"
     ]
    },
    {
     "data": {
      "text/plain": [
       "[0.0,\n",
       " 0.14285714285714285,\n",
       " 0.2857142857142857,\n",
       " 0.42857142857142855,\n",
       " 0.5714285714285714,\n",
       " 0.7142857142857143,\n",
       " 0.8571428571428571,\n",
       " 1.0]"
      ]
     },
     "execution_count": 27,
     "metadata": {},
     "output_type": "execute_result"
    }
   ],
   "source": [
    "#%%pythontutor\n",
    "\n",
    "lista=[]\n",
    "n=8\n",
    "for i in range(8):\n",
    "    print('iteração',i)\n",
    "    lista.append(i/7)\n",
    "lista"
   ]
  },
  {
   "cell_type": "markdown",
   "metadata": {},
   "source": [
    "# nested for"
   ]
  },
  {
   "cell_type": "code",
   "execution_count": 47,
   "metadata": {},
   "outputs": [
    {
     "name": "stdout",
     "output_type": "stream",
     "text": [
      "0 0\n",
      "0 1\n",
      "0 2\n",
      "0 3\n",
      "1 0\n",
      "1 1\n",
      "1 2\n",
      "1 3\n",
      "2 0\n",
      "2 1\n",
      "2 2\n",
      "2 3\n"
     ]
    }
   ],
   "source": [
    "#%%pythontutor\n",
    "\n",
    "for i in range(3):\n",
    "    for j in range(4):\n",
    "        print(i,j)\n",
    "    "
   ]
  },
  {
   "cell_type": "markdown",
   "metadata": {},
   "source": [
    "# exemplo"
   ]
  },
  {
   "cell_type": "markdown",
   "metadata": {},
   "source": [
    "# iterações sobre elementos de listas"
   ]
  },
  {
   "cell_type": "code",
   "execution_count": 49,
   "metadata": {
    "scrolled": false
   },
   "outputs": [
    {
     "name": "stdout",
     "output_type": "stream",
     "text": [
      "10 1\n",
      "10 10\n",
      "10 100\n",
      "20 1\n",
      "20 10\n",
      "20 100\n",
      "30 1\n",
      "30 10\n",
      "30 100\n"
     ]
    }
   ],
   "source": [
    "#%%pythontutor\n",
    "\n",
    "for T in [10,20,30]:\n",
    "    for P in [1,10,100]:\n",
    "        print(T,P)\n",
    "    "
   ]
  },
  {
   "cell_type": "markdown",
   "metadata": {},
   "source": [
    "# construindo uma matriz com o nested for"
   ]
  },
  {
   "cell_type": "code",
   "execution_count": 45,
   "metadata": {},
   "outputs": [
    {
     "data": {
      "text/plain": [
       "[[(0, 0), (0, 1)], [(1, 0), (1, 1)]]"
      ]
     },
     "execution_count": 45,
     "metadata": {},
     "output_type": "execute_result"
    }
   ],
   "source": [
    "#%%pythontutor\n",
    "l=[]\n",
    "for i in range(2):\n",
    "    l.append([])\n",
    "    for j in range(2):\n",
    "        l[i].append((i,j))\n",
    "l    "
   ]
  },
  {
   "cell_type": "markdown",
   "metadata": {},
   "source": [
    "# while"
   ]
  },
  {
   "cell_type": "code",
   "execution_count": 74,
   "metadata": {},
   "outputs": [
    {
     "name": "stdout",
     "output_type": "stream",
     "text": [
      "for 0\n",
      "for 1\n",
      "for 2\n",
      "for 3\n",
      "for 4\n",
      "for 5\n",
      "for 6\n",
      "for 7\n",
      "while 0\n",
      "while 1\n",
      "while 2\n",
      "while 3\n",
      "while 4\n",
      "while 5\n",
      "while 6\n",
      "while 7\n"
     ]
    }
   ],
   "source": [
    "n=8\n",
    "for i in range(n):\n",
    "    print('for',i)\n",
    "\n",
    "n=8\n",
    "i=0\n",
    "while(i<n):\n",
    "    print('while',i)\n",
    "    i=i+1\n"
   ]
  },
  {
   "cell_type": "markdown",
   "metadata": {},
   "source": [
    "# exemplo: bisseção"
   ]
  },
  {
   "cell_type": "code",
   "execution_count": 79,
   "metadata": {},
   "outputs": [
    {
     "data": {
      "text/plain": [
       "(0.30469265401539547, -1.942890293094024e-15, 45)"
      ]
     },
     "execution_count": 79,
     "metadata": {},
     "output_type": "execute_result"
    }
   ],
   "source": [
    "import math as m\n",
    "\n",
    "#sin 0=0\n",
    "#sin pi/2=1\n",
    "\n",
    "res=1\n",
    "tol=1e-14\n",
    "x1=0\n",
    "x2=m.pi/2\n",
    "n=0\n",
    "while(abs(res)>tol and n<100):\n",
    "    n=n+1\n",
    "    x=(x1+x2)/2\n",
    "    f=m.sin(x)-.3\n",
    "    if f>0:\n",
    "        x2=x\n",
    "    elif f<0:\n",
    "        x1=x\n",
    "    res=f\n",
    "        \n",
    "x,f,n"
   ]
  },
  {
   "cell_type": "markdown",
   "metadata": {},
   "source": [
    "# comprehension"
   ]
  },
  {
   "cell_type": "code",
   "execution_count": 81,
   "metadata": {},
   "outputs": [
    {
     "data": {
      "text/plain": [
       "([0, 1, 2], [11, 12, 21, 22], [[11, 21], [12, 22]])"
      ]
     },
     "execution_count": 81,
     "metadata": {},
     "output_type": "execute_result"
    }
   ],
   "source": [
    "l1 = [i for i in range(3)]\n",
    "l2 = [10*i +j for i in range(1,3) for j in range(1,3)]\n",
    "l3 = [[10*i +j for i in range(1,3)] for j in range(1,3)]\n",
    "l1,l2,l3"
   ]
  },
  {
   "cell_type": "markdown",
   "metadata": {},
   "source": [
    "# Exercícios"
   ]
  },
  {
   "cell_type": "markdown",
   "metadata": {},
   "source": [
    "# quantas vezes vair rodar esse nest ?"
   ]
  },
  {
   "cell_type": "code",
   "execution_count": 56,
   "metadata": {},
   "outputs": [],
   "source": [
    "a=0\n",
    "for i in range(3):\n",
    "    for j in range(2):\n",
    "        for k in range(5):\n",
    "            a=a+1\n",
    "#a"
   ]
  },
  {
   "cell_type": "markdown",
   "metadata": {},
   "source": [
    "# fazendo um somatório"
   ]
  },
  {
   "cell_type": "code",
   "execution_count": 52,
   "metadata": {},
   "outputs": [
    {
     "data": {
      "text/plain": [
       "42"
      ]
     },
     "execution_count": 52,
     "metadata": {},
     "output_type": "execute_result"
    }
   ],
   "source": [
    "s=0\n",
    "for i in [2,4,6,8,10,12]:\n",
    "    s=s+i\n",
    "s"
   ]
  },
  {
   "cell_type": "markdown",
   "metadata": {},
   "source": [
    "* na prática temos a função sum pronta para isso"
   ]
  },
  {
   "cell_type": "code",
   "execution_count": 53,
   "metadata": {},
   "outputs": [
    {
     "data": {
      "text/plain": [
       "42"
      ]
     },
     "execution_count": 53,
     "metadata": {},
     "output_type": "execute_result"
    }
   ],
   "source": [
    "sum([2,4,6,8,10,12])"
   ]
  },
  {
   "cell_type": "markdown",
   "metadata": {},
   "source": [
    "# fatorial"
   ]
  },
  {
   "cell_type": "code",
   "execution_count": 60,
   "metadata": {},
   "outputs": [
    {
     "data": {
      "text/plain": [
       "5040"
      ]
     },
     "execution_count": 60,
     "metadata": {},
     "output_type": "execute_result"
    }
   ],
   "source": [
    "n=7\n",
    "\n",
    "f=1 #f(0)=1\n",
    "for i in range(n):\n",
    "    f=f*(i+1)\n",
    "f"
   ]
  },
  {
   "cell_type": "markdown",
   "metadata": {},
   "source": [
    "* tem uma função para isso também"
   ]
  },
  {
   "cell_type": "code",
   "execution_count": 61,
   "metadata": {},
   "outputs": [
    {
     "data": {
      "text/plain": [
       "5040"
      ]
     },
     "execution_count": 61,
     "metadata": {},
     "output_type": "execute_result"
    }
   ],
   "source": [
    "from math import factorial\n",
    "factorial(7)"
   ]
  },
  {
   "cell_type": "markdown",
   "metadata": {},
   "source": [
    "# achar máximo"
   ]
  },
  {
   "cell_type": "code",
   "execution_count": 63,
   "metadata": {},
   "outputs": [
    {
     "data": {
      "text/plain": [
       "(785, 4)"
      ]
     },
     "execution_count": 63,
     "metadata": {},
     "output_type": "execute_result"
    }
   ],
   "source": [
    "l=[1,241,674,231,785,213]\n",
    "\n",
    "n=len(l)\n",
    "\n",
    "xmax=1\n",
    "imax=0\n",
    "for i in range(1,n):\n",
    "    if l[i]>xmax:\n",
    "        xmax=l[i]\n",
    "        imax=i\n",
    "        \n",
    "xmax,imax"
   ]
  },
  {
   "cell_type": "markdown",
   "metadata": {},
   "source": [
    "* também tem uma função para isso"
   ]
  },
  {
   "cell_type": "code",
   "execution_count": 68,
   "metadata": {},
   "outputs": [
    {
     "data": {
      "text/plain": [
       "(785, 4)"
      ]
     },
     "execution_count": 68,
     "metadata": {},
     "output_type": "execute_result"
    }
   ],
   "source": [
    "l=[1,241,674,231,785,213]\n",
    "max(l), l.index(max(l))"
   ]
  },
  {
   "cell_type": "code",
   "execution_count": null,
   "metadata": {},
   "outputs": [],
   "source": []
  }
 ],
 "metadata": {
  "kernelspec": {
   "display_name": "Python [default]",
   "language": "python",
   "name": "python3"
  },
  "language_info": {
   "codemirror_mode": {
    "name": "ipython",
    "version": 3
   },
   "file_extension": ".py",
   "mimetype": "text/x-python",
   "name": "python",
   "nbconvert_exporter": "python",
   "pygments_lexer": "ipython3",
   "version": "3.6.3"
  }
 },
 "nbformat": 4,
 "nbformat_minor": 2
}
