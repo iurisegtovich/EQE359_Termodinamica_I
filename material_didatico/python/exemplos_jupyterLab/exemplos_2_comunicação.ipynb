{
 "cells": [
  {
   "cell_type": "markdown",
   "metadata": {},
   "source": [
    "# exemplos 2: comunicação"
   ]
  },
  {
   "cell_type": "code",
   "execution_count": 15,
   "metadata": {},
   "outputs": [],
   "source": [
    "#importar o comando pythontutor para gerar os links de cada exemplo para o site de visualização\n",
    "from python_tutor_magic import pythontutor"
   ]
  },
  {
   "cell_type": "markdown",
   "metadata": {},
   "source": [
    "# print"
   ]
  },
  {
   "cell_type": "code",
   "execution_count": 17,
   "metadata": {},
   "outputs": [
    {
     "name": "stdout",
     "output_type": "stream",
     "text": [
      "oi\n"
     ]
    }
   ],
   "source": [
    "#%%pythontutor\n",
    "\n",
    "#imprimir um oi\n",
    "print('oi')"
   ]
  },
  {
   "cell_type": "markdown",
   "metadata": {},
   "source": [
    "# argumentos para o print"
   ]
  },
  {
   "cell_type": "code",
   "execution_count": 18,
   "metadata": {},
   "outputs": [
    {
     "name": "stdout",
     "output_type": "stream",
     "text": [
      "olá\n",
      "8.314\n",
      "oi tudo bem? tudo certinho?\n"
     ]
    }
   ],
   "source": [
    "#%%pythontutor\n",
    "\n",
    "#strings\n",
    "print('olá')\n",
    "\n",
    "#números\n",
    "print(8.314)\n",
    "\n",
    "#vários argumentos\n",
    "print('oi','tudo bem?','tudo certinho?')"
   ]
  },
  {
   "cell_type": "markdown",
   "metadata": {},
   "source": [
    "# vinculando nomes a objetos"
   ]
  },
  {
   "cell_type": "code",
   "execution_count": 28,
   "metadata": {},
   "outputs": [
    {
     "name": "stdout",
     "output_type": "stream",
     "text": [
      "12\n",
      "19\n"
     ]
    }
   ],
   "source": [
    "#%%pythontutor\n",
    "\n",
    "# NOME = OBJETO\n",
    "\n",
    "# minusculas e maiusculas\n",
    "t=12\n",
    "T=25\n",
    "\n",
    "# letras e numeros\n",
    "T1=0\n",
    "T2=100\n",
    "\n",
    "# underline\n",
    "T1_C=25\n",
    "T1_K=298\n",
    "\n",
    "# não pode espaço\n",
    "# temperatura do tanque = 25\n",
    "temperatura_do_tanque = 25\n",
    "\n",
    "# não pode começar com número,\n",
    "# 2_ao_quadrado = 4\n",
    "quad2 = 4\n",
    "num_2_quadrado = 4\n",
    "\n",
    "# o vínculo não é permanente\n",
    "\n",
    "#a variavel x está vinculada ao valor 12\n",
    "x=12\n",
    "print(x)\n",
    "\n",
    "#agora a variavel x está vinculada ao valor 19\n",
    "x=19\n",
    "print(x)"
   ]
  },
  {
   "cell_type": "markdown",
   "metadata": {},
   "source": [
    "# entrada de dados"
   ]
  },
  {
   "cell_type": "code",
   "execution_count": 29,
   "metadata": {},
   "outputs": [
    {
     "name": "stdout",
     "output_type": "stream",
     "text": [
      "tudo bom?\n",
      "s\n"
     ]
    }
   ],
   "source": [
    "#%%pythontutor\n",
    "\n",
    "print('tudo bom?')\n",
    "\n",
    "resposta=input()"
   ]
  }
 ],
 "metadata": {
  "kernelspec": {
   "display_name": "Python [default]",
   "language": "python",
   "name": "python3"
  },
  "language_info": {
   "codemirror_mode": {
    "name": "ipython",
    "version": 3
   },
   "file_extension": ".py",
   "mimetype": "text/x-python",
   "name": "python",
   "nbconvert_exporter": "python",
   "pygments_lexer": "ipython3",
   "version": "3.6.3"
  }
 },
 "nbformat": 4,
 "nbformat_minor": 2
}
