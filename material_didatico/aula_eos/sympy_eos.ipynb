{
 "cells": [
  {
   "cell_type": "code",
   "execution_count": 3,
   "metadata": {},
   "outputs": [
    {
     "data": {
      "image/png": "[encoded data removed]",
      "text/latex": [
       "$$P = \\frac{R T}{V - b} - \\frac{a}{V^{2} + V b u + b^{2} w}$$"
      ],
      "text/plain": [
       "     R⋅T            a        \n",
       "P = ───── - ─────────────────\n",
       "    V - b    2            2  \n",
       "            V  + V⋅b⋅u + b ⋅w"
      ]
     },
     "metadata": {},
     "output_type": "display_data"
    }
   ],
   "source": [
    "import sympy as sym\n",
    "sym.init_printing(pretty_print=True)\n",
    "from IPython.display import display\n",
    "\n",
    "V,a,b,R,T,u,w = sym.symbols('V,a,b,R,T,u,w')\n",
    "\n",
    "P=R*T/(V-b)-a/(V**2+u*b*V+w*b**2)\n",
    "\n",
    "display(sym.Eq(sym.symbols('P'),P))"
   ]
  },
  {
   "cell_type": "code",
   "execution_count": 4,
   "metadata": {},
   "outputs": [
    {
     "data": {
      "image/png": "[encoded data removed]",
      "text/latex": [
       "$$\\frac{\\partial{P}}{\\partial{V}} = - \\frac{R T}{\\left(V - b\\right)^{2}} - \\frac{a \\left(- 2 V - b u\\right)}{\\left(V^{2} + V b u + b^{2} w\\right)^{2}}$$"
      ],
      "text/plain": [
       "                                      R⋅T         a⋅(-2⋅V - b⋅u)   \n",
       "\\frac{\\partial{P}}{\\partial{V}} = - ──────── - ────────────────────\n",
       "                                           2                      2\n",
       "                                    (V - b)    ⎛ 2            2  ⎞ \n",
       "                                               ⎝V  + V⋅b⋅u + b ⋅w⎠ "
      ]
     },
     "metadata": {},
     "output_type": "display_data"
    }
   ],
   "source": [
    "dP=sym.diff(P,V)\n",
    "\n",
    "display(sym.Eq(sym.symbols(r'\\frac{\\partial{P}}{\\partial{V}}'),dP))"
   ]
  },
  {
   "cell_type": "code",
   "execution_count": 5,
   "metadata": {},
   "outputs": [
    {
     "data": {
      "image/png": "[encoded data removed]",
      "text/latex": [
       "$$\\left ( - \\frac{R T}{\\left(V - b\\right)^{2}}, \\quad - \\frac{a \\left(- 2 V - b u\\right)}{\\left(V^{2} + V b u + b^{2} w\\right)^{2}}\\right )$$"
      ],
      "text/plain": [
       "⎛ -R⋅T       -a⋅(-2⋅V - b⋅u)   ⎞\n",
       "⎜────────, ────────────────────⎟\n",
       "⎜       2                     2⎟\n",
       "⎜(V - b)   ⎛ 2            2  ⎞ ⎟\n",
       "⎝          ⎝V  + V⋅b⋅u + b ⋅w⎠ ⎠"
      ]
     },
     "metadata": {},
     "output_type": "display_data"
    }
   ],
   "source": [
    "display(dP.args)"
   ]
  },
  {
   "cell_type": "code",
   "execution_count": 7,
   "metadata": {},
   "outputs": [
    {
     "data": {
      "image/png": "[encoded data removed]",
      "text/latex": [
       "$$\\left ( - R T, \\quad \\left(V - b\\right)^{2}\\right )$$"
      ],
      "text/plain": [
       "⎛             2⎞\n",
       "⎝-R⋅T, (V - b) ⎠"
      ]
     },
     "metadata": {},
     "output_type": "display_data"
    },
    {
     "data": {
      "image/png": "[encoded data removed]",
      "text/latex": [
       "$$\\left ( - a \\left(- 2 V - b u\\right), \\quad \\left(V^{2} + V b u + b^{2} w\\right)^{2}\\right )$$"
      ],
      "text/plain": [
       "⎛                                    2⎞\n",
       "⎜                 ⎛ 2            2  ⎞ ⎟\n",
       "⎝-a⋅(-2⋅V - b⋅u), ⎝V  + V⋅b⋅u + b ⋅w⎠ ⎠"
      ]
     },
     "metadata": {},
     "output_type": "display_data"
    }
   ],
   "source": [
    "display(sym.fraction(dP.args[0]))\n",
    "display(sym.fraction(dP.args[1]))"
   ]
  },
  {
   "cell_type": "code",
   "execution_count": 8,
   "metadata": {},
   "outputs": [
    {
     "data": {
      "image/png": "[encoded data removed]",
      "text/latex": [
       "$$- R T \\left(V^{2} + V b u + b^{2} w\\right)^{2} - a \\left(- 2 V - b u\\right) \\left(V - b\\right)^{2} = 0$$"
      ],
      "text/plain": [
       "                         2                              \n",
       "      ⎛ 2            2  ⎞                          2    \n",
       "- R⋅T⋅⎝V  + V⋅b⋅u + b ⋅w⎠  - a⋅(-2⋅V - b⋅u)⋅(V - b)  = 0"
      ]
     },
     "metadata": {},
     "output_type": "display_data"
    }
   ],
   "source": [
    "n1=sym.fraction(dP.args[0])[0]\n",
    "n2=sym.fraction(dP.args[1])[0]\n",
    "d1=sym.fraction(dP.args[0])[1]\n",
    "d2=sym.fraction(dP.args[1])[1]\n",
    "\n",
    "Zero=n1*d2+n2*d1\n",
    "display(sym.Eq(Zero,0))"
   ]
  },
  {
   "cell_type": "code",
   "execution_count": 20,
   "metadata": {},
   "outputs": [
    {
     "data": {
      "image/png": "[encoded data removed]",
      "text/latex": [
       "$$- R T V^{4} - 2 R T V^{3} b u - R T V^{2} b^{2} u^{2} - 2 R T V^{2} b^{2} w - 2 R T V b^{3} u w - R T b^{4} w^{2} + 2 V^{3} a + V^{2} a b u - 4 V^{2} a b - 2 V a b^{2} u + 2 V a b^{2} + a b^{3} u$$"
      ],
      "text/plain": [
       "       4          3            2  2  2          2  2              3           \n",
       "- R⋅T⋅V  - 2⋅R⋅T⋅V ⋅b⋅u - R⋅T⋅V ⋅b ⋅u  - 2⋅R⋅T⋅V ⋅b ⋅w - 2⋅R⋅T⋅V⋅b ⋅u⋅w - R⋅T⋅\n",
       "\n",
       " 4  2      3      2            2              2            2      3  \n",
       "b ⋅w  + 2⋅V ⋅a + V ⋅a⋅b⋅u - 4⋅V ⋅a⋅b - 2⋅V⋅a⋅b ⋅u + 2⋅V⋅a⋅b  + a⋅b ⋅u"
      ]
     },
     "metadata": {},
     "output_type": "display_data"
    }
   ],
   "source": [
    "expr=sym.expand(Zero)\n",
    "display(expr)"
   ]
  },
  {
   "cell_type": "code",
   "execution_count": 10,
   "metadata": {},
   "outputs": [
    {
     "data": {
      "image/png": "[encoded data removed]",
      "text/latex": [
       "$$- R T V^{4} - R T b^{4} w^{2} + V^{3} \\left(- 2 R T b u + 2 a\\right) + V^{2} \\left(- R T b^{2} u^{2} - 2 R T b^{2} w + a b u - 4 a b\\right) + V \\left(- 2 R T b^{3} u w - 2 a b^{2} u + 2 a b^{2}\\right) + a b^{3} u$$"
      ],
      "text/plain": [
       "       4        4  2    3                       2 ⎛       2  2          2     \n",
       "- R⋅T⋅V  - R⋅T⋅b ⋅w  + V ⋅(-2⋅R⋅T⋅b⋅u + 2⋅a) + V ⋅⎝- R⋅T⋅b ⋅u  - 2⋅R⋅T⋅b ⋅w + \n",
       "\n",
       "             ⎞     ⎛         3            2          2⎞      3  \n",
       "a⋅b⋅u - 4⋅a⋅b⎠ + V⋅⎝- 2⋅R⋅T⋅b ⋅u⋅w - 2⋅a⋅b ⋅u + 2⋅a⋅b ⎠ + a⋅b ⋅u"
      ]
     },
     "metadata": {},
     "output_type": "display_data"
    }
   ],
   "source": [
    "col=sym.collect(expr,V)\n",
    "display(col)"
   ]
  },
  {
   "cell_type": "code",
   "execution_count": 13,
   "metadata": {},
   "outputs": [
    {
     "name": "stdout",
     "output_type": "stream",
     "text": [
      "c 4 = 1\n",
      "c 3 = -(-2*R*T*b*u + 2*a)/(R*T)\n",
      "c 2 = -(-R*T*b**2*u**2 - 2*R*T*b**2*w + a*b*u - 4*a*b)/(R*T)\n",
      "c 1 = -(-2*R*T*b**3*u*w - 2*a*b**2*u + 2*a*b**2)/(R*T)\n",
      "c 0 = -(-R*T*b**4*w**2 + a*b**3*u)/(R*T)\n"
     ]
    }
   ],
   "source": [
    "for i in range(4,-1,-1):\n",
    "    print(\"c\",i,\"=\", col.coeff(V,i)/col.coeff(V,4))"
   ]
  }
 ],
 "metadata": {
  "kernelspec": {
   "display_name": "Python [default]",
   "language": "python",
   "name": "python3"
  },
  "language_info": {
   "codemirror_mode": {
    "name": "ipython",
    "version": 3
   },
   "file_extension": ".py",
   "mimetype": "text/x-python",
   "name": "python",
   "nbconvert_exporter": "python",
   "pygments_lexer": "ipython3",
   "version": "3.6.3"
  }
 },
 "nbformat": 4,
 "nbformat_minor": 2
}
