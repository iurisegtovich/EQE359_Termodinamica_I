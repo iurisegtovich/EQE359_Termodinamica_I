{
 "cells": [
  {
   "cell_type": "code",
   "execution_count": 53,
   "metadata": {},
   "outputs": [],
   "source": [
    "import sympy as sym\n",
    "sym.init_printing(pretty_print=True)\n",
    "from IPython.display import display"
   ]
  },
  {
   "cell_type": "markdown",
   "metadata": {},
   "source": [
    "# Topliss"
   ]
  },
  {
   "cell_type": "code",
   "execution_count": 54,
   "metadata": {},
   "outputs": [
    {
     "data": {
      "image/png": "[encoded data removed]",
      "text/latex": [
       "$$P = \\frac{R T}{V - b} - \\frac{a}{V^{2} + V b u + b^{2} w}$$"
      ],
      "text/plain": [
       "     R⋅T            a        \n",
       "P = ───── - ─────────────────\n",
       "    V - b    2            2  \n",
       "            V  + V⋅b⋅u + b ⋅w"
      ]
     },
     "metadata": {},
     "output_type": "display_data"
    },
    {
     "name": "stdout",
     "output_type": "stream",
     "text": [
      "$$P = \\frac{R T}{V - b} - \\frac{a}{V^{2} + V b u + b^{2} w}$$\n"
     ]
    }
   ],
   "source": [
    "V,a,b,R,T,u,w = sym.symbols('V,a,b,R,T,u,w')\n",
    "\n",
    "#Equação de Soave [Poling]\n",
    "P=R*T/(V-b)-a/(V**2+u*b*V+w*b**2)\n",
    "\n",
    "P_eq=sym.Eq(sym.symbols('P'),P)\n",
    "\n",
    "display(P_eq)\n",
    "\n",
    "print( sym.latex(P_eq, mode='equation', itex=True) )"
   ]
  },
  {
   "cell_type": "code",
   "execution_count": 23,
   "metadata": {},
   "outputs": [
    {
     "data": {
      "image/png": "[encoded data removed]",
      "text/latex": [
       "$$\\frac{\\partial{P}}{\\partial{V}} = - \\frac{R T}{\\left(V - b\\right)^{2}} - \\frac{a \\left(- 2 V - b u\\right)}{\\left(V^{2} + V b u + b^{2} w\\right)^{2}}$$"
      ],
      "text/plain": [
       "                                      R⋅T         a⋅(-2⋅V - b⋅u)   \n",
       "\\frac{\\partial{P}}{\\partial{V}} = - ──────── - ────────────────────\n",
       "                                           2                      2\n",
       "                                    (V - b)    ⎛ 2            2  ⎞ \n",
       "                                               ⎝V  + V⋅b⋅u + b ⋅w⎠ "
      ]
     },
     "metadata": {},
     "output_type": "display_data"
    },
    {
     "name": "stdout",
     "output_type": "stream",
     "text": [
      "$$\\frac{\\partial{P}}{\\partial{V}} = - \\frac{R T}{\\left(V - b\\right)^{2}} - \\frac{a \\left(- 2 V - b u\\right)}{\\left(V^{2} + V b u + b^{2} w\\right)^{2}}$$\n"
     ]
    }
   ],
   "source": [
    "dPdV=sym.diff(P,V)\n",
    "\n",
    "dPdV_eq=sym.Eq(sym.symbols(r'\\frac{\\partial{P}}{\\partial{V}}'),dPdV)\n",
    "\n",
    "display(dPdV_eq)\n",
    "\n",
    "print( sym.latex(dPdV_eq, mode='equation', itex=True) )"
   ]
  },
  {
   "cell_type": "code",
   "execution_count": 5,
   "metadata": {},
   "outputs": [
    {
     "data": {
      "image/png": "[encoded data removed]",
      "text/latex": [
       "$$\\left ( - \\frac{R T}{\\left(V - b\\right)^{2}}, \\quad - \\frac{a \\left(- 2 V - b u\\right)}{\\left(V^{2} + V b u + b^{2} w\\right)^{2}}\\right )$$"
      ],
      "text/plain": [
       "⎛ -R⋅T       -a⋅(-2⋅V - b⋅u)   ⎞\n",
       "⎜────────, ────────────────────⎟\n",
       "⎜       2                     2⎟\n",
       "⎜(V - b)   ⎛ 2            2  ⎞ ⎟\n",
       "⎝          ⎝V  + V⋅b⋅u + b ⋅w⎠ ⎠"
      ]
     },
     "metadata": {},
     "output_type": "display_data"
    }
   ],
   "source": [
    "display(dPdV.args)"
   ]
  },
  {
   "cell_type": "code",
   "execution_count": 8,
   "metadata": {},
   "outputs": [
    {
     "data": {
      "image/png": "[encoded data removed]",
      "text/latex": [
       "$$\\left ( - R T, \\quad \\left(V - b\\right)^{2}\\right )$$"
      ],
      "text/plain": [
       "⎛             2⎞\n",
       "⎝-R⋅T, (V - b) ⎠"
      ]
     },
     "metadata": {},
     "output_type": "display_data"
    },
    {
     "data": {
      "image/png": "[encoded data removed]",
      "text/latex": [
       "$$\\left ( - a \\left(- 2 V - b u\\right), \\quad \\left(V^{2} + V b u + b^{2} w\\right)^{2}\\right )$$"
      ],
      "text/plain": [
       "⎛                                    2⎞\n",
       "⎜                 ⎛ 2            2  ⎞ ⎟\n",
       "⎝-a⋅(-2⋅V - b⋅u), ⎝V  + V⋅b⋅u + b ⋅w⎠ ⎠"
      ]
     },
     "metadata": {},
     "output_type": "display_data"
    }
   ],
   "source": [
    "display(sym.fraction(dPdV.args[0]))\n",
    "display(sym.fraction(dPdV.args[1]))"
   ]
  },
  {
   "cell_type": "code",
   "execution_count": 24,
   "metadata": {},
   "outputs": [
    {
     "data": {
      "image/png": "[encoded data removed]",
      "text/latex": [
       "$$- R T \\left(V^{2} + V b u + b^{2} w\\right)^{2} - a \\left(- 2 V - b u\\right) \\left(V - b\\right)^{2} = 0$$"
      ],
      "text/plain": [
       "                         2                              \n",
       "      ⎛ 2            2  ⎞                          2    \n",
       "- R⋅T⋅⎝V  + V⋅b⋅u + b ⋅w⎠  - a⋅(-2⋅V - b⋅u)⋅(V - b)  = 0"
      ]
     },
     "metadata": {},
     "output_type": "display_data"
    },
    {
     "name": "stdout",
     "output_type": "stream",
     "text": [
      "$$- R T \\left(V^{2} + V b u + b^{2} w\\right)^{2} - a \\left(- 2 V - b u\\right) \\left(V - b\\right)^{2} = 0$$\n"
     ]
    }
   ],
   "source": [
    "num1=sym.fraction(dPdV.args[0])[0]\n",
    "num2=sym.fraction(dPdV.args[1])[0]\n",
    "den1=sym.fraction(dPdV.args[0])[1]\n",
    "den2=sym.fraction(dPdV.args[1])[1]\n",
    "\n",
    "zero=num1*den2+num2*den1\n",
    "\n",
    "zero_eq=sym.Eq(zero,0)\n",
    "\n",
    "display(zero_eq)\n",
    "\n",
    "print( sym.latex(zero_eq, mode='equation', itex=True) )"
   ]
  },
  {
   "cell_type": "code",
   "execution_count": 12,
   "metadata": {},
   "outputs": [
    {
     "data": {
      "image/png": "[encoded data removed]",
      "text/latex": [
       "$$- R T V^{4} - 2 R T V^{3} b u - R T V^{2} b^{2} u^{2} - 2 R T V^{2} b^{2} w - 2 R T V b^{3} u w - R T b^{4} w^{2} + 2 V^{3} a + V^{2} a b u - 4 V^{2} a b - 2 V a b^{2} u + 2 V a b^{2} + a b^{3} u$$"
      ],
      "text/plain": [
       "       4          3            2  2  2          2  2              3           \n",
       "- R⋅T⋅V  - 2⋅R⋅T⋅V ⋅b⋅u - R⋅T⋅V ⋅b ⋅u  - 2⋅R⋅T⋅V ⋅b ⋅w - 2⋅R⋅T⋅V⋅b ⋅u⋅w - R⋅T⋅\n",
       "\n",
       " 4  2      3      2            2              2            2      3  \n",
       "b ⋅w  + 2⋅V ⋅a + V ⋅a⋅b⋅u - 4⋅V ⋅a⋅b - 2⋅V⋅a⋅b ⋅u + 2⋅V⋅a⋅b  + a⋅b ⋅u"
      ]
     },
     "metadata": {},
     "output_type": "display_data"
    }
   ],
   "source": [
    "#expandir distributivas e potências\n",
    "expr=sym.expand(zero)\n",
    "display(expr)"
   ]
  },
  {
   "cell_type": "code",
   "execution_count": 26,
   "metadata": {},
   "outputs": [
    {
     "data": {
      "image/png": "[encoded data removed]",
      "text/latex": [
       "$$- R T V^{4} - R T b^{4} w^{2} + V^{3} \\left(- 2 R T b u + 2 a\\right) + V^{2} \\left(- R T b^{2} u^{2} - 2 R T b^{2} w + a b u - 4 a b\\right) + V \\left(- 2 R T b^{3} u w - 2 a b^{2} u + 2 a b^{2}\\right) + a b^{3} u$$"
      ],
      "text/plain": [
       "       4        4  2    3                       2 ⎛       2  2          2     \n",
       "- R⋅T⋅V  - R⋅T⋅b ⋅w  + V ⋅(-2⋅R⋅T⋅b⋅u + 2⋅a) + V ⋅⎝- R⋅T⋅b ⋅u  - 2⋅R⋅T⋅b ⋅w + \n",
       "\n",
       "             ⎞     ⎛         3            2          2⎞      3  \n",
       "a⋅b⋅u - 4⋅a⋅b⎠ + V⋅⎝- 2⋅R⋅T⋅b ⋅u⋅w - 2⋅a⋅b ⋅u + 2⋅a⋅b ⎠ + a⋅b ⋅u"
      ]
     },
     "metadata": {},
     "output_type": "display_data"
    }
   ],
   "source": [
    "#coletar coeficientes da representaçção polinomial\n",
    "col=sym.collect(expr,V)\n",
    "display(col)"
   ]
  },
  {
   "cell_type": "code",
   "execution_count": 52,
   "metadata": {},
   "outputs": [
    {
     "data": {
      "image/png": "[encoded data removed]",
      "text/latex": [
       "$$V^{4} - \\frac{V^{3}}{R T} \\left(- 2 R T b u + 2 a\\right) - \\frac{V^{2}}{R T} \\left(- R T b^{2} u^{2} - 2 R T b^{2} w + a b u - 4 a b\\right) - \\frac{V}{R T} \\left(- 2 R T b^{3} u w - 2 a b^{2} u + 2 a b^{2}\\right) - \\frac{1}{R T} \\left(- R T b^{4} w^{2} + a b^{3} u\\right) = 0$$"
      ],
      "text/plain": [
       "      3                       2 ⎛       2  2          2                  ⎞    \n",
       " 4   V ⋅(-2⋅R⋅T⋅b⋅u + 2⋅a)   V ⋅⎝- R⋅T⋅b ⋅u  - 2⋅R⋅T⋅b ⋅w + a⋅b⋅u - 4⋅a⋅b⎠   V\n",
       "V  - ───────────────────── - ───────────────────────────────────────────── - ─\n",
       "              R⋅T                                 R⋅T                         \n",
       "\n",
       " ⎛         3            2          2⎞          4  2      3      \n",
       "⋅⎝- 2⋅R⋅T⋅b ⋅u⋅w - 2⋅a⋅b ⋅u + 2⋅a⋅b ⎠   - R⋅T⋅b ⋅w  + a⋅b ⋅u    \n",
       "───────────────────────────────────── - ──────────────────── = 0\n",
       "                R⋅T                             R⋅T             "
      ]
     },
     "metadata": {},
     "output_type": "display_data"
    },
    {
     "name": "stdout",
     "output_type": "stream",
     "text": [
      "$$V^{4} - \\frac{V^{3}}{R T} \\left(- 2 R T b u + 2 a\\right) - \\frac{V^{2}}{R T} \\left(- R T b^{2} u^{2} - 2 R T b^{2} w + a b u - 4 a b\\right) - \\frac{V}{R T} \\left(- 2 R T b^{3} u w - 2 a b^{2} u + 2 a b^{2}\\right) - \\frac{1}{R T} \\left(- R T b^{4} w^{2} + a b^{3} u\\right) = 0$$\n"
     ]
    }
   ],
   "source": [
    "poly=sym.Integer(0)\n",
    "for i in range(4,-1,-1):\n",
    "    poly+= col.coeff(V,i)/col.coeff(V,4) *V**i\n",
    "    \n",
    "poly_eq=sym.Eq(poly,0)\n",
    "\n",
    "display(poly_eq)\n",
    "\n",
    "print( sym.latex(poly_eq, mode='equation', itex=True) )"
   ]
  },
  {
   "cell_type": "code",
   "execution_count": 51,
   "metadata": {},
   "outputs": [
    {
     "name": "stdout",
     "output_type": "stream",
     "text": [
      "c4 = 1\n",
      "c3 = -(-2*R*T*b*u + 2*a)/(R*T)\n",
      "c2 = -(-R*T*b**2*u**2 - 2*R*T*b**2*w + a*b*u - 4*a*b)/(R*T)\n",
      "c1 = -(-2*R*T*b**3*u*w - 2*a*b**2*u + 2*a*b**2)/(R*T)\n",
      "c0 = -(-R*T*b**4*w**2 + a*b**3*u)/(R*T)\n"
     ]
    }
   ],
   "source": [
    "# imprimir expressões em notação de operadores matémáticos python\n",
    "for i in range(4,-1,-1):\n",
    "    print(\"c\"+'{:1d}'.format(i),\"=\", col.coeff(V,i)/col.coeff(V,4))"
   ]
  },
  {
   "cell_type": "markdown",
   "metadata": {},
   "source": [
    "# Residual A"
   ]
  },
  {
   "cell_type": "code",
   "execution_count": 92,
   "metadata": {},
   "outputs": [
    {
     "data": {
      "image/png": "[encoded data removed]",
      "text/latex": [
       "$$A^{\\mathrm{RES}} = - R T \\log{\\left (\\frac{V}{V^{IG}} \\right )} - R T \\log{\\left (\\frac{1}{Z} \\left(- B + Z\\right) \\right )} + \\frac{a}{b \\sqrt{u^{2} - 4 w}} \\log{\\left (\\frac{B \\left(u - \\sqrt{u^{2} - 4 w}\\right) + 2 Z}{B \\left(u + \\sqrt{u^{2} - 4 w}\\right) + 2 Z} \\right )}$$"
      ],
      "text/plain": [
       "                                                                ⎛  ⎛       ___\n",
       "                                                                ⎜  ⎜      ╱  2\n",
       "                                                                ⎜B⋅⎝u - ╲╱  u \n",
       "                                                           a⋅log⎜─────────────\n",
       "                                                                ⎜  ⎛       ___\n",
       "                                                                ⎜  ⎜      ╱  2\n",
       "                             ⎛   V   ⎞          ⎛-B + Z⎞        ⎝B⋅⎝u + ╲╱  u \n",
       "A__{\\mathrm{RES}} = - R⋅T⋅log⎜───────⎟ - R⋅T⋅log⎜──────⎟ + ───────────────────\n",
       "                             ⎝V__{IG}⎠          ⎝  Z   ⎠                 _____\n",
       "                                                                        ╱  2  \n",
       "                                                                    b⋅╲╱  u  -\n",
       "\n",
       "_______⎞      ⎞\n",
       "       ⎟      ⎟\n",
       " - 4⋅w ⎠ + 2⋅Z⎟\n",
       "──────────────⎟\n",
       "_______⎞      ⎟\n",
       "       ⎟      ⎟\n",
       " - 4⋅w ⎠ + 2⋅Z⎠\n",
       "───────────────\n",
       "_____          \n",
       "               \n",
       " 4⋅w           "
      ]
     },
     "metadata": {},
     "output_type": "display_data"
    },
    {
     "name": "stdout",
     "output_type": "stream",
     "text": [
      "$$A^{\\mathrm{RES}} = - R T \\log{\\left (\\frac{V}{V^{IG}} \\right )} - R T \\log{\\left (\\frac{1}{Z} \\left(- B + Z\\right) \\right )} + \\frac{a}{b \\sqrt{u^{2} - 4 w}} \\log{\\left (\\frac{B \\left(u - \\sqrt{u^{2} - 4 w}\\right) + 2 Z}{B \\left(u + \\sqrt{u^{2} - 4 w}\\right) + 2 Z} \\right )}$$\n"
     ]
    }
   ],
   "source": [
    "#V,a,b,R,T,u,w = sym.symbols('V,a,b,R,T,u,w')\n",
    "Z,B,V0 = sym.symbols('Z,B,V^{IG}')\n",
    "A_res = (a)/(b*sym.sqrt(u**2-4*w))*sym.ln((2*Z+B*(u-sym.sqrt(u**2-4*w)))/(2*Z+B*(u+sym.sqrt(u**2-4*w))))-R*T*sym.ln((Z-B)/(Z))-R*T*sym.ln((V)/(V0))\n",
    "\n",
    "A_res_eq=sym.Eq(sym.symbols(r'A^{\\mathrm{RES}}'),A_res)\n",
    "display(A_res_eq)\n",
    "print( sym.latex(A_res_eq, mode='equation', itex=True) )\n"
   ]
  },
  {
   "cell_type": "code",
   "execution_count": 93,
   "metadata": {},
   "outputs": [
    {
     "data": {
      "image/png": "[encoded data removed]",
      "text/latex": [
       "$$\\frac{R T}{P} Z$$"
      ],
      "text/plain": [
       "R⋅T⋅Z\n",
       "─────\n",
       "  P  "
      ]
     },
     "metadata": {},
     "output_type": "display_data"
    }
   ],
   "source": [
    "symP=sym.symbols('P')\n",
    "fV=R*T*Z/symP\n",
    "display(fV)"
   ]
  },
  {
   "cell_type": "code",
   "execution_count": 94,
   "metadata": {},
   "outputs": [
    {
     "data": {
      "image/png": "[encoded data removed]",
      "text/latex": [
       "$$\\frac{R T}{P}$$"
      ],
      "text/plain": [
       "R⋅T\n",
       "───\n",
       " P "
      ]
     },
     "metadata": {},
     "output_type": "display_data"
    }
   ],
   "source": [
    "fV0=R*T/symP\n",
    "display(fV0)"
   ]
  },
  {
   "cell_type": "code",
   "execution_count": 95,
   "metadata": {},
   "outputs": [
    {
     "data": {
      "image/png": "[encoded data removed]",
      "text/latex": [
       "$$R T Z - R T \\log{\\left (\\frac{V}{V^{IG}} \\right )} - R T \\log{\\left (\\frac{1}{Z} \\left(- B + Z\\right) \\right )} - R T + \\frac{a}{b \\sqrt{u^{2} - 4 w}} \\log{\\left (\\frac{B \\left(u - \\sqrt{u^{2} - 4 w}\\right) + 2 Z}{B \\left(u + \\sqrt{u^{2} - 4 w}\\right) + 2 Z} \\right )}$$"
      ],
      "text/plain": [
       "                                                        ⎛  ⎛       __________⎞\n",
       "                                                        ⎜  ⎜      ╱  2       ⎟\n",
       "                                                        ⎜B⋅⎝u - ╲╱  u  - 4⋅w ⎠\n",
       "                                                   a⋅log⎜─────────────────────\n",
       "                                                        ⎜  ⎛       __________⎞\n",
       "                                                        ⎜  ⎜      ╱  2       ⎟\n",
       "               ⎛   V   ⎞          ⎛-B + Z⎞              ⎝B⋅⎝u + ╲╱  u  - 4⋅w ⎠\n",
       "R⋅T⋅Z - R⋅T⋅log⎜───────⎟ - R⋅T⋅log⎜──────⎟ - R⋅T + ───────────────────────────\n",
       "               ⎝V__{IG}⎠          ⎝  Z   ⎠                       __________   \n",
       "                                                                ╱  2          \n",
       "                                                            b⋅╲╱  u  - 4⋅w    \n",
       "\n",
       "      ⎞\n",
       "      ⎟\n",
       " + 2⋅Z⎟\n",
       "──────⎟\n",
       "      ⎟\n",
       "      ⎟\n",
       " + 2⋅Z⎠\n",
       "───────\n",
       "       \n",
       "       \n",
       "       "
      ]
     },
     "metadata": {},
     "output_type": "display_data"
    }
   ],
   "source": [
    "G_res=A_res+symP*fV-symP*fV0\n",
    "display(G_res)"
   ]
  },
  {
   "cell_type": "code",
   "execution_count": 96,
   "metadata": {},
   "outputs": [
    {
     "data": {
      "image/png": "[encoded data removed]",
      "text/latex": [
       "$$R T Z - R T \\log{\\left (Z \\right )} - R T \\log{\\left (\\frac{1}{Z} \\left(- B + Z\\right) \\right )} - R T + \\frac{a}{b \\sqrt{u^{2} - 4 w}} \\log{\\left (\\frac{B \\left(u - \\sqrt{u^{2} - 4 w}\\right) + 2 Z}{B \\left(u + \\sqrt{u^{2} - 4 w}\\right) + 2 Z} \\right )}$$"
      ],
      "text/plain": [
       "                                                  ⎛  ⎛       __________⎞      \n",
       "                                                  ⎜  ⎜      ╱  2       ⎟      \n",
       "                                                  ⎜B⋅⎝u - ╲╱  u  - 4⋅w ⎠ + 2⋅Z\n",
       "                                             a⋅log⎜───────────────────────────\n",
       "                                                  ⎜  ⎛       __________⎞      \n",
       "                                                  ⎜  ⎜      ╱  2       ⎟      \n",
       "                            ⎛-B + Z⎞              ⎝B⋅⎝u + ╲╱  u  - 4⋅w ⎠ + 2⋅Z\n",
       "R⋅T⋅Z - R⋅T⋅log(Z) - R⋅T⋅log⎜──────⎟ - R⋅T + ─────────────────────────────────\n",
       "                            ⎝  Z   ⎠                       __________         \n",
       "                                                          ╱  2                \n",
       "                                                      b⋅╲╱  u  - 4⋅w          \n",
       "\n",
       "⎞\n",
       "⎟\n",
       "⎟\n",
       "⎟\n",
       "⎟\n",
       "⎟\n",
       "⎠\n",
       "─\n",
       " \n",
       " \n",
       " "
      ]
     },
     "metadata": {},
     "output_type": "display_data"
    }
   ],
   "source": [
    "G_res1=G_res.subs(V,fV).subs(V0,fV0)\n",
    "display(G_res1)"
   ]
  },
  {
   "cell_type": "code",
   "execution_count": 97,
   "metadata": {},
   "outputs": [
    {
     "data": {
      "image/png": "[encoded data removed]",
      "text/latex": [
       "$$G^{\\mathrm{RES}} = R T Z - R T \\log{\\left (Z \\right )} - R T \\log{\\left (\\frac{1}{Z} \\left(- B + Z\\right) \\right )} - R T + \\frac{a}{b \\sqrt{u^{2} - 4 w}} \\log{\\left (\\frac{B \\left(u - \\sqrt{u^{2} - 4 w}\\right) + 2 Z}{B \\left(u + \\sqrt{u^{2} - 4 w}\\right) + 2 Z} \\right )}$$"
      ],
      "text/plain": [
       "                                                                      ⎛  ⎛    \n",
       "                                                                      ⎜  ⎜    \n",
       "                                                                      ⎜B⋅⎝u - \n",
       "                                                                 a⋅log⎜───────\n",
       "                                                                      ⎜  ⎛    \n",
       "                                                                      ⎜  ⎜    \n",
       "                                                ⎛-B + Z⎞              ⎝B⋅⎝u + \n",
       "G__{\\mathrm{RES}} = R⋅T⋅Z - R⋅T⋅log(Z) - R⋅T⋅log⎜──────⎟ - R⋅T + ─────────────\n",
       "                                                ⎝  Z   ⎠                      \n",
       "                                                                              \n",
       "                                                                          b⋅╲╱\n",
       "\n",
       "   __________⎞      ⎞\n",
       "  ╱  2       ⎟      ⎟\n",
       "╲╱  u  - 4⋅w ⎠ + 2⋅Z⎟\n",
       "────────────────────⎟\n",
       "   __________⎞      ⎟\n",
       "  ╱  2       ⎟      ⎟\n",
       "╲╱  u  - 4⋅w ⎠ + 2⋅Z⎠\n",
       "─────────────────────\n",
       " __________          \n",
       "╱  2                 \n",
       "  u  - 4⋅w           "
      ]
     },
     "metadata": {},
     "output_type": "display_data"
    },
    {
     "name": "stdout",
     "output_type": "stream",
     "text": [
      "$$G^{\\mathrm{RES}} = R T Z - R T \\log{\\left (Z \\right )} - R T \\log{\\left (\\frac{1}{Z} \\left(- B + Z\\right) \\right )} - R T + \\frac{a}{b \\sqrt{u^{2} - 4 w}} \\log{\\left (\\frac{B \\left(u - \\sqrt{u^{2} - 4 w}\\right) + 2 Z}{B \\left(u + \\sqrt{u^{2} - 4 w}\\right) + 2 Z} \\right )}$$\n"
     ]
    }
   ],
   "source": [
    "G_res1_eq=sym.Eq(sym.symbols(r'G^{\\mathrm{RES}}'),G_res1)\n",
    "display(G_res1_eq)\n",
    "print( sym.latex(G_res1_eq, mode='equation', itex=True) )\n"
   ]
  },
  {
   "cell_type": "code",
   "execution_count": 98,
   "metadata": {},
   "outputs": [
    {
     "name": "stdout",
     "output_type": "stream",
     "text": [
      "R*T*Z - R*T*log(Z) - R*T*log((-B + Z)/Z) - R*T + a*log((B*(u - sqrt(u**2 - 4*w)) + 2*Z)/(B*(u + sqrt(u**2 - 4*w)) + 2*Z))/(b*sqrt(u**2 - 4*w))\n"
     ]
    }
   ],
   "source": [
    "print(G_res1)"
   ]
  },
  {
   "cell_type": "code",
   "execution_count": null,
   "metadata": {},
   "outputs": [],
   "source": []
  },
  {
   "cell_type": "code",
   "execution_count": null,
   "metadata": {},
   "outputs": [],
   "source": []
  }
 ],
 "metadata": {
  "kernelspec": {
   "display_name": "Python [default]",
   "language": "python",
   "name": "python3"
  },
  "language_info": {
   "codemirror_mode": {
    "name": "ipython",
    "version": 3
   },
   "file_extension": ".py",
   "mimetype": "text/x-python",
   "name": "python",
   "nbconvert_exporter": "python",
   "pygments_lexer": "ipython3",
   "version": "3.6.3"
  }
 },
 "nbformat": 4,
 "nbformat_minor": 2
}
