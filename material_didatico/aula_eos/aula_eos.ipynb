{
 "cells": [
  {
   "cell_type": "markdown",
   "metadata": {},
   "source": [
    "UFRJ/EQ, Agosto de 2018.\n",
    "\n",
    "# Cálculo de equilíbrio líquido-vapor de substância pura com equação de estado cúbica."
   ]
  },
  {
   "cell_type": "markdown",
   "metadata": {},
   "source": [
    "# Introdução\n",
    "\n",
    "O objetivo dessa aula é apresentar uma metodologia de resolução computacional de equação de estado cúbica.\n",
    "\n",
    "> Por resolução, entendamos (1) cálculo de pressão a partir de volume e temperatura, (2) cálculo de volume a partir de pressão e temperatura e (3) cálculo de propriedades residuais (entalpia, entropia, energia de Helmholtz, energia de Gibbs).\n",
    "\n",
    "Além disso, é apresentada uma metodologia para o cálculo de equilíbrio líquido vapor a partir do critério de igualdade de potencial químico do componente em cada fase.\n",
    "\n",
    "> O critério de equlíbrio é satisfeito utilizando os cálculos de energia de Gibbs residual a partir da equação de estado.\n",
    "\n",
    "Esta aula se limita ao estudo de substâncias puras.\n",
    "\n",
    "> São estudadas a relação $P,V,T$ de substância pura em estado líquido ou vapor e em equilíbrio de fases, e a curva univariante de pressão de saturação.\n",
    "\n",
    "Os cálculos que seguem são realizados utilizado a equação de estado cúbica de Soave para a substância Metano.\n",
    "\n",
    "> São utilizados o equacionamento e parâmetros apresentados por Reid, Prausnitz & Poling, 1987 e por Smith, van Ness & Abbott, 2007.\n",
    "\n",
    ">* Vamos trabalhar apenas com propriedades intensivas, portanto convém usar a notação simplificada: $P$ para pressão, $T$ para temperatura, $V$, $H$, $S$, $A$ e $G$ para volume molar, entalpia molar, entropia molar, energia de Helmholtz molar e energia de Gibbs molar."
   ]
  },
  {
   "cell_type": "markdown",
   "metadata": {},
   "source": [
    "# Metodologia"
   ]
  },
  {
   "cell_type": "markdown",
   "metadata": {},
   "source": [
    "Essa aula é dividida nas seguintes etapas:\n",
    "\n",
    "1. programação $P(T,V)$ usando a equação de Soave (Reid, Prausnitz & Poling, 1987 - pp 42, 43)\n",
    "  1. cálculo em sequência de $P$ versus sequência de $V$ para dados $T$\n",
    "  1. desenhar isotermas no plano $P$ versus $V$\n",
    "1. programação $V(P,T)$ usando método de solução de raiz de polinômios (numpy.roots)\n",
    "  1. implementar lógica de classificação de raízes de volume (líquido, vapor, intermediária e não física)\n",
    "  1. comparar calculos pontuais com as isotermas\n",
    "1. programação de pressão limite superior e inferior para cálculo de equilibrio de fases (baseado em Topliss, Dimitrelis & Prausnitz, 1988)\n",
    "  1. comparar calculos pontuais com as isotermas\n",
    "1. programação de energia de gibbs residual (Reid, Prausnitz & Poling, 1987)\n",
    "  1. cálculo em sequência $G^{\\mathrm{RES},L}$ e sequência $G^{\\mathrm{RES},V}$ versus sequência $P$ para dado $T$\n",
    "  1. desenhar $G^{\\mathrm{RES},L}$ e $G^{\\mathrm{RES},V}$ versus $P$ para dado $T$ e verificar existência de solução para o critério de equilíbrio de fases.\n",
    "1. programação de resolução da pressão de saturação usando método de bisseção (scipy.optimize.bisect)\n",
    "    1. cálculo em sequência de pressão de saturação versus sequência de $T$\n",
    "    1. desenhar $P^\\mathrm{SAT}$ versus $T$\n",
    "1. geração do envelope de fases no plano $P$ versus $V$ (Smith, van Ness & Abbott, 2007)\n",
    "    1. cálculo em sequência de volumes de líquido e olume de vapor para cada par $(T,P)$ na curva de $P^\\mathrm{SAT}$\n",
    "    1. desenhar envelope de fases no diagrama $P$ versus $V$ com algumas isotermas\n",
    "1. programação de entalpia e entropia residuais (Reid, Prausnitz & Poling, 1987) - TAREFA\n",
    "    1. testar pontualmente\n",
    "1. geração dos envelope de fases nos planos $T$ versus $S^\\mathrm{RES}$ e $P$ versus $H^\\mathrm{RES}$ (Smith, van Ness & Abbott, 2007)\n",
    "    1. cálculo em sequência de entalpia e entropia residuais de líquido e de vapor para cada par $(T,P)$ na curva de $P^\\mathrm{SAT}$\n",
    "    1. desenhar envelope de fases no diagrama T versus $S^\\mathrm{RES}$ com algumas isóbaras\n",
    "    1. desenhar envelope de fases no diagrama P versus $H^\\mathrm{RES}$ com algumas isotermas"
   ]
  },
  {
   "cell_type": "markdown",
   "metadata": {},
   "source": [
    "## carregando pacotes utilizados nesta aula:"
   ]
  },
  {
   "cell_type": "code",
   "execution_count": 152,
   "metadata": {},
   "outputs": [],
   "source": [
    "import numpy as np\n",
    "#1. arrays (vetores R^n) para cálculos em sequência\n",
    "#2. resolução de raiz de polinômios (np.roots)\n",
    "\n",
    "from matplotlib import pyplot as plt\n",
    "# pacote para desenhar gráficos\n",
    "%matplotlib inline\n",
    "# comando para integrar or gráficos no arquivo notebook\n",
    "\n",
    "from scipy import optimize as opt\n",
    "# resolução de equação não linear por método de biseção (opt.bisect)"
   ]
  },
  {
   "cell_type": "markdown",
   "metadata": {},
   "source": [
    "# Implementação, resultados e discussão"
   ]
  },
  {
   "cell_type": "markdown",
   "metadata": {},
   "source": [
    "## A equação de Soave\n",
    "é uma equação de estado dada pela expressão de pressão em função de temperatura e volume molar abaixo"
   ]
  },
  {
   "cell_type": "markdown",
   "metadata": {},
   "source": [
    "$$P=\\frac{RT}{V-b}-\\frac{a}{V^2+ubV+wb^2}$$\n",
    "\n",
    "em que\n",
    "\n",
    "> $u=1$\n",
    ">\n",
    "> $w=0$\n",
    ">\n",
    "> $b=\\frac{0.08664RT_c}{P_c}$\n",
    ">\n",
    "> $a=\\frac{0.42748R^2T_c^2}{P_c}(1+f(1-(T/T_c)^{(1/2)}))^2$\n",
    ">\n",
    ">$f=0.48+1.574\\omega-0.176\\omega^2$\n",
    "\n",
    "> Reid, Prausnitz & Poling, 1987 pp 42, 43"
   ]
  },
  {
   "cell_type": "markdown",
   "metadata": {},
   "source": [
    "Nota-se que sua parametrização ($a$,$b$) é dada em função de propriedades do componente (temperatura crítica - $T_c$, pressão crítica - $P_c$, e o fator acêntrico de Pitzer - $\\omega$ )\n",
    "\n",
    "Os parâmetros $u$ e $w$ servem para representar a equação de Soave na forma geral em que também se encaixam as equações de van der Waals; Redlich e Kwong; e Peng e Robinson utilizada por Reid, Prausnitz e Poling, 1987.\n",
    "\n",
    "> Abaixo são dadas as propriedades para o metano\n",
    "> (Smith, van Ness & Abbott, 2007, pp 632, 633)"
   ]
  },
  {
   "cell_type": "code",
   "execution_count": 72,
   "metadata": {},
   "outputs": [],
   "source": [
    "Tc= 190.6 #K\n",
    "Pc= 45.99e5 #bar\n",
    "omega= 0.012 #adimensional"
   ]
  },
  {
   "cell_type": "markdown",
   "metadata": {},
   "source": [
    "Aqui é definida como constante global do roteiro de cálculo da aula a constante de gases $R$ em unidades do sistema internacional S.I."
   ]
  },
  {
   "cell_type": "code",
   "execution_count": 73,
   "metadata": {},
   "outputs": [],
   "source": [
    "R=8.314"
   ]
  },
  {
   "cell_type": "markdown",
   "metadata": {},
   "source": [
    "Aqui é implementada a equação de estado apresentada\n",
    "> A implementação é feita como uma função de temperatura e volume molar retornando pressão,\n",
    ">\n",
    "> Essa equação conta com constantes ou parâmetros globais $R$, $a$ e $b$\n",
    ">\n",
    "> Notemos que o parâmetro $a$ da equação de Soave depende da temperatura, dessa forma faremos a implementação desse parâmetro como uma função global `f_a(T)`"
   ]
  },
  {
   "cell_type": "code",
   "execution_count": 153,
   "metadata": {},
   "outputs": [],
   "source": [
    "def P_soave(T,Vm):\n",
    "    return R*T/(Vm-b) - f_a(T)/(Vm**2 + u*b*Vm + w*b**2)\n",
    "\n",
    "# Soave\n",
    "u=1\n",
    "w=0\n",
    "\n",
    "b=(0.08664*R*Tc)/Pc\n",
    "ac=0.42748*R**2*Tc**2/Pc\n",
    "\n",
    "def f_a(T):\n",
    "    Tr=T/Tc\n",
    "    return ac*(1+f_omega*(1-Tr**(.5)))**2\n",
    "\n",
    "f_omega = 0.48 + 1.574*omega-0.176*omega**2"
   ]
  },
  {
   "cell_type": "markdown",
   "metadata": {},
   "source": [
    "## Cálculo"
   ]
  },
  {
   "cell_type": "markdown",
   "metadata": {},
   "source": [
    "* testes\n",
    "\n",
    "Podemos arbitrar valores de temperatura e volume molar para verificar se a função retorna valores coerentes"
   ]
  },
  {
   "cell_type": "code",
   "execution_count": 154,
   "metadata": {},
   "outputs": [
    {
     "name": "stdout",
     "output_type": "stream",
     "text": [
      "8200446679.179468\n",
      "7398098.854986852\n",
      "818449.5943072638\n",
      "82875.11702476481\n",
      "8298.064789681894\n",
      "11006135007.347103\n",
      "10874703.913514586\n",
      "1103923.0864542571\n",
      "110794.79211676221\n",
      "11083.743603948866\n"
     ]
    }
   ],
   "source": [
    "# print( P_soave(T=298.,Vm=b) )\n",
    "print( P_soave(T=298.,Vm=b*1.01) )\n",
    "print( P_soave(T=298.,Vm=b*10) )\n",
    "print( P_soave(T=298.,Vm=b*100) )\n",
    "print( P_soave(T=298.,Vm=b*1000) )\n",
    "print( P_soave(T=298.,Vm=b*10000) )\n",
    "\n",
    "print( P_soave(T=398.,Vm=b*1.01) )\n",
    "print( P_soave(T=398.,Vm=b*10) )\n",
    "print( P_soave(T=398.,Vm=b*100) )\n",
    "print( P_soave(T=398.,Vm=b*1000) )\n",
    "print( P_soave(T=398.,Vm=b*10000) )\n"
   ]
  },
  {
   "cell_type": "markdown",
   "metadata": {},
   "source": [
    "* vetorizado\n",
    "\n",
    "Aqui definimos array (vetor $\\mathbb{R}^n$) contendo uma sequência finita de valores arbitrados para volume molar\n",
    "\n",
    "> vamos usar um array de tamanho 100 para termos uma quantidade tal de valores calculados que possamos apreciá-la em um gráfico\n",
    "\n",
    "Realizaremos o cálculo de pressão para cada elemento do array de volume molar, resultando em um array de valores calculados para pressão em data temperatura.\n",
    "\n",
    "além disso, vamos definir um array contendo uma sequência finita de valores arbitrados para temperatura e repetirmos esse cálculo para cada temperatura.\n",
    "\n",
    "> vamos usar um array de tamanho 6 para podermos desenhar 6 isotermas \n",
    "\n",
    "em conclusão, para cada valor de temperatura no array seqT, vamos estabelecer um array seqVm e calcular um array seqP, isso quer dizer que teremos 6 arrays seqP, vamos armazená-los em uma lista listP, por outro podemos usar um único seqVm como base para os cálculos vetorizados de pressão em cada temperatura, logo basta armazenarmos um único array seqVm\n",
    "\n",
    "> lista é mais conveniente para armazenar uma quantidade pequena de objetos (6 arrays), enquanto que é mais conveniente cada objeto, por sua vez, ser um array pois armazenam uma grande quantidade de dados (100 cálculos)"
   ]
  },
  {
   "cell_type": "code",
   "execution_count": 155,
   "metadata": {},
   "outputs": [
    {
     "data": {
      "text/plain": [
       "[array([  2.48462082e+09,   1.62082441e+08,   2.49411017e+07,\n",
       "         -1.62188626e+07,  -3.18931826e+07,  -3.76321439e+07,\n",
       "         -3.87909201e+07,  -3.76737971e+07,  -3.54120955e+07,\n",
       "         -3.26091155e+07,  -2.96032862e+07,  -2.65894322e+07,\n",
       "         -2.36799711e+07,  -2.09380441e+07,  -1.83964748e+07,\n",
       "         -1.60691116e+07,  -1.39578565e+07,  -1.20571458e+07,\n",
       "         -1.03568670e+07,  -8.84428674e+06,  -7.50533600e+06,\n",
       "         -6.32546932e+06,  -5.29023480e+06,  -4.38564643e+06,\n",
       "         -3.59841896e+06,  -2.91610720e+06,  -2.32717812e+06,\n",
       "         -1.82103646e+06,  -1.38801806e+06,  -1.01936143e+06,\n",
       "         -7.07164983e+05,  -4.44335522e+05,  -2.24531787e+05,\n",
       "         -4.21059839e+04,   1.07954716e+05,   2.30085265e+05,\n",
       "          3.28197465e+05,   4.05731712e+05,   4.65705364e+05,\n",
       "          5.10757571e+05,   5.43190493e+05,   5.65006972e+05,\n",
       "          5.77944761e+05,   5.83507485e+05,   5.82992513e+05,\n",
       "          5.77515968e+05,   5.68035079e+05,   5.55368104e+05,\n",
       "          5.40212022e+05,   5.23158222e+05,   5.04706362e+05,\n",
       "          4.85276592e+05,   4.65220308e+05,   4.44829596e+05,\n",
       "          4.24345501e+05,   4.03965262e+05,   3.83848623e+05,\n",
       "          3.64123331e+05,   3.44889917e+05,   3.26225842e+05,\n",
       "          3.08189088e+05,   2.90821262e+05,   2.74150276e+05,\n",
       "          2.58192650e+05,   2.42955489e+05,   2.28438183e+05,\n",
       "          2.14633853e+05,   2.01530588e+05,   1.89112492e+05,\n",
       "          1.77360579e+05,   1.66253515e+05,   1.55768255e+05,\n",
       "          1.45880571e+05,   1.36565486e+05,   1.27797642e+05,\n",
       "          1.19551598e+05,   1.11802070e+05,   1.04524130e+05,\n",
       "          9.76933597e+04,   9.12859729e+04,   8.52789085e+04,\n",
       "          7.96498993e+04,   7.43775210e+04,   6.94412240e+04,\n",
       "          6.48213515e+04,   6.04991463e+04,   5.64567481e+04,\n",
       "          5.26771831e+04,   4.91443482e+04,   4.58429894e+04,\n",
       "          4.27586778e+04,   3.98777821e+04,   3.71874388e+04,\n",
       "          3.46755222e+04,   3.23306129e+04,   3.01419655e+04,\n",
       "          2.80994771e+04,   2.61936560e+04,   2.44155901e+04,\n",
       "          2.27569172e+04]),\n",
       " array([  4.64165424e+09,   4.43826660e+08,   1.81300421e+08,\n",
       "          9.30019480e+07,   5.19214496e+07,   2.99584483e+07,\n",
       "          1.73708333e+07,   9.91492927e+06,   5.46492396e+06,\n",
       "          2.85166794e+06,   1.38871625e+06,   6.53765595e+05,\n",
       "          3.78221440e+05,   3.87289930e+05,   5.65581000e+05,\n",
       "          8.36426405e+05,   1.14896313e+06,   1.46980927e+06,\n",
       "          1.77755841e+06,   2.05905966e+06,   2.30686050e+06,\n",
       "          2.51742489e+06,   2.68987899e+06,   2.82512228e+06,\n",
       "          2.92519544e+06,   2.99283086e+06,   3.03113438e+06,\n",
       "          3.04336198e+06,   3.03276548e+06,   3.00248852e+06,\n",
       "          2.95549926e+06,   2.89454965e+06,   2.82215390e+06,\n",
       "          2.74058071e+06,   2.65185503e+06,   2.55776637e+06,\n",
       "          2.45988150e+06,   2.35955968e+06,   2.25796932e+06,\n",
       "          2.15610520e+06,   2.05480555e+06,   1.95476861e+06,\n",
       "          1.85656837e+06,   1.76066924e+06,   1.66743970e+06,\n",
       "          1.57716474e+06,   1.49005715e+06,   1.40626770e+06,\n",
       "          1.32589429e+06,   1.24899001e+06,   1.17557032e+06,\n",
       "          1.10561940e+06,   1.03909563e+06,   9.75936411e+05,\n",
       "          9.16062395e+05,   8.59381030e+05,   8.05789692e+05,\n",
       "          7.55178318e+05,   7.07431657e+05,   6.62431168e+05,\n",
       "          6.20056607e+05,   5.80187353e+05,   5.42703497e+05,\n",
       "          5.07486733e+05,   4.74421076e+05,   4.43393424e+05,\n",
       "          4.14294004e+05,   3.87016703e+05,   3.61459306e+05,\n",
       "          3.37523660e+05,   3.15115771e+05,   2.94145852e+05,\n",
       "          2.74528318e+05,   2.56181752e+05,   2.39028839e+05,\n",
       "          2.22996275e+05,   2.08014660e+05,   1.94018377e+05,\n",
       "          1.80945459e+05,   1.68737449e+05,   1.57339259e+05,\n",
       "          1.46699016e+05,   1.36767924e+05,   1.27500108e+05,\n",
       "          1.18852475e+05,   1.10784569e+05,   1.03258431e+05,\n",
       "          9.62384666e+04,   8.96913150e+04,   8.35857214e+04,\n",
       "          7.78924184e+04,   7.25840098e+04,   6.76348601e+04,\n",
       "          6.30209900e+04,   5.87199757e+04,   5.47108546e+04,\n",
       "          5.09740350e+04,   4.74912112e+04,   4.42452827e+04,\n",
       "          4.12202786e+04]),\n",
       " array([  4.91047294e+09,   4.78316809e+08,   2.00192466e+08,\n",
       "          1.06069694e+08,   6.18750063e+07,   3.79396773e+07,\n",
       "          2.39737213e+07,   1.54914987e+07,   1.02433136e+07,\n",
       "          6.98968386e+06,   5.00103230e+06,   3.82696357e+06,\n",
       "          3.17967810e+06,   2.87071806e+06,   2.77464209e+06,\n",
       "          2.80717709e+06,   2.91156699e+06,   3.04976939e+06,\n",
       "          3.19662757e+06,   3.33592777e+06,   3.45768414e+06,\n",
       "          3.55624270e+06,   3.62894257e+06,   3.67516362e+06,\n",
       "          3.69564562e+06,   3.69200101e+06,   3.66636674e+06,\n",
       "          3.62115706e+06,   3.55888995e+06,   3.48206725e+06,\n",
       "          3.39309430e+06,   3.29422834e+06,   3.18754781e+06,\n",
       "          3.07493681e+06,   2.95808028e+06,   2.83846673e+06,\n",
       "          2.71739598e+06,   2.59599028e+06,   2.47520733e+06,\n",
       "          2.35585434e+06,   2.23860238e+06,   2.12400052e+06,\n",
       "          2.01248949e+06,   1.90441455e+06,   1.80003747e+06,\n",
       "          1.69954760e+06,   1.60307190e+06,   1.51068405e+06,\n",
       "          1.42241259e+06,   1.33824815e+06,   1.25814993e+06,\n",
       "          1.18205127e+06,   1.10986467e+06,   1.04148601e+06,\n",
       "          9.76798352e+05,   9.15675056e+05,   8.57982571e+05,\n",
       "          8.03582737e+05,   7.52334746e+05,   7.04096793e+05,\n",
       "          6.58727430e+05,   6.16086692e+05,   5.76037010e+05,\n",
       "          5.38443931e+05,   5.03176700e+05,   4.70108690e+05,\n",
       "          4.39117734e+05,   4.10086346e+05,   3.82901875e+05,\n",
       "          3.57456579e+05,   3.33647647e+05,   3.11377179e+05,\n",
       "          2.90552124e+05,   2.71084182e+05,   2.52889696e+05,\n",
       "          2.35889511e+05,   2.20008826e+05,   2.05177039e+05,\n",
       "          1.91327574e+05,   1.78397716e+05,   1.66328437e+05,\n",
       "          1.55064222e+05,   1.44552900e+05,   1.34745475e+05,\n",
       "          1.25595960e+05,   1.17061219e+05,   1.09100809e+05,\n",
       "          1.01676833e+05,   9.47537917e+04,   8.82984496e+04,\n",
       "          8.22797001e+04,   7.66684401e+04,   7.14374496e+04,\n",
       "          6.65612776e+04,   6.20161339e+04,   5.77797865e+04,\n",
       "          5.38314643e+04,   5.01517657e+04,   4.67225717e+04,\n",
       "          4.35269647e+04]),\n",
       " array([  5.17916129e+09,   5.12689905e+08,   2.18979520e+08,\n",
       "          1.19043387e+08,   7.17444130e+07,   4.58457101e+07,\n",
       "          3.05094964e+07,   2.10082416e+07,   1.49684354e+07,\n",
       "          1.10803267e+07,   8.57126567e+06,   6.96282010e+06,\n",
       "          5.94803630e+06,   5.32483954e+06,   4.95778051e+06,\n",
       "          4.75502107e+06,   4.65394862e+06,   4.61189366e+06,\n",
       "          4.59997967e+06,   4.59895774e+06,   4.59633396e+06,\n",
       "          4.58435926e+06,   4.55860644e+06,   4.51695440e+06,\n",
       "          4.45885888e+06,   4.38482750e+06,   4.29604188e+06,\n",
       "          4.19408674e+06,   4.08075709e+06,   3.95792270e+06,\n",
       "          3.82743477e+06,   3.69106352e+06,   3.55045845e+06,\n",
       "          3.40712516e+06,   3.26241398e+06,   3.11751716e+06,\n",
       "          2.97347180e+06,   2.83116686e+06,   2.69135261e+06,\n",
       "          2.55465158e+06,   2.42157021e+06,   2.29251064e+06,\n",
       "          2.16778234e+06,   2.04761310e+06,   1.93215953e+06,\n",
       "          1.82151664e+06,   1.71572675e+06,   1.61478744e+06,\n",
       "          1.51865879e+06,   1.42726977e+06,   1.34052395e+06,\n",
       "          1.25830448e+06,   1.18047846e+06,   1.10690073e+06,\n",
       "          1.03741713e+06,   9.71867295e+05,   9.10087042e+05,\n",
       "          8.51910373e+05,   7.97171157e+05,   7.45704518e+05,\n",
       "          6.97347979e+05,   6.51942384e+05,   6.09332629e+05,\n",
       "          5.69368233e+05,   5.31903767e+05,   4.96799169e+05,\n",
       "          4.63919948e+05,   4.33137316e+05,   4.04328237e+05,\n",
       "          3.77375432e+05,   3.52167315e+05,   3.28597913e+05,\n",
       "          3.06566736e+05,   2.85978635e+05,   2.66743631e+05,\n",
       "          2.48776740e+05,   2.31997781e+05,   2.16331179e+05,\n",
       "          2.01705765e+05,   1.88054578e+05,   1.75314661e+05,\n",
       "          1.63426865e+05,   1.52335653e+05,   1.41988913e+05,\n",
       "          1.32337772e+05,   1.23336418e+05,   1.14941929e+05,\n",
       "          1.07114106e+05,   9.98153205e+04,   9.30103555e+04,\n",
       "          8.66662685e+04,   8.07522516e+04,   7.52395022e+04,\n",
       "          7.01010994e+04,   6.53118881e+04,   6.08483680e+04,\n",
       "          5.66885896e+04,   5.28120565e+04,   4.91996320e+04,\n",
       "          4.58334524e+04]),\n",
       " array([  1.05351408e+10,   1.18417707e+09,   5.80392069e+08,\n",
       "          3.65681428e+08,   2.57648292e+08,   1.93704061e+08,\n",
       "          1.52065834e+08,   1.23178348e+08,   1.02201197e+08,\n",
       "          8.64279932e+07,   7.42327501e+07,   6.45838202e+07,\n",
       "          5.67981267e+07,   5.04076791e+07,   4.50827836e+07,\n",
       "          4.05857365e+07,   3.67417776e+07,   3.34202540e+07,\n",
       "          3.05220536e+07,   2.79710140e+07,   2.57079226e+07,\n",
       "          2.36862504e+07,   2.18690679e+07,   2.02267849e+07,\n",
       "          1.87354738e+07,   1.73756120e+07,   1.61311290e+07,\n",
       "          1.49886801e+07,   1.39370868e+07,   1.29669036e+07,\n",
       "          1.20700811e+07,   1.12397014e+07,   1.04697701e+07,\n",
       "          9.75505229e+06,   9.09094126e+06,   8.47335447e+06,\n",
       "          7.89864979e+06,   7.36355812e+06,   6.86512883e+06,\n",
       "          6.40068538e+06,   5.96778892e+06,   5.56420848e+06,\n",
       "          5.18789611e+06,   4.83696629e+06,   4.50967852e+06,\n",
       "          4.20442265e+06,   3.91970634e+06,   3.65414428e+06,\n",
       "          3.40644882e+06,   3.17542184e+06,   2.95994750e+06,\n",
       "          2.75898588e+06,   2.57156728e+06,   2.39678704e+06,\n",
       "          2.23380091e+06,   2.08182082e+06,   1.94011100e+06,\n",
       "          1.80798442e+06,   1.68479952e+06,   1.56995720e+06,\n",
       "          1.46289795e+06,   1.36309932e+06,   1.27007343e+06,\n",
       "          1.18336473e+06,   1.10254790e+06,   1.02722587e+06,\n",
       "          9.57027963e+05,   8.91608184e+05,   8.30643609e+05,\n",
       "          7.73832874e+05,   7.20894763e+05,   6.71566883e+05,\n",
       "          6.25604431e+05,   5.82779035e+05,   5.42877670e+05,\n",
       "          5.05701642e+05,   4.71065643e+05,   4.38796862e+05,\n",
       "          4.08734151e+05,   3.80727254e+05,   3.54636079e+05,\n",
       "          3.30330015e+05,   3.07687304e+05,   2.86594444e+05,\n",
       "          2.66945638e+05,   2.48642271e+05,   2.31592434e+05,\n",
       "          2.15710467e+05,   2.00916538e+05,   1.87136252e+05,\n",
       "          1.74300282e+05,   1.62344027e+05,   1.51207290e+05,\n",
       "          1.40833981e+05,   1.31171838e+05,   1.22172169e+05,\n",
       "          1.13789606e+05,   1.05981881e+05,   9.87096159e+04,\n",
       "          9.19361236e+04])]"
      ]
     },
     "execution_count": 155,
     "metadata": {},
     "output_type": "execute_result"
    }
   ],
   "source": [
    "seqT=Tc*np.array([.5,.9,.95,1,2])\n",
    "nT=len(seqT)\n",
    "\n",
    "nV=100\n",
    "seqVm= np.logspace(np.log10(b*1.01),2+np.log10(R*Tc/Pc),nV)\n",
    "listP=[]\n",
    "for T in seqT:\n",
    "    seqP=np.zeros(nV)\n",
    "    for i in range(nV):\n",
    "        seqP[i]=P_soave(T,seqVm[i])\n",
    "    listP.append( seqP )\n",
    "listP"
   ]
  },
  {
   "cell_type": "markdown",
   "metadata": {},
   "source": [
    "* plot"
   ]
  },
  {
   "cell_type": "code",
   "execution_count": 156,
   "metadata": {},
   "outputs": [
    {
     "data": {
      "image/png": "[encoded data removed]",
      "text/plain": [
       "<Figure size 432x288 with 1 Axes>"
      ]
     },
     "metadata": {},
     "output_type": "display_data"
    }
   ],
   "source": [
    "for i in range(nT):\n",
    "    plt.plot(seqVm,listP[i],label=str(seqT[i])+' K') #create a logarithm vs logarithm scale plot of pressure vs volume, using the function pressure in each value of the volume list\n",
    "    plt.ylabel(r'$P (\\mathrm{Pa})$') #create labels to be displayed in y axis of the plot\n",
    "    plt.xlabel(r'${V} (\\mathrm{m^{3}mol^{-1}})$') #use matplotlib's  mathtext to create special symbols in the x label\n",
    "    plt.title('Equação de estado de Soave \\n (metano)') #create a title for the figure\n",
    "    plt.ylim(-Pc,Pc*3)#define max and min limits of the y axis only to the positive pressure range. remember that this plot is in logarithm scale and it does not accept negative values.\n",
    "    plt.xlim(b,(R*Tc/Pc)*100) #define max and min limits of the x axis\n",
    "    plt.xscale('log')\n",
    "plt.legend()\n",
    "plt.show()"
   ]
  },
  {
   "cell_type": "markdown",
   "metadata": {},
   "source": [
    "## V eos\n",
    "\n",
    "A equação de estado de Soave é dita cúbica pois pode ser re-escrita da seguinte forma:\n",
    "\n",
    "$$Z^3-Z^2(1+B-uB)+Z(A+wB^2-uB-uB^2)-AB-wB^2-wB^3=0$$\n",
    "\n",
    "> Reid, Prausnitz & Poling, 1987, pp 42, 43\n",
    "\n",
    "Que é um polinômia de grau 3 (equação cúbica) na variável Z\n",
    "\n",
    "em que \n",
    "\n",
    "$$Z=\\frac{PV}{RT}$$\n",
    "\n",
    "Vamos implementar essa forma polinomial e resolver usando um método de solução de polinômios\n"
   ]
  },
  {
   "cell_type": "code",
   "execution_count": 157,
   "metadata": {},
   "outputs": [],
   "source": [
    "def V_cubic(T,P):\n",
    "    a=f_a(T)\n",
    "    A=a*P/(R**2*T**2)\n",
    "    B=b*P/(R*T)\n",
    "    c3=1\n",
    "    c2=-(1+B-u*B)\n",
    "    c1=(A+w*B**2-u*B-u*B**2)\n",
    "    c0=-A*B-w*B**2-w*B**3\n",
    "    coeffs=(c3,c2,c1,c0)\n",
    "#     print('coeffs:',coeffs)\n",
    "    Z=np.roots(coeffs)\n",
    "    nZ=len(Z)\n",
    "\n",
    "    listV_raw=[ Zi*R*T/P for Zi in Z]\n",
    "\n",
    "    listV_good=[]    \n",
    "    \n",
    "    imag_tol = 1e-11\n",
    "    \n",
    "    for Vi in listV_raw:\n",
    "        if (abs(Vi.imag) < imag_tol) and (Vi.real > b):\n",
    "            listV_good.append(Vi.real)\n",
    "    \n",
    "    nV_good = len(listV_good)\n",
    "    \n",
    "    vL=min(listV_good)\n",
    "    vV=max(listV_good)\n",
    "    zL=P*vL/(R*T)\n",
    "    zV=P*vV/(R*T)\n",
    "    return vL, vV, zL,zV,nV_good"
   ]
  },
  {
   "cell_type": "code",
   "execution_count": 158,
   "metadata": {},
   "outputs": [
    {
     "name": "stdout",
     "output_type": "stream",
     "text": [
      "(0.0021878294226813496, 0.0021878294226813496, 0.97615514122665858, 0.97615514122665858, 1)\n",
      "(0.0001793647183114763, 0.0001793647183114763, 0.80028081768749459, 0.80028081768749459, 1)\n",
      "(4.4087869060909547e-05, 4.4087869060909547e-05, 1.967091200226661, 1.967091200226661, 1)\n",
      "(4.2973664625726785e-05, 0.010994695314128862, 0.0038347563321771022, 0.9811119866880682, 3)\n",
      "(3.3421231252545952e-05, 0.0049737773056450461, 0.0059646892714906941, 0.88767035270446326, 3)\n",
      "(3.1252964235590954e-05, 3.1252964235590954e-05, 0.011155437037593346, 0.011155437037593346, 1)\n",
      "(3.1246245748855888e-05, 3.1246245748855888e-05, 0.11153038940081829, 0.11153038940081829, 1)\n",
      "(3.1182654223466688e-05, 3.1182654223466688e-05, 1.113034057290436, 1.113034057290436, 1)\n",
      "(0.22407352023439525, 0.22407352023439525, 0.99976038589649241, 0.99976038589649241, 1)\n",
      "(2.241218536722366, 2.241218536722366, 0.99997603768978527, 0.99997603768978527, 1)\n",
      "(2.241218536722366, 2.241218536722366, 0.99997603768978527, 0.99997603768978527, 1)\n",
      "(22.412668721569116, 22.412668721569116, 0.99999760375999425, 0.99999760375999425, 1)\n",
      "(224.12717057203014, 224.12717057203014, 0.99999976037590976, 0.99999976037590976, 1)\n"
     ]
    }
   ],
   "source": [
    "T0=273.15\n",
    "P0=1.01325e5\n",
    "print( V_cubic(T0,P0*10) )\n",
    "print( V_cubic(T0,P0*100) )\n",
    "print( V_cubic(T0,P0*1000) )\n",
    "print( V_cubic(T0/2,P0) )\n",
    "print( V_cubic(T0/4,P0) )\n",
    "print( V_cubic(T0/8,P0) )\n",
    "print( V_cubic(T0/8,P0*10) )\n",
    "print( V_cubic(T0/8,P0*100) )\n",
    "\n",
    "print( V_cubic(T0,P0/10) )\n",
    "print( V_cubic(T0,P0/100) )\n",
    "print( V_cubic(T0,P0/100) )\n",
    "print( V_cubic(T0,P0/1000) )\n",
    "print( V_cubic(T0,P0/10000) )"
   ]
  },
  {
   "cell_type": "markdown",
   "metadata": {},
   "source": [
    "* cálculo em sequência"
   ]
  },
  {
   "cell_type": "code",
   "execution_count": 159,
   "metadata": {},
   "outputs": [],
   "source": [
    "seqT=Tc*np.array([.5,.90,.95,1,2])\n",
    "nT=len(seqT)\n",
    "\n",
    "listVm_L=[]\n",
    "listVm_V=[]\n",
    "\n",
    "nP=10\n",
    "Pmin=1e-5\n",
    "Pmax=Pc*3\n",
    "\n",
    "lg_pmin=np.log10(Pmin)\n",
    "lg_pmax=np.log10(Pmax)\n",
    "\n",
    "#seqP = np.logspace(lg_pmin,lg_pmax,nP)\n",
    "seqP = np.linspace(Pmin,Pmax,nP)\n",
    "\n",
    "for T in seqT:\n",
    "    seqVmi_L=np.zeros(nP)\n",
    "    seqVmi_V=np.zeros(nP)\n",
    "    seqZi_L=np.zeros(nP)\n",
    "    seqZi_V=np.zeros(nP)\n",
    "    seqnVi=np.zeros(nP)\n",
    "    for i in range(nP):\n",
    "        seqVmi_L[i],seqVmi_V[i],seqZi_L[i],seqZi_V[i],seqnVi[i] = V_cubic(T,seqP[i])\n",
    "    listVm_L.append( seqVmi_L )\n",
    "    listVm_V.append( seqVmi_V )"
   ]
  },
  {
   "cell_type": "markdown",
   "metadata": {},
   "source": [
    "* plot"
   ]
  },
  {
   "cell_type": "code",
   "execution_count": 160,
   "metadata": {},
   "outputs": [
    {
     "data": {
      "image/png": "[encoded data removed]",
      "text/plain": [
       "<Figure size 432x288 with 1 Axes>"
      ]
     },
     "metadata": {},
     "output_type": "display_data"
    }
   ],
   "source": [
    "for i in range(nT):\n",
    "    #do cálculo de isotermas\n",
    "    plt.plot(seqVm,listP[i],label=str(seqT[i])+' K') #create a logarithm vs logarithm scale plot of pressure vs volume, using the function pressure in each value of the volume list\n",
    "    #do cálculo de volumes\n",
    "    plt.scatter(listVm_L[i],seqP)\n",
    "    plt.scatter(listVm_V[i],seqP)\n",
    "    \n",
    "    plt.ylabel(r'$P (\\mathrm{Pa})$') #create labels to be displayed in y axis of the plot\n",
    "    plt.xlabel(r'${V} (\\mathrm{m^{3}mol^{-1}})$') #use matplotlib's  mathtext to create special symbols in the x label\n",
    "    plt.title('Equação de estado de Soave \\n (metano)') #create a title for the figure\n",
    "    plt.ylim(0,Pc*3)#define max and min limits of the y axis only to the positive pressure range. remember that this plot is in logarithm scale and it does not accept negative values.\n",
    "    plt.xlim(b,(R*Tc/Pc)*100) #define max and min limits of the x axis\n",
    "    plt.xscale('log')\n",
    "plt.legend()\n",
    "plt.show()"
   ]
  },
  {
   "cell_type": "markdown",
   "metadata": {},
   "source": [
    "# Faixa de busca para pressão de saturação\n",
    "(metodologia baseada em Topliss, Dimitrelis & Prausnitz, 1988)\n",
    "\n",
    "Sabendo que a pressão de saturação está na faixa de pressão para a qual há três raízes de volume, a região de busca pode ser definida pelo cálculo do mínimo e máximo locais da isoterma:\n",
    "\n",
    "dado $T$, buscar $V^*$ tal que $\\left(\\frac{\\partial P}{\\partial V}\\right)_T=0$\n",
    "\n",
    "Filtram-se apenas os valores físicos: $V^*$ entre $b$ e $\\infty$"
   ]
  },
  {
   "cell_type": "markdown",
   "metadata": {},
   "source": [
    "$$ \\left( \\frac{\\partial P}{\\partial V} \\right) _T= 0$$\n",
    "\n",
    "usando a equação de Soave, obtemos a seguinte expressão para essa derivada parcial\n",
    "\n",
    "$$\\frac{\\partial{P}}{\\partial{V}} = - \\frac{R T}{\\left(V - b\\right)^{2}} - \\frac{a \\left(- 2 V - b u\\right)}{\\left(V^{2} + V b u + b^{2} w\\right)^{2}}$$\n",
    "\n",
    "como buscamos os valores de V para os quais a expressão dá zero, podemos multiplicar ambos os lados da equação pelos denominadores de cada termo, obtendo assim\n",
    "\n",
    "$$- R T \\left(V^{2} + V b u + b^{2} w\\right)^{2} - a \\left(- 2 V - b u\\right) \\left(V - b\\right)^{2} = 0$$\n",
    "\n",
    "realizando as operações distributivas, potências de somas e coletando os coeficientes de iguais potências de V chegamos a representação polinomial\n",
    "\n",
    "$$V^{4} - \\frac{V^{3}}{R T} \\left(- 2 R T b u + 2 a\\right) - \\frac{V^{2}}{R T} \\left(- R T b^{2} u^{2} - 2 R T b^{2} w + a b u - 4 a b\\right) - \\frac{V}{R T} \\left(- 2 R T b^{3} u w - 2 a b^{2} u + 2 a b^{2}\\right) - \\frac{1}{R T} \\left(- R T b^{4} w^{2} + a b^{3} u\\right) = 0$$\n",
    "\n",
    "A qual pode ser convenientemente expressa por coeficientes $c_0$, $c_1$, $c_2$, $c_3$ e $c_4$.\n",
    "\n",
    "$$ c_4V^4 + c_3 V^3+c_2V^2+c_1 V+c_0=0$$\n",
    "\n",
    "em que\n",
    "\n",
    "$c_4 = 1$\n",
    "\n",
    "$c_3 = (-2RTbu + 2a)/(-RT)$\n",
    "\n",
    "$c_2 = (-RTb^2u^2 - 2RTb^2w + abu - 4ab)/(-RT)$\n",
    "\n",
    "$c_1 = (-2RTb^3uw - 2ab^2u + 2ab^2)/(-RT)$\n",
    "\n",
    "$c_0 = (-RTb^4w^2 + ab^3u)/(-RT)$"
   ]
  },
  {
   "cell_type": "code",
   "execution_count": 161,
   "metadata": {},
   "outputs": [],
   "source": [
    "def Plimits(T):\n",
    "    #cálculo dos limites para busca de pressão de saturação\n",
    "    \n",
    "    #calcular coeficientes da representação polinomial\n",
    "    a=f_a(T)\n",
    "    c4 = 1\n",
    "    c3 = (-2*R*T*b*u + 2*a)/(-R*T)\n",
    "    c2 = (-R*T*b**2*u**2 - 2*R*T*b**2*w + a*b*u - 4*a*b)/(-R*T)\n",
    "    c1 = (-2*R*T*b**3*u*w - 2*a*b**2*u + 2*a*b**2)/(-R*T)\n",
    "    c0 = (-R*T*b**4*w**2 + a*b**3*u)/(-R*T)\n",
    "    \n",
    "    #resolver raízes com a função roots\n",
    "    coefs = (c4,c3,c2,c1,c0)\n",
    "    plateaus = np.roots(coefs)\n",
    "\n",
    "    #    filtrar apenas os valores físicos (V real e maior que b)\n",
    "    listV_raw= plateaus\n",
    "\n",
    "    listV_good=[]    \n",
    "    \n",
    "    imag_tol = 1e-11\n",
    "    \n",
    "    for Vi in listV_raw:\n",
    "        if (abs(Vi.imag) < imag_tol) and (Vi.real > b):\n",
    "            listV_good.append(Vi.real)\n",
    "    \n",
    "    nplateeaus_good = len(listV_good)    \n",
    "    \n",
    "    if nplateeaus_good >= 1:\n",
    "        Vli = min(listV_good)\n",
    "        Vvi = max(listV_good)\n",
    "\n",
    "        #calcular a pressão correspondente a cada raiz de volume selecionada\n",
    "        Psup = P_soave(T,Vvi)\n",
    "        Pinf = P_soave(T,Vli)\n",
    "\n",
    "        #definir com limite superior uma pressão ligeiramente abaixo da pressão limite superior\n",
    "        #e ligeiramente acima da pressão limite inferior para garantir que existam três volumes nas condições teste\n",
    "        #não levar pressão negativa para o cálculo de pressão de saturação\n",
    "        Psupi=Psup*.999999\n",
    "    \n",
    "        if Pinf > 0:\n",
    "            Pinfi = Pinf*1.000001\n",
    "        else:\n",
    "            Pinfi = 1e-14\n",
    "            \n",
    "    elif nplateeaus_good==0:\n",
    "        #não achamos faixa de busca\n",
    "        Vli=None\n",
    "        Vvi=None\n",
    "        Psupi=None\n",
    "        Pinfi=None\n",
    "        \n",
    "    return nplateeaus_good,Vli,Vvi,Pinfi,Psupi"
   ]
  },
  {
   "cell_type": "markdown",
   "metadata": {},
   "source": [
    "* testes"
   ]
  },
  {
   "cell_type": "code",
   "execution_count": 162,
   "metadata": {},
   "outputs": [
    {
     "name": "stdout",
     "output_type": "stream",
     "text": [
      "nPlim: 2\n",
      "Vli: 5.12869412052e-05\n",
      "Vvi: 0.000451189451291\n",
      "Psupi: 1059459.53909\n",
      "Pinfi: 1e-14\n",
      "nPlim: 2\n",
      "Vli: 7.18570675713e-05\n",
      "Vvi: 0.000211603586191\n",
      "Psupi: 2951298.46556\n",
      "Pinfi: 1e-14\n",
      "nPlim: 0\n",
      "Vli: None\n",
      "Vvi: None\n",
      "Psupi: None\n",
      "Pinfi: None\n"
     ]
    }
   ],
   "source": [
    "nPlim,Vli,Vvi,Pinfi,Psupi=Plimits(120)\n",
    "print(\"nPlim:\",nPlim)\n",
    "print(\"Vli:\",Vli)\n",
    "print(\"Vvi:\",Vvi)\n",
    "print(\"Psupi:\",Psupi)\n",
    "print(\"Pinfi:\",Pinfi)\n",
    "\n",
    "nPlim,Vli,Vvi,Pinfi,Psupi=Plimits(170)\n",
    "print(\"nPlim:\",nPlim)\n",
    "print(\"Vli:\",Vli)\n",
    "print(\"Vvi:\",Vvi)\n",
    "print(\"Psupi:\",Psupi)\n",
    "print(\"Pinfi:\",Pinfi)\n",
    "\n",
    "nPlim,Vli,Vvi,Pinfi,Psupi=Plimits(220)\n",
    "print(\"nPlim:\",nPlim)\n",
    "print(\"Vli:\",Vli)\n",
    "print(\"Vvi:\",Vvi)\n",
    "print(\"Psupi:\",Psupi)\n",
    "print(\"Pinfi:\",Pinfi)"
   ]
  },
  {
   "cell_type": "markdown",
   "metadata": {},
   "source": [
    "* validação gráfica"
   ]
  },
  {
   "cell_type": "code",
   "execution_count": 130,
   "metadata": {},
   "outputs": [
    {
     "name": "stdout",
     "output_type": "stream",
     "text": [
      "nPlim: 2.0\n",
      "nPlim: 2.0\n",
      "nPlim: 2.0\n",
      "nPlim: 2.0\n",
      "nPlim: 0.0\n"
     ]
    }
   ],
   "source": [
    "seqVlilim=np.zeros(nT)\n",
    "seqVvilim=np.zeros(nT)\n",
    "seqPsupilim=np.zeros(nT)\n",
    "seqPinfilim=np.zeros(nT)\n",
    "nPlim=np.zeros(nT)\n",
    "\n",
    "for i in range(nT):\n",
    "    nPlim[i],seqVlilim[i],seqVvilim[i],seqPinfilim[i],seqPsupilim[i]=Plimits(seqT[i])\n",
    "    print(\"nPlim:\",nPlim[i])"
   ]
  },
  {
   "cell_type": "code",
   "execution_count": 131,
   "metadata": {},
   "outputs": [
    {
     "data": {
      "image/png": "[encoded data removed]",
      "text/plain": [
       "<Figure size 432x288 with 1 Axes>"
      ]
     },
     "metadata": {},
     "output_type": "display_data"
    }
   ],
   "source": [
    "for i in range(nT):\n",
    "    if nPlim[i]>0:\n",
    "        plt.semilogx(seqVm,listP[i],label=str(seqT[i])+' K') #create a logarithm vs logarithm scale plot of pressure vs volume, using the function pressure in each value of the volume list\n",
    "        plt.ylabel(r'$P (\\mathrm{Pa})$') #create labels to be displayed in y axis of the plot\n",
    "        plt.xlabel(r'${V} (\\mathrm{m^{3}mol^{-1}})$') #use matplotlib's  mathtext to create special symbols in the x label\n",
    "        plt.title('Equação de estado de Soave \\n (metano)') #create a title for the figure\n",
    "        plt.ylim(0,Pc*3)#define max and min limits of the y axis only to the positive pressure range. remember that this plot is in logarithm scale and it does not accept negative values.\n",
    "        plt.xlim(b,(R*Tc/Pc)*100) #define max and min limits of the x axis\n",
    "        plt.scatter(seqVlilim[i],seqPinfilim[i])\n",
    "        plt.scatter(seqVvilim[i],seqPsupilim[i])\n",
    "plt.legend();"
   ]
  },
  {
   "cell_type": "markdown",
   "metadata": {},
   "source": [
    "## G residual\n",
    "\n",
    "$$A^{\\mathrm{RES}} = - R T \\ln{\\left (\\frac{V}{V^{IG}} \\right )} - R T \\ln{\\left (\\frac{1}{Z} \\left(- B + Z\\right) \\right )} + \\frac{a}{b \\sqrt{u^{2} - 4 w}} \\ln{\\left (\\frac{B \\left(u - \\sqrt{u^{2} - 4 w}\\right) + 2 Z}{B \\left(u + \\sqrt{u^{2} - 4 w}\\right) + 2 Z} \\right )}$$\n",
    "\n",
    "> Reid, Prausnitz & Poling, 1987, pp 102\n",
    "\n",
    "logo, como $G = A+PV$\n",
    "\n",
    "temos que $G^{IG} = A^{IG}+PV^{IG}$\n",
    "\n",
    "logo\n",
    "\n",
    "$$G^\\mathrm{RES} = A^\\mathrm{RES}+P(V-V^{IG})$$\n",
    "\n",
    "$$G^{\\mathrm{RES}} = R T (Z-1) - R T \\ln{\\left ( - B + Z \\right )} + \\frac{a}{b \\sqrt{u^{2} - 4 w}} \\ln{\\left (\\frac{B \\left(u - \\sqrt{u^{2} - 4 w}\\right) + 2 Z}{B \\left(u + \\sqrt{u^{2} - 4 w}\\right) + 2 Z} \\right )}$$\n",
    "\n"
   ]
  },
  {
   "cell_type": "code",
   "execution_count": 132,
   "metadata": {},
   "outputs": [],
   "source": [
    "def Gres_RT(T,P,Z):    \n",
    "    a=f_a(T)\n",
    "    A=a*P/(R**2*T**2)\n",
    "    B=b*P/(R*T)\n",
    "    T1=A/(B*(u**2-4*w)**.5)\n",
    "    T2=(-1)\n",
    "    T3=2*Z+B*(u+(u**2-4*w)**.5)\n",
    "    T4=2*Z+B*(u-(u**2-4*w)**.5)\n",
    "    Gres_RT_TPZ = (Z-1)-np.log(Z-B)+T1*T2*np.log(T3/T4)\n",
    "    return Gres_RT_TPZ"
   ]
  },
  {
   "cell_type": "markdown",
   "metadata": {},
   "source": [
    "## o critério de equilíbrio\n",
    "\n",
    "$$\\mu_i^L=\\mu_i^V$$\n",
    "\n",
    "no caso do puro, $G=\\mu_i$\n",
    "\n",
    "$$G^\\mathrm{L}=G^\\mathrm{V}$$\n",
    "\n",
    "usando uma mesma referência\n",
    "\n",
    "$$G^\\mathrm{L}-G^\\mathrm{IG}=G^\\mathrm{V}-G^\\mathrm{IG}$$\n",
    "\n",
    "$$ G^\\mathrm{RES,L}=G^\\mathrm{RES,V} $$\n",
    "\n",
    "ou com as variáveis adimensionadas dividinto pelo produto $(RT)$\n",
    "\n",
    "$$ \\frac{G^\\mathrm{RES,L}}{RT}=\\frac{G^\\mathrm{RES,V}}{RT} $$"
   ]
  },
  {
   "cell_type": "markdown",
   "metadata": {},
   "source": [
    "* verificar existẽncia de solução em uma temperatura teste"
   ]
  },
  {
   "cell_type": "code",
   "execution_count": 164,
   "metadata": {},
   "outputs": [],
   "source": [
    "T_test=seqT[1]\n",
    "nVlim,Vli,Vvi,Pinfi,Psupi=Plimits(T_test)\n",
    "\n",
    "nP=100\n",
    "Gres_RT_L=np.zeros(nP)\n",
    "Gres_RT_V=np.zeros(nP)\n",
    "\n",
    "seqP = np.linspace(Pinfi,Psupi,nP)\n",
    "Vmi_L=np.zeros(nP)\n",
    "Vmi_V=np.zeros(nP)\n",
    "Z_L=np.zeros(nP)\n",
    "Z_V=np.zeros(nP)\n",
    "nV=np.zeros(nP)\n",
    "for i in range(nP):\n",
    "    Vmi_L[i],Vmi_V[i],Z_L[i],Z_V[i],nV[i] = V_cubic(T_test,seqP[i])\n",
    "    Gres_RT_L[i] = Gres_RT(T_test,seqP[i],Z_L[i])\n",
    "    Gres_RT_V[i] = Gres_RT(T_test,seqP[i],Z_V[i])"
   ]
  },
  {
   "cell_type": "markdown",
   "metadata": {},
   "source": [
    "* plot"
   ]
  },
  {
   "cell_type": "code",
   "execution_count": 167,
   "metadata": {},
   "outputs": [
    {
     "data": {
      "image/png": "[encoded data removed]",
      "text/plain": [
       "<Figure size 432x288 with 1 Axes>"
      ]
     },
     "metadata": {},
     "output_type": "display_data"
    }
   ],
   "source": [
    "plt.plot(Gres_RT_L,seqP)\n",
    "plt.plot(Gres_RT_V,seqP)\n",
    "\n",
    "plt.xlabel(r'$G^\\mathrm{RES}/RT$') #create labels to be displayed in y axis of the plot\n",
    "plt.ylabel(r'$P (\\mathrm{Pa})$') #use matplotlib's  mathtext to create special symbols in the x label\n",
    "plt.title('Busca gráfica da solução do equilíbrio de fases em T = '+str(T_test)+'K') #create a title for the figure\n",
    "\n",
    "plt.show()"
   ]
  },
  {
   "cell_type": "markdown",
   "metadata": {},
   "source": [
    "## Pressão de saturação"
   ]
  },
  {
   "cell_type": "code",
   "execution_count": 135,
   "metadata": {},
   "outputs": [
    {
     "data": {
      "text/plain": [
       "2492049.142828395"
      ]
     },
     "execution_count": 135,
     "metadata": {},
     "output_type": "execute_result"
    }
   ],
   "source": [
    "def Psat(T):\n",
    "    \n",
    "    def RES(P):\n",
    "        vL,vV,zL,zV,nV=V_cubic(T,P)\n",
    "        Gres_RT_L=Gres_RT(T,P,zL)\n",
    "        Gres_RT_V=Gres_RT(T,P,zV)\n",
    "        return Gres_RT_L-Gres_RT_V\n",
    "\n",
    "    nlim,Vli,Vvi,Psupi,Pinfi=Plimits(T)\n",
    "    P0a=Pinfi\n",
    "    P0b=Psupi\n",
    "    \n",
    "    Psati=opt.bisect(RES,P0a,P0b)\n",
    "    \n",
    "    return Psati\n",
    "\n",
    "T_test=seqT[1]\n",
    "Psat_test = Psat(T_test)\n",
    "Psat_test"
   ]
  },
  {
   "cell_type": "code",
   "execution_count": 168,
   "metadata": {},
   "outputs": [
    {
     "data": {
      "image/png": "[encoded data removed]",
      "text/plain": [
       "<Figure size 432x288 with 1 Axes>"
      ]
     },
     "metadata": {},
     "output_type": "display_data"
    }
   ],
   "source": [
    "plt.plot(Gres_RT_L,seqP)\n",
    "plt.plot(Gres_RT_V,seqP)\n",
    "plt.axhline(Psat_test,color='k')\n",
    "\n",
    "plt.xlabel(r'$G^\\mathrm{RES}/RT$') #create labels to be displayed in y axis of the plot\n",
    "plt.ylabel(r'$P (\\mathrm{Pa})$') #use matplotlib's  mathtext to create special symbols in the x label\n",
    "plt.title('Busca gráfica da solução do equilíbrio de fases em T = '+str(T_test)+'K') #create a title for the figure\n",
    "\n",
    "plt.show()"
   ]
  },
  {
   "cell_type": "markdown",
   "metadata": {},
   "source": [
    "* cálculo em sequência"
   ]
  },
  {
   "cell_type": "code",
   "execution_count": 137,
   "metadata": {},
   "outputs": [],
   "source": [
    "nTP=100\n",
    "Tseq=np.linspace(30,Tc*.99,nTP)\n",
    "Pseq=np.zeros(nTP)\n",
    "for i in range(nTP):\n",
    "    Pseq[i]=Psat(Tseq[i])"
   ]
  },
  {
   "cell_type": "markdown",
   "metadata": {},
   "source": [
    "* plot"
   ]
  },
  {
   "cell_type": "code",
   "execution_count": 170,
   "metadata": {},
   "outputs": [
    {
     "data": {
      "image/png": "[encoded data removed]",
      "text/plain": [
       "<Figure size 432x288 with 1 Axes>"
      ]
     },
     "metadata": {},
     "output_type": "display_data"
    }
   ],
   "source": [
    "plt.plot(Tseq,Pseq)\n",
    "plt.scatter(Tc,Pc)\n",
    "plt.yscale('log')\n",
    "\n",
    "plt.xlabel(r'$T(\\mathrm{K})$') #create labels to be displayed in y axis of the plot\n",
    "plt.ylabel(r'$P (\\mathrm{Pa})$') #use matplotlib's  mathtext to create special symbols in the x label\n",
    "plt.title('Pressão de saturação \\n (metano)') #create a title for the figure\n",
    "\n",
    "plt.show()"
   ]
  },
  {
   "cell_type": "markdown",
   "metadata": {},
   "source": [
    "## envelope"
   ]
  },
  {
   "cell_type": "code",
   "execution_count": 148,
   "metadata": {},
   "outputs": [],
   "source": [
    "#envelope de fases no plano PxV\n",
    "nTP=1000\n",
    "Tseq=np.linspace(30,Tc*.999,nTP)\n",
    "Pseq=np.zeros(nTP)\n",
    "VL_seq=np.zeros(nTP)\n",
    "VV_seq=np.zeros(nTP)\n",
    "ZL_seq=np.zeros(nTP)\n",
    "ZV_seq=np.zeros(nTP)\n",
    "nV_seq=np.zeros(nTP)\n",
    "for i in range(nTP):\n",
    "    Pseq[i]=Psat(Tseq[i])\n",
    "    VL_seq[i],VV_seq[i],ZL_seq[i],ZV_seq[i],nV_seq=V_cubic(Tseq[i],Pseq[i])\n",
    "\n",
    "#amarração de VL VV em equilíbrio das isotermas\n",
    "Pseq2=np.zeros(nT)\n",
    "VL_seq2=np.zeros(nT)\n",
    "VV_seq2=np.zeros(nT)\n",
    "ZL_seq2=np.zeros(nT)\n",
    "ZV_seq2=np.zeros(nT)\n",
    "nV_seq2=np.zeros(nT)    \n",
    "for i in range(nT-2):\n",
    "    Pseq2[i]=Psat(seqT[i])\n",
    "    VL_seq2[i],VV_seq2[i],ZL_seq2[i],ZV_seq2[i],nV_seq2=V_cubic(seqT[i],Pseq2[i])"
   ]
  },
  {
   "cell_type": "code",
   "execution_count": 149,
   "metadata": {},
   "outputs": [
    {
     "data": {
      "text/plain": [
       "(0.00011275026723619101,\n",
       " 0.00011275026723619101,\n",
       " 0.32722620299824395,\n",
       " 0.32722620299824395,\n",
       " 1)"
      ]
     },
     "execution_count": 149,
     "metadata": {},
     "output_type": "execute_result"
    }
   ],
   "source": [
    "vc = V_cubic(Tc,Pc)\n",
    "vc"
   ]
  },
  {
   "cell_type": "code",
   "execution_count": 150,
   "metadata": {},
   "outputs": [
    {
     "data": {
      "image/png": "[encoded data removed]",
      "text/plain": [
       "<Figure size 432x288 with 1 Axes>"
      ]
     },
     "metadata": {},
     "output_type": "display_data"
    }
   ],
   "source": [
    "for i in range(nT):\n",
    "    plt.plot(seqVm,listP[i],label=str(seqT[i])+' K',ls=':') #create a logarithm vs logarithm scale plot of pressure vs volume, using the function pressure in each value of the volume list\n",
    "    plt.ylabel(r'$P (\\mathrm{Pa})$') #create labels to be displayed in y axis of the plot\n",
    "    plt.xlabel(r'${V} (\\mathrm{m^{3}mol^{-1}})$') #use matplotlib's  mathtext to create special symbols in the x label\n",
    "    plt.title('Equação de estado de Soave \\n (metano)') #create a title for the figure\n",
    "    plt.ylim(0,Pc*3)#define max and min limits of the y axis only to the positive pressure range. remember that this plot is in logarithm scale and it does not accept negative values.\n",
    "    plt.xlim(b,(R*Tc/Pc)*100) #define max and min limits of the x axis\n",
    "    plt.xscale('log')\n",
    "    \n",
    "    plt.plot(VL_seq,Pseq, color='y')\n",
    "    plt.plot(VV_seq,Pseq, color='y')\n",
    "    \n",
    "    for j in range(nT-2):\n",
    "        plt.plot([VL_seq2[j],VV_seq2[j]],[Pseq2[j],Pseq2[j]],color='y')\n",
    "        \n",
    "    plt.scatter(vc[0],Pc,color='y')\n",
    "      \n",
    "plt.legend()\n",
    "\n",
    "plt.savefig(\"envelope de fases P versus V.png\")\n",
    "\n",
    "plt.show()"
   ]
  },
  {
   "cell_type": "markdown",
   "metadata": {},
   "source": [
    "# Conclusão\n",
    "\n",
    "A solução do equilibrio liquido vapor por eos não é simples. há que se preocupar com solução trivial (GresL=GresV | vl=vv; eos retornando uma unica raiz real; dificuldade de convergencia dos metodo numericos...)\n",
    "\n"
   ]
  },
  {
   "cell_type": "markdown",
   "metadata": {},
   "source": [
    "# Referências\n",
    "\n",
    ">* Reid, R. C., Prausnitz, J. M. and Poling, B. E., 1987. The Properties of Gases and Liquids. 4th ed., McGraw-Hill. [ISBN: 0070517991, 9780070517998\n",
    "](https://books.google.com.br/books?id=AcRTAAAAMAAJ)\n",
    "\n",
    ">* Smith, J. M., van Ness, H. C. and Abbott, M. M., 2007. Introdução a termodinâmica da engenharia química. 7a ed., LTC. [ISBN: 8521615531, 9788521615538](https://books.google.com.br/books?id=TzeQPgAACAAJ)\n",
    "\n",
    "\n",
    ">* Topliss, R J., Dimitrelis D., and Prausnitz, J. M., 1988, “Computational Aspects of a Non-Cubic Equation of State for Phase-Equilibrium Calculations. Effect of Density-Dependent Mixing Rules.” Computers & Chemical Engineering 12 (5): 483–89. [doi:10.1016/0098-1354(88)85067-1](http://dx.doi.org/10.1016/0098-1354(88)85067-1)\n",
    "\n",
    ">* [numpy.roots ](https://docs.scipy.org/doc/numpy/reference/generated/numpy.roots.html)\n",
    ">* [scipy.optimize.bisect](https://docs.scipy.org/doc/scipy/reference/generated/scipy.optimize.bisect.html)"
   ]
  }
 ],
 "metadata": {
  "kernelspec": {
   "display_name": "Python [default]",
   "language": "python",
   "name": "python3"
  },
  "language_info": {
   "codemirror_mode": {
    "name": "ipython",
    "version": 3
   },
   "file_extension": ".py",
   "mimetype": "text/x-python",
   "name": "python",
   "nbconvert_exporter": "python",
   "pygments_lexer": "ipython3",
   "version": "3.6.3"
  }
 },
 "nbformat": 4,
 "nbformat_minor": 2
}
