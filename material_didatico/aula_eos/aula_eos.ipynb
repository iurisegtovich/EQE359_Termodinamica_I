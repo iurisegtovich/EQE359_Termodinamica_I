{
 "cells": [
  {
   "cell_type": "markdown",
   "metadata": {},
   "source": [
    "UFRJ/EQ, Agosto de 2018.\n",
    "\n",
    "# Cálculo de equilíbrio líquido-vapor de substância pura com equação de estado cúbica."
   ]
  },
  {
   "cell_type": "markdown",
   "metadata": {},
   "source": [
    "# Introdução\n",
    "\n",
    "sistema metano"
   ]
  },
  {
   "cell_type": "markdown",
   "metadata": {},
   "source": [
    "# Metodologia"
   ]
  },
  {
   "cell_type": "markdown",
   "metadata": {},
   "source": [
    "* programação P(T,V) usando SRK (Poling)\n",
    "  * grid P versus grid V para dados T\n",
    "  * desenhar isotermas\n",
    "* programação V(P,T) usando roots\n",
    "  * comparar calculos pontuais com as isotermas\n",
    "* programação topliss\n",
    "  * comparar resultados no gráfico\n",
    "* programação Gresidual (Poling)\n",
    "  * grid GL vs GV versus P para dado T\n",
    "  * desenhar GL e GV versus V P para dado T\n",
    "* programação Psat (bisect)\n",
    "* grid psat versus grid T\n",
    "* desenhar Psat versus T"
   ]
  },
  {
   "cell_type": "code",
   "execution_count": 34,
   "metadata": {},
   "outputs": [],
   "source": [
    "import numpy as np\n",
    "from matplotlib import pyplot as plt\n",
    "%matplotlib inline\n",
    "from scipy.optimize import bisect, fsolve\n",
    "from numpy import roots"
   ]
  },
  {
   "cell_type": "markdown",
   "metadata": {},
   "source": [
    "# Resultados e discussão"
   ]
  },
  {
   "cell_type": "code",
   "execution_count": 35,
   "metadata": {},
   "outputs": [],
   "source": [
    "Tc= 190.6 #K\n",
    "Pc= 45.99e5 #bar\n",
    "omega= 0.012"
   ]
  },
  {
   "cell_type": "markdown",
   "metadata": {},
   "source": [
    "## P eos"
   ]
  },
  {
   "cell_type": "code",
   "execution_count": 36,
   "metadata": {},
   "outputs": [],
   "source": [
    "R=8.314"
   ]
  },
  {
   "cell_type": "code",
   "execution_count": 37,
   "metadata": {},
   "outputs": [],
   "source": [
    "def P_soave(T,V):\n",
    "    return R*T/(V-b) - f_a(T)/(V**2 + u*b*V + w*b**2)"
   ]
  },
  {
   "cell_type": "code",
   "execution_count": 38,
   "metadata": {},
   "outputs": [],
   "source": [
    "# Soave\n",
    "u=1\n",
    "w=0\n",
    "\n",
    "b=(0.08664*R*Tc)/Pc\n",
    "ac=0.42748*R**2*Tc**2/Pc\n",
    "\n",
    "def f_a(T):\n",
    "    Tr=T/Tc\n",
    "    return ac*(1+fw*(1-Tr**(.5)))**2\n",
    "\n",
    "fw = 0.48 + 1.574*omega-0.176*omega**2"
   ]
  },
  {
   "cell_type": "markdown",
   "metadata": {},
   "source": [
    "* grid"
   ]
  },
  {
   "cell_type": "code",
   "execution_count": 39,
   "metadata": {},
   "outputs": [
    {
     "data": {
      "text/plain": [
       "[array([  2.98782613e+08,  -1.45530843e+08,  -1.54621446e+08,\n",
       "         -1.46225638e+08,  -1.34305104e+08,  -1.21841232e+08,\n",
       "         -1.09784772e+08,  -9.84842976e+07,  -8.80614246e+07,\n",
       "         -7.85394496e+07,  -6.98956415e+07,  -6.20851635e+07,\n",
       "         -5.50529884e+07,  -4.87402043e+07,  -4.30874906e+07,\n",
       "         -3.80370740e+07,  -3.35338263e+07,  -2.95258562e+07,\n",
       "         -2.59647947e+07,  -2.28058880e+07,  -2.00079705e+07,\n",
       "         -1.75333600e+07,  -1.53477053e+07,  -1.34198045e+07,\n",
       "         -1.17214071e+07,  -1.02270093e+07,  -8.91364811e+06,\n",
       "         -7.76069860e+06,  -6.74967842e+06,  -5.86406028e+06,\n",
       "         -5.08909474e+06,  -4.41164361e+06,  -3.82002468e+06,\n",
       "         -3.30386767e+06,  -2.85398146e+06,  -2.46223216e+06,\n",
       "         -2.12143169e+06,  -1.82523632e+06,  -1.56805464e+06,\n",
       "         -1.34496427e+06,  -1.15163682e+06,  -9.84270371e+05,\n",
       "         -8.39528955e+05,  -7.14488359e+05,  -6.06587762e+05,\n",
       "         -5.13586636e+05,  -4.33526420e+05,  -3.64696495e+05,\n",
       "         -3.05604028e+05,  -2.54947291e+05,  -2.11592084e+05,\n",
       "         -1.74550932e+05,  -1.42964751e+05,  -1.16086712e+05,\n",
       "         -9.32680521e+04,  -7.39456151e+04,  -5.76309179e+04,\n",
       "         -4.39005672e+04,  -3.23878660e+04,  -2.27754692e+04,\n",
       "         -1.47889620e+04,  -8.19124900e+03,  -2.77765611e+03,\n",
       "          1.62834331e+03,   5.17885434e+03,   8.00480709e+03,\n",
       "          1.02187837e+04,   1.19174784e+04,   1.31838376e+04,\n",
       "          1.40889192e+04,   1.46935091e+04,   1.50495234e+04,\n",
       "          1.52012264e+04,   1.51862860e+04,   1.50366893e+04,\n",
       "          1.47795351e+04,   1.44377205e+04,   1.40305347e+04,\n",
       "          1.35741728e+04,   1.30821796e+04,   1.25658327e+04,\n",
       "          1.20344738e+04,   1.14957932e+04,   1.09560765e+04,\n",
       "          1.04204155e+04,   9.89289069e+03,   9.37672767e+03,\n",
       "          8.87443123e+03,   8.38790076e+03,   7.91852881e+03,\n",
       "          7.46728552e+03,   7.03479066e+03,   6.62137514e+03,\n",
       "          6.22713330e+03,   5.85196741e+03,   5.49562530e+03,\n",
       "          5.15773231e+03,   4.83781809e+03,   4.53533928e+03,\n",
       "          4.24969840e+03]),\n",
       " array([  1.12564748e+09,  -2.37316438e+07,  -8.15053565e+07,\n",
       "         -9.22951255e+07,  -9.12678805e+07,  -8.61230061e+07,\n",
       "         -7.94672675e+07,  -7.23866963e+07,  -6.53853373e+07,\n",
       "         -5.87075145e+07,  -5.24692062e+07,  -4.67184835e+07,\n",
       "         -4.14659179e+07,  -3.67009582e+07,  -3.24012239e+07,\n",
       "         -2.85379924e+07,  -2.50795318e+07,  -2.19931629e+07,\n",
       "         -1.92465410e+07,  -1.68084486e+07,  -1.46492701e+07,\n",
       "         -1.27412590e+07,  -1.10586655e+07,  -9.57777242e+06,\n",
       "         -8.27686807e+06,  -7.13617909e+06,  -6.13777671e+06,\n",
       "         -5.26546738e+06,  -4.50467486e+06,  -3.84231911e+06,\n",
       "         -3.26669553e+06,  -2.76735724e+06,  -2.33500200e+06,\n",
       "         -1.96136512e+06,  -1.63911888e+06,  -1.36177892e+06,\n",
       "         -1.12361775e+06,  -9.19585213e+05,  -7.45235789e+05,\n",
       "         -5.96662460e+05,  -4.70436746e+05,  -3.63554563e+05,\n",
       "         -2.73387493e+05,  -1.97639053e+05,  -1.34305556e+05,\n",
       "         -8.16411829e+04,  -3.81268654e+04,  -2.44264255e+03,\n",
       "          2.65568601e+04,   4.98641355e+04,   6.83379749e+04,\n",
       "          8.27203890e+04,   9.36515133e+04,   1.01682718e+05,\n",
       "          1.07288122e+05,   1.10874699e+05,   1.12791120e+05,\n",
       "          1.13335504e+05,   1.12762185e+05,   1.11287618e+05,\n",
       "          1.09095540e+05,   1.06341453e+05,   1.03156535e+05,\n",
       "          9.96510364e+04,   9.59172314e+04,   9.20319760e+04,\n",
       "          8.80589278e+04,   8.40504659e+04,   8.00493522e+04,\n",
       "          7.60901666e+04,   7.22005448e+04,   6.84022457e+04,\n",
       "          6.47120697e+04,   6.11426485e+04,   5.77031227e+04,\n",
       "          5.43997227e+04,   5.12362655e+04,   4.82145798e+04,\n",
       "          4.53348674e+04,   4.25960110e+04,   3.99958360e+04,\n",
       "          3.75313309e+04,   3.51988346e+04,   3.29941929e+04,\n",
       "          3.09128901e+04,   2.89501590e+04,   2.71010718e+04,\n",
       "          2.53606152e+04,   2.37237521e+04,   2.21854718e+04,\n",
       "          2.07408301e+04,   1.93849815e+04,   1.81132038e+04,\n",
       "          1.69209178e+04,   1.58037006e+04,   1.47572966e+04,\n",
       "          1.37776235e+04,   1.28607760e+04,   1.20030279e+04,\n",
       "          1.12008307e+04]),\n",
       " array([  4.64165424e+09,   4.43826660e+08,   1.81300421e+08,\n",
       "          9.30019480e+07,   5.19214496e+07,   2.99584483e+07,\n",
       "          1.73708333e+07,   9.91492927e+06,   5.46492396e+06,\n",
       "          2.85166794e+06,   1.38871625e+06,   6.53765595e+05,\n",
       "          3.78221440e+05,   3.87289930e+05,   5.65581000e+05,\n",
       "          8.36426405e+05,   1.14896313e+06,   1.46980927e+06,\n",
       "          1.77755841e+06,   2.05905966e+06,   2.30686050e+06,\n",
       "          2.51742489e+06,   2.68987899e+06,   2.82512228e+06,\n",
       "          2.92519544e+06,   2.99283086e+06,   3.03113438e+06,\n",
       "          3.04336198e+06,   3.03276548e+06,   3.00248852e+06,\n",
       "          2.95549926e+06,   2.89454965e+06,   2.82215390e+06,\n",
       "          2.74058071e+06,   2.65185503e+06,   2.55776637e+06,\n",
       "          2.45988150e+06,   2.35955968e+06,   2.25796932e+06,\n",
       "          2.15610520e+06,   2.05480555e+06,   1.95476861e+06,\n",
       "          1.85656837e+06,   1.76066924e+06,   1.66743970e+06,\n",
       "          1.57716474e+06,   1.49005715e+06,   1.40626770e+06,\n",
       "          1.32589429e+06,   1.24899001e+06,   1.17557032e+06,\n",
       "          1.10561940e+06,   1.03909563e+06,   9.75936411e+05,\n",
       "          9.16062395e+05,   8.59381030e+05,   8.05789692e+05,\n",
       "          7.55178318e+05,   7.07431657e+05,   6.62431168e+05,\n",
       "          6.20056607e+05,   5.80187353e+05,   5.42703497e+05,\n",
       "          5.07486733e+05,   4.74421076e+05,   4.43393424e+05,\n",
       "          4.14294004e+05,   3.87016703e+05,   3.61459306e+05,\n",
       "          3.37523660e+05,   3.15115771e+05,   2.94145852e+05,\n",
       "          2.74528318e+05,   2.56181752e+05,   2.39028839e+05,\n",
       "          2.22996275e+05,   2.08014660e+05,   1.94018377e+05,\n",
       "          1.80945459e+05,   1.68737449e+05,   1.57339259e+05,\n",
       "          1.46699016e+05,   1.36767924e+05,   1.27500108e+05,\n",
       "          1.18852475e+05,   1.10784569e+05,   1.03258431e+05,\n",
       "          9.62384666e+04,   8.96913150e+04,   8.35857214e+04,\n",
       "          7.78924184e+04,   7.25840098e+04,   6.76348601e+04,\n",
       "          6.30209900e+04,   5.87199757e+04,   5.47108546e+04,\n",
       "          5.09740350e+04,   4.74912112e+04,   4.42452827e+04,\n",
       "          4.12202786e+04]),\n",
       " array([  4.91047294e+09,   4.78316809e+08,   2.00192466e+08,\n",
       "          1.06069694e+08,   6.18750063e+07,   3.79396773e+07,\n",
       "          2.39737213e+07,   1.54914987e+07,   1.02433136e+07,\n",
       "          6.98968386e+06,   5.00103230e+06,   3.82696357e+06,\n",
       "          3.17967810e+06,   2.87071806e+06,   2.77464209e+06,\n",
       "          2.80717709e+06,   2.91156699e+06,   3.04976939e+06,\n",
       "          3.19662757e+06,   3.33592777e+06,   3.45768414e+06,\n",
       "          3.55624270e+06,   3.62894257e+06,   3.67516362e+06,\n",
       "          3.69564562e+06,   3.69200101e+06,   3.66636674e+06,\n",
       "          3.62115706e+06,   3.55888995e+06,   3.48206725e+06,\n",
       "          3.39309430e+06,   3.29422834e+06,   3.18754781e+06,\n",
       "          3.07493681e+06,   2.95808028e+06,   2.83846673e+06,\n",
       "          2.71739598e+06,   2.59599028e+06,   2.47520733e+06,\n",
       "          2.35585434e+06,   2.23860238e+06,   2.12400052e+06,\n",
       "          2.01248949e+06,   1.90441455e+06,   1.80003747e+06,\n",
       "          1.69954760e+06,   1.60307190e+06,   1.51068405e+06,\n",
       "          1.42241259e+06,   1.33824815e+06,   1.25814993e+06,\n",
       "          1.18205127e+06,   1.10986467e+06,   1.04148601e+06,\n",
       "          9.76798352e+05,   9.15675056e+05,   8.57982571e+05,\n",
       "          8.03582737e+05,   7.52334746e+05,   7.04096793e+05,\n",
       "          6.58727430e+05,   6.16086692e+05,   5.76037010e+05,\n",
       "          5.38443931e+05,   5.03176700e+05,   4.70108690e+05,\n",
       "          4.39117734e+05,   4.10086346e+05,   3.82901875e+05,\n",
       "          3.57456579e+05,   3.33647647e+05,   3.11377179e+05,\n",
       "          2.90552124e+05,   2.71084182e+05,   2.52889696e+05,\n",
       "          2.35889511e+05,   2.20008826e+05,   2.05177039e+05,\n",
       "          1.91327574e+05,   1.78397716e+05,   1.66328437e+05,\n",
       "          1.55064222e+05,   1.44552900e+05,   1.34745475e+05,\n",
       "          1.25595960e+05,   1.17061219e+05,   1.09100809e+05,\n",
       "          1.01676833e+05,   9.47537917e+04,   8.82984496e+04,\n",
       "          8.22797001e+04,   7.66684401e+04,   7.14374496e+04,\n",
       "          6.65612776e+04,   6.20161339e+04,   5.77797865e+04,\n",
       "          5.38314643e+04,   5.01517657e+04,   4.67225717e+04,\n",
       "          4.35269647e+04]),\n",
       " array([  5.17916129e+09,   5.12689905e+08,   2.18979520e+08,\n",
       "          1.19043387e+08,   7.17444130e+07,   4.58457101e+07,\n",
       "          3.05094964e+07,   2.10082416e+07,   1.49684354e+07,\n",
       "          1.10803267e+07,   8.57126567e+06,   6.96282010e+06,\n",
       "          5.94803630e+06,   5.32483954e+06,   4.95778051e+06,\n",
       "          4.75502107e+06,   4.65394862e+06,   4.61189366e+06,\n",
       "          4.59997967e+06,   4.59895774e+06,   4.59633396e+06,\n",
       "          4.58435926e+06,   4.55860644e+06,   4.51695440e+06,\n",
       "          4.45885888e+06,   4.38482750e+06,   4.29604188e+06,\n",
       "          4.19408674e+06,   4.08075709e+06,   3.95792270e+06,\n",
       "          3.82743477e+06,   3.69106352e+06,   3.55045845e+06,\n",
       "          3.40712516e+06,   3.26241398e+06,   3.11751716e+06,\n",
       "          2.97347180e+06,   2.83116686e+06,   2.69135261e+06,\n",
       "          2.55465158e+06,   2.42157021e+06,   2.29251064e+06,\n",
       "          2.16778234e+06,   2.04761310e+06,   1.93215953e+06,\n",
       "          1.82151664e+06,   1.71572675e+06,   1.61478744e+06,\n",
       "          1.51865879e+06,   1.42726977e+06,   1.34052395e+06,\n",
       "          1.25830448e+06,   1.18047846e+06,   1.10690073e+06,\n",
       "          1.03741713e+06,   9.71867295e+05,   9.10087042e+05,\n",
       "          8.51910373e+05,   7.97171157e+05,   7.45704518e+05,\n",
       "          6.97347979e+05,   6.51942384e+05,   6.09332629e+05,\n",
       "          5.69368233e+05,   5.31903767e+05,   4.96799169e+05,\n",
       "          4.63919948e+05,   4.33137316e+05,   4.04328237e+05,\n",
       "          3.77375432e+05,   3.52167315e+05,   3.28597913e+05,\n",
       "          3.06566736e+05,   2.85978635e+05,   2.66743631e+05,\n",
       "          2.48776740e+05,   2.31997781e+05,   2.16331179e+05,\n",
       "          2.01705765e+05,   1.88054578e+05,   1.75314661e+05,\n",
       "          1.63426865e+05,   1.52335653e+05,   1.41988913e+05,\n",
       "          1.32337772e+05,   1.23336418e+05,   1.14941929e+05,\n",
       "          1.07114106e+05,   9.98153205e+04,   9.30103555e+04,\n",
       "          8.66662685e+04,   8.07522516e+04,   7.52395022e+04,\n",
       "          7.01010994e+04,   6.53118881e+04,   6.08483680e+04,\n",
       "          5.66885896e+04,   5.28120565e+04,   4.91996320e+04,\n",
       "          4.58334524e+04]),\n",
       " array([  1.05351408e+10,   1.18417707e+09,   5.80392069e+08,\n",
       "          3.65681428e+08,   2.57648292e+08,   1.93704061e+08,\n",
       "          1.52065834e+08,   1.23178348e+08,   1.02201197e+08,\n",
       "          8.64279932e+07,   7.42327501e+07,   6.45838202e+07,\n",
       "          5.67981267e+07,   5.04076791e+07,   4.50827836e+07,\n",
       "          4.05857365e+07,   3.67417776e+07,   3.34202540e+07,\n",
       "          3.05220536e+07,   2.79710140e+07,   2.57079226e+07,\n",
       "          2.36862504e+07,   2.18690679e+07,   2.02267849e+07,\n",
       "          1.87354738e+07,   1.73756120e+07,   1.61311290e+07,\n",
       "          1.49886801e+07,   1.39370868e+07,   1.29669036e+07,\n",
       "          1.20700811e+07,   1.12397014e+07,   1.04697701e+07,\n",
       "          9.75505229e+06,   9.09094126e+06,   8.47335447e+06,\n",
       "          7.89864979e+06,   7.36355812e+06,   6.86512883e+06,\n",
       "          6.40068538e+06,   5.96778892e+06,   5.56420848e+06,\n",
       "          5.18789611e+06,   4.83696629e+06,   4.50967852e+06,\n",
       "          4.20442265e+06,   3.91970634e+06,   3.65414428e+06,\n",
       "          3.40644882e+06,   3.17542184e+06,   2.95994750e+06,\n",
       "          2.75898588e+06,   2.57156728e+06,   2.39678704e+06,\n",
       "          2.23380091e+06,   2.08182082e+06,   1.94011100e+06,\n",
       "          1.80798442e+06,   1.68479952e+06,   1.56995720e+06,\n",
       "          1.46289795e+06,   1.36309932e+06,   1.27007343e+06,\n",
       "          1.18336473e+06,   1.10254790e+06,   1.02722587e+06,\n",
       "          9.57027963e+05,   8.91608184e+05,   8.30643609e+05,\n",
       "          7.73832874e+05,   7.20894763e+05,   6.71566883e+05,\n",
       "          6.25604431e+05,   5.82779035e+05,   5.42877670e+05,\n",
       "          5.05701642e+05,   4.71065643e+05,   4.38796862e+05,\n",
       "          4.08734151e+05,   3.80727254e+05,   3.54636079e+05,\n",
       "          3.30330015e+05,   3.07687304e+05,   2.86594444e+05,\n",
       "          2.66945638e+05,   2.48642271e+05,   2.31592434e+05,\n",
       "          2.15710467e+05,   2.00916538e+05,   1.87136252e+05,\n",
       "          1.74300282e+05,   1.62344027e+05,   1.51207290e+05,\n",
       "          1.40833981e+05,   1.31171838e+05,   1.22172169e+05,\n",
       "          1.13789606e+05,   1.05981881e+05,   9.87096159e+04,\n",
       "          9.19361236e+04])]"
      ]
     },
     "execution_count": 39,
     "metadata": {},
     "output_type": "execute_result"
    }
   ],
   "source": [
    "rangeT=np.array([.1,.25,.9,.95,1,2])*Tc\n",
    "nT=len(rangeT)\n",
    "\n",
    "nV=100\n",
    "Vm= np.logspace(np.log10(b*1.01),2+np.log10(R*Tc/Pc),nV)\n",
    "P=[]\n",
    "for T in rangeT:\n",
    "    Pi=np.zeros(nV)\n",
    "    for i in range(nV):\n",
    "        Pi[i]=P_soave(T,Vm[i])\n",
    "    P.append( Pi )\n",
    "P"
   ]
  },
  {
   "cell_type": "markdown",
   "metadata": {},
   "source": [
    "* plot"
   ]
  },
  {
   "cell_type": "code",
   "execution_count": 40,
   "metadata": {},
   "outputs": [
    {
     "data": {
      "image/png": "[encoded data removed]",
      "text/plain": [
       "<Figure size 432x288 with 1 Axes>"
      ]
     },
     "metadata": {},
     "output_type": "display_data"
    }
   ],
   "source": [
    "for i in range(nT):\n",
    "    plt.semilogx(Vm,P[i],label=str(rangeT[i])+' K') #create a logarithm vs logarithm scale plot of pressure vs volume, using the function pressure in each value of the volume list\n",
    "    plt.ylabel(r'$P (\\mathrm{Pa})$') #create labels to be displayed in y axis of the plot\n",
    "    plt.xlabel(r'$\\bar{V} (\\mathrm{m^{3}mol^{-1}})$') #use matplotlib's  mathtext to create special symbols in the x label\n",
    "    plt.title('Equação de estado de Soave \\n (metano)') #create a title for the figure\n",
    "    plt.ylim(-Pc,Pc*3)#define max and min limits of the y axis only to the positive pressure range. remember that this plot is in logarithm scale and it does not accept negative values.\n",
    "    plt.xlim(b,(R*Tc/Pc)*100) #define max and min limits of the x axis\n",
    "plt.legend();"
   ]
  },
  {
   "cell_type": "markdown",
   "metadata": {},
   "source": [
    "## V eos\n",
    "$$Z^3-Z^2(1+B-uB)+Z(A+wB^2-uB-uB^2)-AB-wB^2-wB^3$$"
   ]
  },
  {
   "cell_type": "code",
   "execution_count": 41,
   "metadata": {},
   "outputs": [],
   "source": [
    "def V_cubic(T,P):\n",
    "    a=f_a(T)\n",
    "    A=a*P/(R**2*T**2)\n",
    "    B=b*P/(R*T)\n",
    "    c3=1\n",
    "    c2=-(1+B-u*B)\n",
    "    c1=(A+w*B**2-u*B-u*B**2)\n",
    "    c0=-A*B-w*B**2-w*B**3\n",
    "    coeffs=[c3,c2,c1,c0]\n",
    "#     print('coeffs:',coeffs)\n",
    "    Z=roots(coeffs)\n",
    "    nZ=len(Z)\n",
    "\n",
    "    V=[ Zi*R*T/P for Zi in Z]\n",
    "\n",
    "    goodV=[]    \n",
    "    \n",
    "    for i in range(nZ):\n",
    "        if (abs(V[i].imag) < 1e-14) and (V[i] > b):\n",
    "            goodV.append(V[i].real)\n",
    "    \n",
    "    vL=min(goodV)\n",
    "    vV=max(goodV)\n",
    "    zL=P*vL/(R*T)\n",
    "    zV=P*vV/(R*T)\n",
    "    return vL, vV, zL,zV"
   ]
  },
  {
   "cell_type": "code",
   "execution_count": 42,
   "metadata": {},
   "outputs": [
    {
     "name": "stdout",
     "output_type": "stream",
     "text": [
      "(0.0021878294226813496, 0.0021878294226813496, 0.97615514122665858, 0.97615514122665858)\n",
      "(0.0001793647183114763, 0.0001793647183114763, 0.80028081768749459, 0.80028081768749459)\n",
      "(4.4087869060909547e-05, 4.4087869060909547e-05, 1.967091200226661, 1.967091200226661)\n",
      "(4.2973664625726785e-05, 0.010994695314128862, 0.0038347563321771022, 0.9811119866880682)\n",
      "(3.3421231252545952e-05, 0.0049737773056450461, 0.0059646892714906941, 0.88767035270446326)\n",
      "(3.1252964235590954e-05, 3.1252964235590954e-05, 0.011155437037593346, 0.011155437037593346)\n",
      "(3.1246245748855888e-05, 3.1246245748855888e-05, 0.11153038940081829, 0.11153038940081829)\n",
      "(3.1182654223466688e-05, 3.1182654223466688e-05, 1.113034057290436, 1.113034057290436)\n",
      "(0.22407352023439525, 0.22407352023439525, 0.99976038589649241, 0.99976038589649241)\n",
      "(2.241218536722366, 2.241218536722366, 0.99997603768978527, 0.99997603768978527)\n",
      "(2.241218536722366, 2.241218536722366, 0.99997603768978527, 0.99997603768978527)\n",
      "(22.412668721569116, 22.412668721569116, 0.99999760375999425, 0.99999760375999425)\n",
      "(224.12717057203014, 224.12717057203014, 0.99999976037590976, 0.99999976037590976)\n"
     ]
    }
   ],
   "source": [
    "T0=273.15\n",
    "P0=1.01325e5\n",
    "print( V_cubic(T0,P0*10) )\n",
    "print( V_cubic(T0,P0*100) )\n",
    "print( V_cubic(T0,P0*1000) )\n",
    "print( V_cubic(T0/2,P0) )\n",
    "print( V_cubic(T0/4,P0) )\n",
    "print( V_cubic(T0/8,P0) )\n",
    "print( V_cubic(T0/8,P0*10) )\n",
    "print( V_cubic(T0/8,P0*100) )\n",
    "\n",
    "print( V_cubic(T0,P0/10) )\n",
    "print( V_cubic(T0,P0/100) )\n",
    "print( V_cubic(T0,P0/100) )\n",
    "print( V_cubic(T0,P0/1000) )\n",
    "print( V_cubic(T0,P0/10000) )"
   ]
  },
  {
   "cell_type": "markdown",
   "metadata": {},
   "source": [
    "* grid"
   ]
  },
  {
   "cell_type": "code",
   "execution_count": 43,
   "metadata": {},
   "outputs": [],
   "source": [
    "rangeT=np.array([.1,.25,.90,.95,1,2])*Tc\n",
    "nT=len(rangeT)\n",
    "\n",
    "Vm_L=[]\n",
    "Vm_V=[]\n",
    "nP=100\n",
    "gridP = np.logspace(-5,np.log10(Pc*3),nP)\n",
    "# print(P)\n",
    "for T in rangeT:\n",
    "    Vmi_L=np.zeros(nP)\n",
    "    Vmi_V=np.zeros(nP)\n",
    "    for i in range(nP):\n",
    "        Vmi_L[i],Vmi_V[i],*_ = V_cubic(T,gridP[i])\n",
    "    Vm_L.append( Vmi_L )\n",
    "    Vm_V.append( Vmi_V )"
   ]
  },
  {
   "cell_type": "markdown",
   "metadata": {},
   "source": [
    "* plot"
   ]
  },
  {
   "cell_type": "code",
   "execution_count": 44,
   "metadata": {},
   "outputs": [
    {
     "data": {
      "image/png": "[encoded data removed]",
      "text/plain": [
       "<Figure size 432x288 with 1 Axes>"
      ]
     },
     "metadata": {},
     "output_type": "display_data"
    }
   ],
   "source": [
    "for i in range(nT):\n",
    "    plt.semilogx(Vm,P[i],label=str(rangeT[i])+' K') #create a logarithm vs logarithm scale plot of pressure vs volume, using the function pressure in each value of the volume list\n",
    "    plt.scatter(Vm_L[i],gridP)\n",
    "    plt.scatter(Vm_V[i],gridP)\n",
    "    plt.ylabel(r'$P (\\mathrm{Pa})$') #create labels to be displayed in y axis of the plot\n",
    "    plt.xlabel(r'$\\bar{V} (\\mathrm{m^{3}mol^{-1}})$') #use matplotlib's  mathtext to create special symbols in the x label\n",
    "    plt.title('Equação de estado de Soave \\n (metano)') #create a title for the figure\n",
    "    plt.ylim(0,Pc*3)#define max and min limits of the y axis only to the positive pressure range. remember that this plot is in logarithm scale and it does not accept negative values.\n",
    "    plt.xlim(b,(R*Tc/Pc)*100) #define max and min limits of the x axis\n",
    "plt.legend();"
   ]
  },
  {
   "cell_type": "markdown",
   "metadata": {},
   "source": [
    "# Topliss\n",
    "> Topliss, Robert J., Dimitrios Dimitrelis, and John M. Prausnitz. 1988. “Computational Aspects of a Non-Cubic Equation of State for Phase-Equilibrium Calculations. Effect of Density-Dependent Mixing Rules.” Computers & Chemical Engineering 12 (5): 483–89. doi:10.1016/0098-1354(88)85067-1.\n",
    "\n",
    "Sabendo que a pressão de saturação está na faixa de pressão para a qual há três raízes de volume, a região de busca pode ser definida pelo cálculo do mínimo e máximo locais da isoterma:\n",
    "\n",
    "dado $T$, buscar $V^*$ tal que $\\left(\\frac{\\partial P}{\\partial V}\\right)_T=0$\n",
    "\n",
    "Filtram-se apenas os $V^*$ entre b e $\\infty$\n",
    "\n"
   ]
  },
  {
   "cell_type": "code",
   "execution_count": 45,
   "metadata": {},
   "outputs": [
    {
     "name": "stdout",
     "output_type": "stream",
     "text": [
      "-R*T/(V - b)**2 + a*(2*V + b*u)/(V**2 + V*b*u + b**2*w)**2\n",
      "-R*T*(V**2 + V*b*u + b**2*w)**2 + a*(V - b)**2*(2*V + b*u)\n",
      "-R*T*V**4 - 2*R*T*V**3*b*u - R*T*V**2*b**2*u**2 - 2*R*T*V**2*b**2*w - 2*R*T*V*b**3*u*w - R*T*b**4*w**2 + 2*V**3*a + V**2*a*b*u - 4*V**2*a*b - 2*V*a*b**2*u + 2*V*a*b**2 + a*b**3*u\n",
      "-R*T*V**4 - R*T*b**4*w**2 + V**3*(-2*R*T*b*u + 2*a) + V**2*(-R*T*b**2*u**2 - 2*R*T*b**2*w + a*b*u - 4*a*b) + V*(-2*R*T*b**3*u*w - 2*a*b**2*u + 2*a*b**2) + a*b**3*u\n",
      "c 4 = -R*T\n",
      "c 3 = -2*R*T*b*u + 2*a\n",
      "c 2 = -R*T*b**2*u**2 - 2*R*T*b**2*w + a*b*u - 4*a*b\n",
      "c 1 = -2*R*T*b**3*u*w - 2*a*b**2*u + 2*a*b**2\n",
      "c 0 = -R*T*b**4*w**2 + a*b**3*u\n"
     ]
    }
   ],
   "source": [
    "def symbolic_solve():\n",
    "    import sympy as sym\n",
    "    V,a,b,R,T,u,w = sym.symbols('V,a,b,R,T,u,w')\n",
    "    P=-R*T/(V-b)**2+a/(V**2+u*b*V+w*b**2)**2*(2*V+u*b)\n",
    "    print(P)\n",
    "    \n",
    "    Zero=-R*T*(V**2+u*b*V+w*b**2)**2+a*(V-b)**2*(2*V+u*b)\n",
    "    print(Zero)\n",
    "    \n",
    "    expr=sym.expand(Zero)\n",
    "    print(expr)\n",
    "    \n",
    "    col=sym.collect(expr,V)\n",
    "    print(col)\n",
    "    \n",
    "    for i in range(4,-1,-1):\n",
    "        print(\"c\",i,\"=\", col.coeff(V,i))\n",
    "        \n",
    "symbolic_solve()"
   ]
  },
  {
   "cell_type": "code",
   "execution_count": 46,
   "metadata": {},
   "outputs": [
    {
     "name": "stdout",
     "output_type": "stream",
     "text": [
      "Vli: (8.6222302904e-05-5.97156464401e-05j)\n",
      "Vvi: (8.6222302904e-05+5.97156464401e-05j)\n",
      "Psupi: (7843402.17463-2247076.45195j)\n",
      "Pinfi: (7859104.68148+2251575.1035j)\n"
     ]
    }
   ],
   "source": [
    "#calculate each coeffcient of the polynomial-in-V representation of dP/dV=0\n",
    "def Plimits(T):\n",
    "    a=f_a(T)\n",
    "    c4 = -R*T\n",
    "    c3 = -2*R*T*b*u + 2*a\n",
    "    c2 = -R*T*b**2*u**2 - 2*R*T*b**2*w + a*b*u - 4*a*b\n",
    "    c1 = -2*R*T*b**3*u*w - 2*a*b**2*u + 2*a*b**2\n",
    "    c0 = -R*T*b**4*w**2 + a*b**3*u\n",
    "    \n",
    "    #and use the method \"roots\" from package \"numpy\" to calculate the roots of this polynomial and assing the solutions to the variable plateaus as an array\n",
    "    plateaus = np.roots([c4,c3,c2,c1,c0])\n",
    "#    print(\"plateaus:\", plateaus)\n",
    "\n",
    "    #filter out values of plateu corresponding to non-physical volume (less than b or complex)\n",
    "    plateaus = plateaus[ np.where( plateaus > b ) ] #using the numpy function 'where\n",
    "\n",
    "#    print(\"plateaus:\", plateaus)\n",
    "    Vli = min(plateaus)\n",
    "    Vvi = max(plateaus)\n",
    "\n",
    "    #find the corresponding values of pressure for each filtered volume\n",
    "    Psup = P_soave(T,Vvi)\n",
    "    Psupi=Psup*.999\n",
    "\n",
    "    Pinf = P_soave(T,Vli)\n",
    "\n",
    "    #note that the algorithm cannot work with pressure less than or equal to zero, therefore fix minimium pressure to slightly above zero if it was negative\n",
    "\n",
    "    if Pinf > 0:\n",
    "        Pinfi = Pinf*1.001\n",
    "    else:\n",
    "        Pinfi = 0.000000001\n",
    "        \n",
    "    return [Vli,Vvi,Psupi,Pinfi]\n",
    "\n",
    "[Vli,Vvi,Psupi,Pinfi]=Plimits(220)\n",
    "\n",
    "print(\"Vli:\",Vli)\n",
    "print(\"Vvi:\",Vvi)\n",
    "print(\"Psupi:\",Psupi)\n",
    "print(\"Pinfi:\",Pinfi)"
   ]
  },
  {
   "cell_type": "code",
   "execution_count": 47,
   "metadata": {},
   "outputs": [
    {
     "data": {
      "image/png": "[encoded data removed]",
      "text/plain": [
       "<Figure size 432x288 with 1 Axes>"
      ]
     },
     "metadata": {},
     "output_type": "display_data"
    }
   ],
   "source": [
    "Vli,Vvi,Psupi,Pinfi=Plimits(rangeT[2])\n",
    "\n",
    "\n",
    "for i in (2,):\n",
    "    plt.semilogx(Vm,P[i],label=str(rangeT[i])+' K') #create a logarithm vs logarithm scale plot of pressure vs volume, using the function pressure in each value of the volume list\n",
    "#     plt.scatter(Vm_L[i],gridP)\n",
    "#     plt.scatter(Vm_V[i],gridP)\n",
    "    plt.ylabel(r'$P (\\mathrm{Pa})$') #create labels to be displayed in y axis of the plot\n",
    "    plt.xlabel(r'$\\bar{V} (\\mathrm{m^{3}mol^{-1}})$') #use matplotlib's  mathtext to create special symbols in the x label\n",
    "    plt.title('Equação de estado de Soave \\n (metano)') #create a title for the figure\n",
    "    plt.ylim(0,Pc*3)#define max and min limits of the y axis only to the positive pressure range. remember that this plot is in logarithm scale and it does not accept negative values.\n",
    "    plt.xlim(b,(R*Tc/Pc)*100) #define max and min limits of the x axis\n",
    "    plt.scatter(Vli,Pinfi)\n",
    "    plt.scatter(Vvi,Psupi)\n",
    "plt.legend();"
   ]
  },
  {
   "cell_type": "markdown",
   "metadata": {},
   "source": [
    "## G residual/desvio\n",
    "$$ A ...$$\n",
    "$$ S ...$$\n",
    "$$ \\phi ...$$"
   ]
  },
  {
   "cell_type": "code",
   "execution_count": 48,
   "metadata": {},
   "outputs": [],
   "source": [
    "def lnphi_pure(T,P,Z):\n",
    "    a=f_a(T)\n",
    "    A=a*P/(R**2*T**2)\n",
    "    B=b*P/(R*T)\n",
    "    T1=A/(B*(u**2-4*w)**.5)\n",
    "    T2=(-1)\n",
    "    T3=2*Z+B*(u+(u**2-4*w)**.5)\n",
    "    T4=2*Z+B*(u-(u**2-4*w)**.5)\n",
    "    lnphi=(Z-1)-np.log(Z-B)+T1*T2*np.log(T3/T4)\n",
    "    return lnphi"
   ]
  },
  {
   "cell_type": "markdown",
   "metadata": {},
   "source": [
    "* grid"
   ]
  },
  {
   "cell_type": "code",
   "execution_count": 49,
   "metadata": {},
   "outputs": [],
   "source": [
    "T=rangeT[2]\n",
    "Vli,Vvi,Psupi,Pinfi=Plimits(T)\n",
    "\n",
    "nP=1000\n",
    "lnphiL=np.zeros(nP)\n",
    "lnphiV=np.zeros(nP)\n",
    "\n",
    "gridP = np.linspace(Pinfi,Psupi,nP)\n",
    "Vmi_L=np.zeros(nP)\n",
    "Vmi_V=np.zeros(nP)\n",
    "for i in range(1000):\n",
    "    Vmi_L[i],Vmi_V[i],*_ = V_cubic(T,gridP[i])\n",
    "    lnphiL[i] = lnphi_pure(T,gridP[i],gridP[i]*Vmi_L[i]/(R*T))\n",
    "    lnphiV[i] = lnphi_pure(T,gridP[i],gridP[i]*Vmi_V[i]/(R*T))"
   ]
  },
  {
   "cell_type": "markdown",
   "metadata": {},
   "source": [
    "* plot"
   ]
  },
  {
   "cell_type": "code",
   "execution_count": 50,
   "metadata": {},
   "outputs": [
    {
     "data": {
      "text/plain": [
       "[<matplotlib.lines.Line2D at 0x7f7aeecd81d0>]"
      ]
     },
     "execution_count": 50,
     "metadata": {},
     "output_type": "execute_result"
    },
    {
     "data": {
      "image/png": "[encoded data removed]",
      "text/plain": [
       "<Figure size 432x288 with 1 Axes>"
      ]
     },
     "metadata": {},
     "output_type": "display_data"
    }
   ],
   "source": [
    "plt.plot(lnphiL,gridP)\n",
    "plt.plot(lnphiV,gridP)"
   ]
  },
  {
   "cell_type": "markdown",
   "metadata": {},
   "source": [
    "## Pressão de saturação"
   ]
  },
  {
   "cell_type": "code",
   "execution_count": 51,
   "metadata": {},
   "outputs": [
    {
     "data": {
      "text/plain": [
       "2492049.1428283956"
      ]
     },
     "execution_count": 51,
     "metadata": {},
     "output_type": "execute_result"
    }
   ],
   "source": [
    "def Psat(T,P0a,P0b): #precisa guess tipo topliss\n",
    "    def RES(P):\n",
    "        vL,vV,zL,zV=V_cubic(T,P)\n",
    "        lnphiL=lnphi_pure(T,P,zL)\n",
    "        lnphiV=lnphi_pure(T,P,zV)\n",
    "        return lnphiL-lnphiV\n",
    "    Psati=bisect(RES,P0a,P0b)\n",
    "    return Psati\n",
    "\n",
    "def RES(P):\n",
    "    vL,vV,zL,zV=V_cubic(T,P)\n",
    "    lnphiL=lnphi_pure(T,P,zL)\n",
    "    lnphiV=lnphi_pure(T,P,zV)\n",
    "    return lnphiL-lnphiV\n",
    "\n",
    "Vli,Vvi,Psupi,Pinfi=Plimits(rangeT[2])\n",
    "Psat2=Psat(rangeT[2],Pinfi,Psupi)\n",
    "Psat2"
   ]
  },
  {
   "cell_type": "code",
   "execution_count": 52,
   "metadata": {},
   "outputs": [
    {
     "data": {
      "text/plain": [
       "<matplotlib.lines.Line2D at 0x7f7aeebd0860>"
      ]
     },
     "execution_count": 52,
     "metadata": {},
     "output_type": "execute_result"
    },
    {
     "data": {
      "image/png": "[encoded data removed]",
      "text/plain": [
       "<Figure size 432x288 with 1 Axes>"
      ]
     },
     "metadata": {},
     "output_type": "display_data"
    }
   ],
   "source": [
    "plt.plot(lnphiL,gridP)\n",
    "plt.plot(lnphiV,gridP)\n",
    "plt.axhline(Psat2,color='k')"
   ]
  },
  {
   "cell_type": "markdown",
   "metadata": {},
   "source": [
    "* grid"
   ]
  },
  {
   "cell_type": "code",
   "execution_count": 53,
   "metadata": {},
   "outputs": [],
   "source": [
    "nTP=1000\n",
    "Tgrid=np.linspace(30,Tc,nTP)\n",
    "Pgrid=np.zeros(nTP)\n",
    "for i in range(nTP):\n",
    "    Vli,Vvi,Psupi,Pinfi=Plimits(Tgrid[i])\n",
    "    Pgrid[i]=Psat(Tgrid[i],Pinfi,Psupi)"
   ]
  },
  {
   "cell_type": "markdown",
   "metadata": {},
   "source": [
    "* plot"
   ]
  },
  {
   "cell_type": "code",
   "execution_count": 54,
   "metadata": {},
   "outputs": [
    {
     "data": {
      "image/png": "[encoded data removed]",
      "text/plain": [
       "<Figure size 432x288 with 1 Axes>"
      ]
     },
     "metadata": {},
     "output_type": "display_data"
    }
   ],
   "source": [
    "plt.plot(Tgrid,Pgrid)\n",
    "plt.scatter(Tc,Pc)\n",
    "plt.yscale('log')"
   ]
  },
  {
   "cell_type": "markdown",
   "metadata": {},
   "source": [
    "# Conclusão\n",
    "\n",
    "A solução do equilibrio liquido vapor por eos não é simples. há que se preocupar com solução trivial (phil=phiv | vl=vv; eos retornando uma unica raiz real; dificuldade de convergencia dos metodo numericos...)\n",
    "\n"
   ]
  }
 ],
 "metadata": {
  "kernelspec": {
   "display_name": "Python [default]",
   "language": "python",
   "name": "python3"
  },
  "language_info": {
   "codemirror_mode": {
    "name": "ipython",
    "version": 3
   },
   "file_extension": ".py",
   "mimetype": "text/x-python",
   "name": "python",
   "nbconvert_exporter": "python",
   "pygments_lexer": "ipython3",
   "version": "3.6.3"
  }
 },
 "nbformat": 4,
 "nbformat_minor": 2
}
