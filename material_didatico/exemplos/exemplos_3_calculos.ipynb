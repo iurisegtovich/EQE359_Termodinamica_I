{
 "cells": [
  {
   "cell_type": "markdown",
   "metadata": {},
   "source": [
    "# exemplos 3: números"
   ]
  },
  {
   "cell_type": "code",
   "execution_count": 2,
   "metadata": {},
   "outputs": [],
   "source": [
    "#importar o comando pythontutor para gerar os links de cada exemplo para o site de visualização\n",
    "from python_tutor_magic import pythontutor"
   ]
  },
  {
   "cell_type": "markdown",
   "metadata": {},
   "source": [
    "# tipos de números"
   ]
  },
  {
   "cell_type": "code",
   "execution_count": 35,
   "metadata": {},
   "outputs": [
    {
     "name": "stdout",
     "output_type": "stream",
     "text": [
      "<class 'int'>\n",
      "<class 'float'>\n",
      "<class 'complex'>\n",
      "1j\n",
      "0.1j\n",
      "20000\n"
     ]
    },
    {
     "data": {
      "text/plain": [
       "(1, 10000, 8.314, 6.02e+23, 1.346e-23, (3.1+0.5j))"
      ]
     },
     "execution_count": 35,
     "metadata": {},
     "output_type": "execute_result"
    }
   ],
   "source": [
    "#%%pythontutor\n",
    "\n",
    "#inteiros\n",
    "#número sem ponto\n",
    "i=1\n",
    "#opcionalmente underline para separar milhares\n",
    "j=10_000\n",
    "\n",
    "#função type\n",
    "print(type(i))\n",
    "\n",
    "#float (representação de reais, truncada em aproximadamente 16 algarismos significativos)\n",
    "#casa decimal separada por ponto\n",
    "r=8.314\n",
    "#pode notação científica (e maiusculo ou minusculo)\n",
    "na=6.02e23\n",
    "kb=1.346E-23\n",
    "print(type(r))\n",
    "\n",
    "#complexo\n",
    "c=3.1+.5j\n",
    "print(type(c))\n",
    "\n",
    "#o j indica complexo se estiver justaposto a direita de um número\n",
    "\n",
    "#complexo\n",
    "print(1j)\n",
    "#complexo\n",
    "print(.1j)\n",
    "#uma variável chamada j1\n",
    "# print(j1)\n",
    "#uma multiplicação com a variável j\n",
    "print(2*j)\n",
    "# também não pode espaço\n",
    "# print(2 j)\n",
    "\n",
    "i,j,r,na,kb,c"
   ]
  },
  {
   "cell_type": "markdown",
   "metadata": {},
   "source": [
    "# conversões"
   ]
  },
  {
   "cell_type": "code",
   "execution_count": 7,
   "metadata": {},
   "outputs": [
    {
     "name": "stdout",
     "output_type": "stream",
     "text": [
      "qual o número de componentes\n",
      "2\n",
      "<class 'str'>\n",
      "<class 'int'>\n"
     ]
    }
   ],
   "source": [
    "#%%pythontutor\n",
    "\n",
    "print('qual o número de componentes')\n",
    "\n",
    "resposta=input()\n",
    "print(type(resposta))\n",
    "\n",
    "# a função de conversão tem o nome do tipo\n",
    "ncomp=int(resposta)\n",
    "print(type(ncomp))"
   ]
  },
  {
   "cell_type": "markdown",
   "metadata": {},
   "source": [
    "# cálculos"
   ]
  },
  {
   "cell_type": "code",
   "execution_count": 32,
   "metadata": {},
   "outputs": [
    {
     "data": {
      "text/plain": [
       "(7, 2, 9, 5, 14, 3.5, 49, 1, 3)"
      ]
     },
     "execution_count": 32,
     "metadata": {},
     "output_type": "execute_result"
    }
   ],
   "source": [
    "#%%pythontutor\n",
    "\n",
    "i=7\n",
    "j=2\n",
    "\n",
    "a=i+j\n",
    "b=i-j\n",
    "c=i*j\n",
    "d=i/j\n",
    "e=i**j\n",
    "\n",
    "f=i%j\n",
    "g=i//j\n",
    "\n",
    "i,j,a,b,c,d,e,f,g"
   ]
  },
  {
   "cell_type": "markdown",
   "metadata": {},
   "source": [
    "# conversões automáticas"
   ]
  },
  {
   "cell_type": "code",
   "execution_count": 31,
   "metadata": {},
   "outputs": [
    {
     "data": {
      "text/plain": [
       "(1, 2.5, (6.4+0.2j), 3.5, (4.9+0.2j), (6.4+0.2j))"
      ]
     },
     "execution_count": 31,
     "metadata": {},
     "output_type": "execute_result"
    }
   ],
   "source": [
    "#%%pythontutor\n",
    "\n",
    "i=1\n",
    "r=2.5\n",
    "c=3.9+.2j\n",
    "\n",
    "a=i+r\n",
    "b=i+c\n",
    "c=r+c\n",
    "\n",
    "i,r,c,a,b,c"
   ]
  },
  {
   "cell_type": "markdown",
   "metadata": {},
   "source": [
    "# funções da calculadora científica"
   ]
  },
  {
   "cell_type": "code",
   "execution_count": 59,
   "metadata": {},
   "outputs": [
    {
     "data": {
      "text/plain": [
       "(0.0, 1.0, 2.718281828459045, 2.302585092994046, 1.0)"
      ]
     },
     "execution_count": 59,
     "metadata": {},
     "output_type": "execute_result"
    }
   ],
   "source": [
    "#%%pythontutor\n",
    " \n",
    "# comando import, carrega um módulo suplementar\n",
    "import math as m\n",
    "# a palavra chave as indica que vamos nos referir ao modlo math pelo nome m\n",
    "\n",
    "#o ponto indica a que modulo pertencem as funções\n",
    "a=m.sin(0)\n",
    "b=m.cos(0)\n",
    "c=m.exp(1)\n",
    "d=m.log(10)\n",
    "e=m.log10(10)\n",
    "a,b,c,d,e"
   ]
  },
  {
   "cell_type": "markdown",
   "metadata": {},
   "source": [
    "# algumas constantes"
   ]
  },
  {
   "cell_type": "code",
   "execution_count": 39,
   "metadata": {},
   "outputs": [
    {
     "data": {
      "text/plain": [
       "(3.141592653589793, 2.718281828459045)"
      ]
     },
     "execution_count": 39,
     "metadata": {},
     "output_type": "execute_result"
    }
   ],
   "source": [
    "#%%pythontutor\n",
    "\n",
    "import math as m\n",
    "m.pi,m.e"
   ]
  },
  {
   "cell_type": "markdown",
   "metadata": {},
   "source": [
    "# precedencia\n",
    "1. parênteses\n",
    "1. **\n",
    "1. * / % //\n",
    "1. + -"
   ]
  },
  {
   "cell_type": "code",
   "execution_count": 50,
   "metadata": {},
   "outputs": [
    {
     "data": {
      "text/plain": [
       "(1025.875,\n",
       " 1025.875,\n",
       " 1.2379400392853803e+27,\n",
       " 0.16666666666666666,\n",
       " 0.16666666666666666,\n",
       " 0.16666666666666666,\n",
       " 2.6666666666666665)"
      ]
     },
     "execution_count": 50,
     "metadata": {},
     "output_type": "execute_result"
    }
   ],
   "source": [
    "#%%pythontutor\n",
    "\n",
    "a=2**10+5*3/2/4\n",
    "b=((2**10)+(((5*3)/2)/4))\n",
    "c=2**((10+5)*(3/(2/4)))\n",
    "\n",
    "d=2/3/4\n",
    "e=(2/3)/4\n",
    "f=2/(3*4)\n",
    "g=2/(3/4)\n",
    "\n",
    "a,b,c,d,e,f,g"
   ]
  },
  {
   "cell_type": "markdown",
   "metadata": {},
   "source": [
    "# expressões com as variáveis"
   ]
  },
  {
   "cell_type": "code",
   "execution_count": 52,
   "metadata": {},
   "outputs": [
    {
     "name": "stdout",
     "output_type": "stream",
     "text": [
      "3\n",
      "7\n"
     ]
    }
   ],
   "source": [
    "#%%pythontutor\n",
    "\n",
    "x=3\n",
    "print(x)\n",
    "\n",
    "# = EM PROGRAMAÇÃO\n",
    "# NÃO DEFINE UMA EQUAÇÃO ALGÉBRICA\n",
    "\n",
    "x=2*x+1\n",
    "# x <= 2*x+1\n",
    "#      2*3+1\n",
    "#      7\n",
    "# x <= 7\n",
    "print(x)\n",
    "\n",
    "# Avaliar as operações do lado direito\n",
    "# Vincular o resultado ao nome do lado esquerdo"
   ]
  },
  {
   "cell_type": "markdown",
   "metadata": {},
   "source": [
    "# EXEMPLO"
   ]
  },
  {
   "cell_type": "code",
   "execution_count": 58,
   "metadata": {},
   "outputs": [
    {
     "name": "stdout",
     "output_type": "stream",
     "text": [
      "50\n",
      "10\n",
      "70\n"
     ]
    }
   ],
   "source": [
    "#%%pythontutor\n",
    "\n",
    "energia=50\n",
    "print(energia)\n",
    "\n",
    "calor_cedido=10\n",
    "energia=energia-calor_cedido\n",
    "print(dinheiro)\n",
    "\n",
    "trabalho_recebido=30\n",
    "energia=energia+trabalho_recebido\n",
    "print(energia)"
   ]
  },
  {
   "cell_type": "markdown",
   "metadata": {},
   "source": [
    "# EXERCICIOS"
   ]
  },
  {
   "cell_type": "markdown",
   "metadata": {},
   "source": [
    "1. calcular o perimetro e area de um quadrado de lado 1.3 m\n",
    "1. calcular o perimetro e area de um círculo de raio 2.1 m\n",
    "1. calcular quantos segundos tem em um ano\n",
    "1. calcular o rendimento em um ano de uma aplicação com juros de .51% ao mês\n",
    "1. calcular o volume de 1 mol de gas ideal nas CNTP"
   ]
  }
 ],
 "metadata": {
  "kernelspec": {
   "display_name": "Python [default]",
   "language": "python",
   "name": "python3"
  },
  "language_info": {
   "codemirror_mode": {
    "name": "ipython",
    "version": 3
   },
   "file_extension": ".py",
   "mimetype": "text/x-python",
   "name": "python",
   "nbconvert_exporter": "python",
   "pygments_lexer": "ipython3",
   "version": "3.6.3"
  }
 },
 "nbformat": 4,
 "nbformat_minor": 2
}
