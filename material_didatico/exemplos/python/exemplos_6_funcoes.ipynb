{
 "cells": [
  {
   "cell_type": "code",
   "execution_count": 1,
   "metadata": {},
   "outputs": [
    {
     "data": {
      "text/plain": [
       "\u001b[0;31mType:\u001b[0m        module\n",
       "\u001b[0;31mString form:\u001b[0m <module 'python_tutor_magic' from '/home/segtovichisv/Desktop/curso-python-chemeng/drafts/notebookdrafts/python_tutor_magic.py'>\n",
       "\u001b[0;31mFile:\u001b[0m        ~/Desktop/curso-python-chemeng/drafts/notebookdrafts/python_tutor_magic.py\n",
       "\u001b[0;31mDocstring:\u001b[0m  \n",
       "usage:\n",
       "once:\n",
       "import python_tutor_magic\n",
       "target cells, on the first line as usual:\n",
       "%%pythontutor\n",
       "this will generate a url for python tutor wuth the current cell code\n",
       "this will only convert the code to url, this will not try to run the code in the current kernel\n"
      ]
     },
     "metadata": {},
     "output_type": "display_data"
    }
   ],
   "source": [
    "import python_tutor_magic\n",
    "python_tutor_magic?"
   ]
  },
  {
   "cell_type": "code",
   "execution_count": 2,
   "metadata": {},
   "outputs": [
    {
     "name": "stdout",
     "output_type": "stream",
     "text": [
      "Encoding the current cell code into a python tutor url...\n"
     ]
    },
    {
     "data": {
      "text/html": [
       "<a href='http://pythontutor.com/live.html#code=from%20decimal%20import%20Decimal%20as%20dec%0Afrom%20decimal%20import%20localcontext%0A%0Afrom%20decimal%20import%20getcontext%0A%0Aprint%28getcontext%28%29%29%0Ax%3Ddec%281%29/dec%287%29%0Aprint%28x%29%0Ay%3Dx%2Bx%2Bx%2Bx%2Bx%2Bx%2Bx%0Aprint%28y%29%0A%0A%0Awith%20localcontext%28%29%20as%20ctx%3A%0A%20%20%20%20print%28ctx%29%0A%20%20%20%20ctx.prec%3D50%0A%20%20%20%20x%3Ddec%281%29/dec%287%29%0A%20%20%20%20print%28x%29%0A%20%20%20%20y%3Dx%2Bx%2Bx%2Bx%2Bx%2Bx%2Bx%0A%20%20%20%20print%28y%29'>Your URL is ready: click to try this code on python tutor [ . > ]</a>"
      ],
      "text/plain": [
       "<IPython.core.display.HTML object>"
      ]
     },
     "metadata": {},
     "output_type": "display_data"
    }
   ],
   "source": [
    "%%pythontutor\n",
    "from decimal import Decimal as dec\n",
    "from decimal import localcontext\n",
    "\n",
    "from decimal import getcontext\n",
    "\n",
    "print(getcontext())\n",
    "x=dec(1)/dec(7)\n",
    "print(x)\n",
    "y=x+x+x+x+x+x+x\n",
    "print(y)\n",
    "\n",
    "\n",
    "with localcontext() as ctx:\n",
    "    print(ctx)\n",
    "    ctx.prec=50\n",
    "    x=dec(1)/dec(7)\n",
    "    print(x)\n",
    "    y=x+x+x+x+x+x+x\n",
    "    print(y)\n"
   ]
  },
  {
   "cell_type": "code",
   "execution_count": null,
   "metadata": {},
   "outputs": [],
   "source": []
  }
 ],
 "metadata": {
  "kernelspec": {
   "display_name": "Python [default]",
   "language": "python",
   "name": "python3"
  },
  "language_info": {
   "codemirror_mode": {
    "name": "ipython",
    "version": 3
   },
   "file_extension": ".py",
   "mimetype": "text/x-python",
   "name": "python",
   "nbconvert_exporter": "python",
   "pygments_lexer": "ipython3",
   "version": "3.6.3"
  }
 },
 "nbformat": 4,
 "nbformat_minor": 2
}
