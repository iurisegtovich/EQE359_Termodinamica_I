{
 "cells": [
  {
   "cell_type": "markdown",
   "metadata": {},
   "source": [
    "# exemplos 4: lógica"
   ]
  },
  {
   "cell_type": "code",
   "execution_count": 1,
   "metadata": {},
   "outputs": [],
   "source": [
    "#importar o comando pythontutor para gerar os links de cada exemplo para o site de visualização\n",
    "from python_tutor_magic import pythontutor"
   ]
  },
  {
   "cell_type": "markdown",
   "metadata": {},
   "source": [
    "# tipo lógico"
   ]
  },
  {
   "cell_type": "code",
   "execution_count": 3,
   "metadata": {},
   "outputs": [
    {
     "data": {
      "text/plain": [
       "(True, False)"
      ]
     },
     "execution_count": 3,
     "metadata": {},
     "output_type": "execute_result"
    }
   ],
   "source": [
    "#%%pythontutor\n",
    "\n",
    "#os literais lógicos são True e False com letra maiúscula\n",
    "a=True\n",
    "b=False\n",
    "a,b"
   ]
  },
  {
   "cell_type": "markdown",
   "metadata": {},
   "source": [
    "# comparações"
   ]
  },
  {
   "cell_type": "code",
   "execution_count": 42,
   "metadata": {},
   "outputs": [
    {
     "data": {
      "text/plain": [
       "(False, True, True, False, True, False)"
      ]
     },
     "execution_count": 42,
     "metadata": {},
     "output_type": "execute_result"
    }
   ],
   "source": [
    "#%%pythontutor\n",
    "\n",
    "# os operadores de comparação pega dois objetos e \n",
    "# a comparação é como se fosse uma pergunta\n",
    "# então retornam uma resposta lógica: verdadeiro ou falso\n",
    "\n",
    "i=1\n",
    "j=2\n",
    "q1= i==j\n",
    "q2= i!=j\n",
    "q3= i<j\n",
    "q4= i>j\n",
    "q5= i<=j\n",
    "q6= i>=j\n",
    "\n",
    "q1,q2,q3,q4,q5,q6"
   ]
  },
  {
   "cell_type": "code",
   "execution_count": 43,
   "metadata": {},
   "outputs": [
    {
     "data": {
      "text/plain": [
       "(False, True)"
      ]
     },
     "execution_count": 43,
     "metadata": {},
     "output_type": "execute_result"
    }
   ],
   "source": [
    "#%%pythontutor\n",
    "\n",
    "#sempre usar função módulo (abs) e tolerância em comparações com floats\n",
    "x=1/7+1/7+1/7+1/7+1/7+1/7+1/7\n",
    "y=1\n",
    "q7 = x==y\n",
    "q8 = abs(x-y)<1e-14\n",
    "\n",
    "q7, q8"
   ]
  },
  {
   "cell_type": "markdown",
   "metadata": {},
   "source": [
    "# operadores lógicos"
   ]
  },
  {
   "cell_type": "code",
   "execution_count": 16,
   "metadata": {},
   "outputs": [
    {
     "name": "stdout",
     "output_type": "stream",
     "text": [
      "A,   B,   A and B, A or B, not A\n",
      "True True True     True    False\n",
      "True False False     True    False\n",
      "False True False     True    True\n",
      "False False False     False    True\n"
     ]
    }
   ],
   "source": [
    "#%%pythontutor\n",
    "\n",
    "# and, or e not (e, ou e não)\n",
    "\n",
    "A=True\n",
    "B=False\n",
    "\n",
    "# A and B dá verdadeiro se tanto A quanto B forem verdadeiros\n",
    "# caso contrário dá falso\n",
    "a= A and B\n",
    "# A or B dá verdadeiro se pelo menos A ou B for verdadeiro\n",
    "# então só dá falso se ambos forem falsos\n",
    "b= A or B\n",
    "# not A dá o contrário de A\n",
    "# se A é True, not a dá False\n",
    "# se A é False, not a dá True\n",
    "c= not A\n",
    "\n",
    "print(\"A,   B,   A and B, A or B, not A\")\n",
    "A=True\n",
    "B=True\n",
    "print(A,B,A and B,\"   \",A or B,\"  \", not A)\n",
    "A=True\n",
    "B=False\n",
    "print(A,B,A and B,\"   \",A or B,\"  \", not A)\n",
    "A=False\n",
    "B=True\n",
    "print(A,B,A and B,\"   \",A or B,\"  \", not A)\n",
    "A=False\n",
    "B=False\n",
    "print(A,B,A and B,\"   \",A or B,\"  \", not A)"
   ]
  },
  {
   "cell_type": "markdown",
   "metadata": {},
   "source": [
    "# condicionais"
   ]
  },
  {
   "cell_type": "code",
   "execution_count": 20,
   "metadata": {},
   "outputs": [
    {
     "name": "stdout",
     "output_type": "stream",
     "text": [
      "negativo\n"
     ]
    }
   ],
   "source": [
    "#%%pythontutor\n",
    "\n",
    "i=-1\n",
    "if i<0:\n",
    "    print(\"negativo\")"
   ]
  },
  {
   "cell_type": "markdown",
   "metadata": {},
   "source": [
    "> Teste rodar com outros valores para i"
   ]
  },
  {
   "cell_type": "code",
   "execution_count": 23,
   "metadata": {},
   "outputs": [
    {
     "name": "stdout",
     "output_type": "stream",
     "text": [
      "não é negativo\n"
     ]
    }
   ],
   "source": [
    "#%%pythontutor\n",
    "\n",
    "i=1\n",
    "if i<0:\n",
    "    print(\"negativo\")\n",
    "else:\n",
    "    print(\"não é negativo\")"
   ]
  },
  {
   "cell_type": "markdown",
   "metadata": {},
   "source": [
    "> Teste rodar com outros valores para i"
   ]
  },
  {
   "cell_type": "code",
   "execution_count": 25,
   "metadata": {},
   "outputs": [
    {
     "name": "stdout",
     "output_type": "stream",
     "text": [
      "nem positivo nem negativo, será zero?\n"
     ]
    }
   ],
   "source": [
    "#%%pythontutor\n",
    "\n",
    "i=0\n",
    "if i<0:\n",
    "    print(\"negativo\")\n",
    "elif i>0:\n",
    "    print(\"positivo\")\n",
    "else:\n",
    "    print(\"nem positivo nem negativo, será zero?\")"
   ]
  },
  {
   "cell_type": "markdown",
   "metadata": {},
   "source": [
    "> Teste rodar com outros valores para i"
   ]
  },
  {
   "cell_type": "markdown",
   "metadata": {},
   "source": [
    "# exemplo"
   ]
  },
  {
   "cell_type": "code",
   "execution_count": 44,
   "metadata": {},
   "outputs": [
    {
     "name": "stdout",
     "output_type": "stream",
     "text": [
      "fora da faixa de validade do modelo\n"
     ]
    }
   ],
   "source": [
    "#%%pythontutor\n",
    "\n",
    "minimo=0\n",
    "maximo=100\n",
    "T=250\n",
    "if (T<minimo) or (T>maximo):\n",
    "    print('fora da faixa de validade do modelo')"
   ]
  },
  {
   "cell_type": "markdown",
   "metadata": {},
   "source": [
    "* pode ser decomposto em algumas variáveis teste"
   ]
  },
  {
   "cell_type": "code",
   "execution_count": 46,
   "metadata": {},
   "outputs": [
    {
     "name": "stdout",
     "output_type": "stream",
     "text": [
      "fora da faixa de validade do modelo\n"
     ]
    }
   ],
   "source": [
    "#%%pythontutor\n",
    "\n",
    "minimo=0\n",
    "maximo=100\n",
    "T=250\n",
    "\n",
    "teste1=T<minimo\n",
    "teste2=T>maximo\n",
    "teste3=teste1 or teste2\n",
    "if  teste3 :\n",
    "    print('fora da faixa de validade do modelo')"
   ]
  },
  {
   "cell_type": "markdown",
   "metadata": {},
   "source": [
    "# exercícios"
   ]
  },
  {
   "cell_type": "markdown",
   "metadata": {},
   "source": [
    "1. criar um código que verifique a nota da p1, p2 e diga se você está aprovado, está de final ou está reprovado direto.\n",
    "1. incrementar o codigo para aceitar ps.\n",
    "1. incrementar o codigo para fazer media final e dizer se passou ou reprovou."
   ]
  }
 ],
 "metadata": {
  "kernelspec": {
   "display_name": "Python [default]",
   "language": "python",
   "name": "python3"
  },
  "language_info": {
   "codemirror_mode": {
    "name": "ipython",
    "version": 3
   },
   "file_extension": ".py",
   "mimetype": "text/x-python",
   "name": "python",
   "nbconvert_exporter": "python",
   "pygments_lexer": "ipython3",
   "version": "3.6.3"
  }
 },
 "nbformat": 4,
 "nbformat_minor": 2
}
