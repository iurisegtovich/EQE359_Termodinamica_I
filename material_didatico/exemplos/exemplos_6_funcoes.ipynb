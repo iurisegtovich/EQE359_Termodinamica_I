{
 "cells": [
  {
   "cell_type": "markdown",
   "metadata": {},
   "source": [
    "# exemplos 6: funções"
   ]
  },
  {
   "cell_type": "code",
   "execution_count": 1,
   "metadata": {},
   "outputs": [],
   "source": [
    "#importar o comando pythontutor para gerar os links de cada exemplo para o site de visualização\n",
    "from python_tutor_magic import pythontutor"
   ]
  },
  {
   "cell_type": "markdown",
   "metadata": {},
   "source": [
    "## def"
   ]
  },
  {
   "cell_type": "markdown",
   "metadata": {},
   "source": [
    "* Vamos definir uma função chamada pelo nome func_V_IG\n",
    "* Essa função vai receber uns valores que vão ser associados localmente às variáveis (dummy) T, P e n.\n",
    "* Essa função vai fazer umas contas com esses valores e vai salvar os cálculos na variável local V\n",
    "* Essa função vai retornar o valor da variável local V e o programa vai armazenar o resultado retornado na variável result_V"
   ]
  },
  {
   "cell_type": "code",
   "execution_count": 1,
   "metadata": {},
   "outputs": [
    {
     "data": {
      "text/plain": [
       "0.022412722427831235"
      ]
     },
     "execution_count": 1,
     "metadata": {},
     "output_type": "execute_result"
    }
   ],
   "source": [
    "#%%pythontutor\n",
    "\n",
    "R = 8.314\n",
    "\n",
    "def func_V_IG(T,P,n):\n",
    "    \n",
    "    V = n*R*T/P\n",
    "    \n",
    "    return V\n",
    "\n",
    "result_V = func_V_IG(273.15,1.01325e5,1)\n",
    "\n",
    "result_V"
   ]
  },
  {
   "cell_type": "markdown",
   "metadata": {},
   "source": [
    "## dummy x actual"
   ]
  },
  {
   "cell_type": "code",
   "execution_count": 23,
   "metadata": {},
   "outputs": [
    {
     "data": {
      "text/plain": [
       "(0.022709690999999997, 247757.2)"
      ]
     },
     "execution_count": 23,
     "metadata": {},
     "output_type": "execute_result"
    }
   ],
   "source": [
    "#%%pythontutor\n",
    "\n",
    "R = 8.314\n",
    "# os nomes dummy são os nomes definidos no cabeçalho da função\n",
    "def func_V_IG(T,P,n):\n",
    "    V = n*R*T/P\n",
    "    return V\n",
    "\n",
    "T1=273.15\n",
    "P1=1e5\n",
    "n1=1\n",
    "\n",
    "outraT=298\n",
    "outraP=.1\n",
    "outron=10\n",
    "\n",
    "# os nomes actual são os nomes usados para passar os objetos na chamada\n",
    "V1=func_V_IG(T1,P1,n1)\n",
    "outroV=func_V_IG(outraT,outraP,outron)\n",
    "\n",
    "V1,outroV"
   ]
  },
  {
   "cell_type": "markdown",
   "metadata": {},
   "source": [
    "## argumentos posicionais e argumentos palavra-chave"
   ]
  },
  {
   "cell_type": "code",
   "execution_count": 24,
   "metadata": {},
   "outputs": [],
   "source": [
    "#%%pythontutor\n",
    "\n",
    "R = 8.314\n",
    "# os nomes dummy são os nomes definidos no cabeçalho da função\n",
    "def func_V_IG(T,P,n):\n",
    "    V = n*R*T/P\n",
    "    return V\n",
    "\n",
    "T1=273.15\n",
    "P1=1e5\n",
    "n1=1\n",
    "\n",
    "# a chamada pode ser feita usando or argumentos de forma posicional\n",
    "# respeitando a ORDEM definida pelos dummy no cabeçalho\n",
    "V1=func_V_IG(T1,P1,n1)\n",
    "\n",
    "# ou pode ser feita por palavra-chave\n",
    "# respeitando os NOMES dos dummy no cabeçalho\n",
    "V2=func_V_IG(T=T1,P=P1,n=n1)"
   ]
  },
  {
   "cell_type": "markdown",
   "metadata": {},
   "source": [
    "## return"
   ]
  },
  {
   "cell_type": "code",
   "execution_count": 2,
   "metadata": {},
   "outputs": [
    {
     "data": {
      "text/plain": [
       "((0.022709690999999997, 0.022709690999999997),\n",
       " 0.022709690999999997,\n",
       " 0.022709690999999997)"
      ]
     },
     "execution_count": 2,
     "metadata": {},
     "output_type": "execute_result"
    }
   ],
   "source": [
    "#%%pythontutor\n",
    "\n",
    "R = 8.314\n",
    "# os nomes dummy são os nomes definidos no cabeçalho da função\n",
    "def func_V_IG(T,P,n):\n",
    "    V = n*R*T/P\n",
    "    return V, V/n\n",
    "\n",
    "T1=273.15\n",
    "P1=1e5\n",
    "n1=1\n",
    "\n",
    "# a chamada pode ser feita usando or argumentos de forma posicional\n",
    "# respeitando a ORDEM definida pelos dummy no cabeçalho\n",
    "results=func_V_IG(T1,P1,n1)\n",
    "\n",
    "# ou pode ser feita por palavra-chave\n",
    "# respeitando os NOMES dos dummy no cabeçalho\n",
    "V,molarV=func_V_IG(T1,P1,n1)\n",
    "\n",
    "results, V, molarV"
   ]
  }
 ],
 "metadata": {
  "kernelspec": {
   "display_name": "Python [default]",
   "language": "python",
   "name": "python3"
  },
  "language_info": {
   "codemirror_mode": {
    "name": "ipython",
    "version": 3
   },
   "file_extension": ".py",
   "mimetype": "text/x-python",
   "name": "python",
   "nbconvert_exporter": "python",
   "pygments_lexer": "ipython3",
   "version": "3.6.3"
  }
 },
 "nbformat": 4,
 "nbformat_minor": 2
}
