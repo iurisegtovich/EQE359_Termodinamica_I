{
 "cells": [
  {
   "cell_type": "markdown",
   "metadata": {},
   "source": [
    "# calculo de P para ponto de bolha e orvalho dado z e T"
   ]
  },
  {
   "cell_type": "code",
   "execution_count": 1,
   "metadata": {},
   "outputs": [],
   "source": [
    "import numpy as np\n",
    "from matplotlib import pyplot as plt\n",
    "%matplotlib inline"
   ]
  },
  {
   "cell_type": "markdown",
   "metadata": {},
   "source": [
    "* para T = 298 K"
   ]
  },
  {
   "cell_type": "code",
   "execution_count": 2,
   "metadata": {},
   "outputs": [],
   "source": [
    "#pressao de saturação do componente 1\n",
    "PsatA=1e5 #Pa\n",
    "#pressao de saturação do  componente 2\n",
    "PsatB=20e5 #Pa\n",
    "#vetor de pressao de saturação de cada componente\n",
    "Psat=[PsatA,PsatB]"
   ]
  },
  {
   "cell_type": "code",
   "execution_count": 3,
   "metadata": {},
   "outputs": [],
   "source": [
    "#modelo de margules\n",
    "def func_vetor_lngamma(vetor_x):\n",
    "    xA=vetor_x[0]\n",
    "    xB=vetor_x[1]\n",
    "    gammaA=A*xB**2\n",
    "    gammaB=A*xA**2\n",
    "    vetor_gamma=[gammaA,gammaB]\n",
    "    return vetor_gamma"
   ]
  },
  {
   "cell_type": "code",
   "execution_count": 4,
   "metadata": {},
   "outputs": [],
   "source": [
    "#Parametro do modelo dado\n",
    "A=-.1"
   ]
  },
  {
   "cell_type": "code",
   "execution_count": 5,
   "metadata": {},
   "outputs": [
    {
     "name": "stdout",
     "output_type": "stream",
     "text": [
      "[ 0.90483742  1.        ]\n",
      "fraçaõ molar do componente B tende a 1, gamma dele tende a 1\n",
      "[ 1.          0.90483742]\n",
      "fraçaõ molar do componente A tende a 1, gamma dele tende a 1\n",
      "[ 0.938005    0.99600799]\n",
      "teste com uma composição arbitrária\n"
     ]
    }
   ],
   "source": [
    "vx_test=[.0,1.]\n",
    "vlngamma_test = func_vetor_lngamma(vx_test)\n",
    "vgamma_test=np.exp(vlngamma_test)\n",
    "print(vgamma_test)\n",
    "print('fraçaõ molar do componente B tende a 1, gamma dele tende a 1')\n",
    "\n",
    "vx_test=[1.,.0]\n",
    "vlngamma_test = func_vetor_lngamma(vx_test)\n",
    "vgamma_test=np.exp(vlngamma_test)\n",
    "print(vgamma_test)\n",
    "print('fraçaõ molar do componente A tende a 1, gamma dele tende a 1')\n",
    "\n",
    "vx_test=[.2,.8]\n",
    "vlngamma_test = func_vetor_lngamma(vx_test)\n",
    "vgamma_test=np.exp(vlngamma_test)\n",
    "print(vgamma_test)\n",
    "print('teste com uma composição arbitrária')"
   ]
  },
  {
   "cell_type": "code",
   "execution_count": 6,
   "metadata": {},
   "outputs": [],
   "source": [
    "#calculo de pressao de bolha (explicito)\n",
    "def func_Pbolha(vetor_z):\n",
    "    vetor_x=vetor_z\n",
    "    vetor_lngamma=func_vetor_lngamma(vetor_x)\n",
    "    xA=vetor_x[0]\n",
    "    xB=vetor_x[1]\n",
    "    gammaA=np.exp(vetor_lngamma[0])\n",
    "    gammaB=np.exp(vetor_lngamma[1])\n",
    "    PsatA=Psat[0]\n",
    "    PsatB=Psat[1]\n",
    "    P=xA*gammaA*PsatA+xB*gammaB*PsatB\n",
    "    yA=xA*gammaA*PsatA/P\n",
    "    yB=xB*gammaB*PsatB/P\n",
    "    vetor_y=[yA,yB]\n",
    "    return P, vetor_y"
   ]
  },
  {
   "cell_type": "code",
   "execution_count": 7,
   "metadata": {},
   "outputs": [
    {
     "name": "stdout",
     "output_type": "stream",
     "text": [
      "(2000000.0, [0.0, 1.0])\n",
      "fraçaõ molar do componente B tende a 1, a Pbolha é igual ao Psat do B, o y é igual ao x\n",
      "(100000.0, [1.0, 0.0])\n",
      "fraçaõ molar do componente A tende a 1, a Pbolha é igual ao Psat do A, o y é igual ao x\n",
      "(1612372.8829410013, [0.011635087757365272, 0.98836491224263467])\n",
      "teste com uma composição arbitrária, pressão intermediária se não houver azeotropo, ou maior ou menor se houver, y mais rico no leve (maior psat)\n"
     ]
    }
   ],
   "source": [
    "vx_test=[.0,1.]\n",
    "resposta_pbolha_test = func_Pbolha(vx_test)\n",
    "print(resposta_pbolha_test)\n",
    "print('fraçaõ molar do componente B tende a 1, a Pbolha é igual ao Psat do B, o y é igual ao x')\n",
    "\n",
    "vx_test=[1.,.0]\n",
    "resposta_pbolha_test = func_Pbolha(vx_test)\n",
    "print(resposta_pbolha_test)\n",
    "print('fraçaõ molar do componente A tende a 1, a Pbolha é igual ao Psat do A, o y é igual ao x')\n",
    "\n",
    "vx_test=[.2,.8]\n",
    "resposta_pbolha_test = func_Pbolha(vx_test)\n",
    "print(resposta_pbolha_test)\n",
    "print('teste com uma composição arbitrária, pressão intermediária se não houver azeotropo, ou maior ou menor se houver, y mais rico no leve (maior psat)')"
   ]
  },
  {
   "cell_type": "code",
   "execution_count": 8,
   "metadata": {},
   "outputs": [],
   "source": [
    "#fazer um gráfico\n",
    "vetor_xA = np.linspace(0,1,100) #vetor_fracoes_molares_de_A_em_fase_liquida\n",
    "vetor_xB = 1.-vetor_xA\n",
    "\n",
    "vetor_yA = np.zeros(100)\n",
    "vetor_yB = np.zeros(100)\n",
    "vetor_P = np.zeros(100)\n",
    "\n",
    "for i in range(100):\n",
    "    vetor_P[i],[vetor_yA[i],vetor_yB[i]] = func_Pbolha([vetor_xA[i],vetor_xB[i]])"
   ]
  },
  {
   "cell_type": "code",
   "execution_count": 9,
   "metadata": {},
   "outputs": [
    {
     "data": {
      "image/png": "[encoded data removed]",
      "text/plain": [
       "<Figure size 432x288 with 1 Axes>"
      ]
     },
     "metadata": {},
     "output_type": "display_data"
    }
   ],
   "source": [
    "plt.title('diagrama de equilibrio liquido vapor \\n'r'pelo metodo de pressao de ponto de bolha $\\gamma$-$\\phi$')\n",
    "plt.scatter(vetor_xA,vetor_P,label='curva de ponto de bolha')\n",
    "plt.scatter(vetor_yA,vetor_P,label='curva de ponto de orvalho')\n",
    "plt.ylabel('P')\n",
    "plt.xlabel(r'$x_A,y_A,z_A$')\n",
    "plt.legend()\n",
    "plt.xlim(0,1)\n",
    "plt.show()"
   ]
  },
  {
   "cell_type": "markdown",
   "metadata": {},
   "source": [
    "> Ao rodar o metodo de calculo de ponto de bolha para varios valores de composição da fase liquida obtemos a curva de ponto de orvalho inteira também"
   ]
  },
  {
   "cell_type": "code",
   "execution_count": 14,
   "metadata": {},
   "outputs": [],
   "source": [
    "#calculo de pressao de bolha (explicito)\n",
    "def func_Porvalho(vetor_z):\n",
    "    \n",
    "    #PONTO DE ORVALHO, A COMPOSIÇÃO DO VAPOR É IGUAL A GLOBAL\n",
    "    vetor_y=vetor_z\n",
    "    yA=vetor_y[0]\n",
    "    yB=vetor_y[1]\n",
    "    \n",
    "    #DEFINIR ESTIMATIVA INICIAL BASEADA NO CASO DE MISTURA IDEAL\n",
    "    estimativa_vetor_gamma = [1.,1.]\n",
    "    gammaA=estimativa_vetor_gamma[0]\n",
    "    gammaB=estimativa_vetor_gamma[1]\n",
    "    \n",
    "    #PRESSOES DE SATURAÇÃO DOS PUROS\n",
    "    PsatA=Psat[0]\n",
    "    PsatB=Psat[1]\n",
    "    \n",
    "    #NUMERO MAXIMO DE ITERACOES\n",
    "    imax=100\n",
    "    #TOLERANCIA DE CONVERGENCIA\n",
    "    tol=1e-9\n",
    "    #DEFINIR VARIAVEL RESIDUO COM VALOR INICIAL MAIOR QUE A TOLERANCIA\n",
    "    res=1.\n",
    "    \n",
    "    \n",
    "    #INICIO DO METODO ITERATIVO\n",
    "    while(res>tol and i<imax):\n",
    "        \n",
    "        #TODA ESSA PARTE COM IDENTAÇÃO ABAIXO DO BLOCK WHILE VAI SER EXECUTADA VÁRIAS VEZES\n",
    "        #ATÉ QUE SE SATISFAÇA O CRITÉRIO DE CONVERGENCIA RESIDUO<TOLERANCIA\n",
    "        #OU QUE ULTRAPASSE O LIMITE DE ITERAÇÕES I>IMAX\n",
    "        \n",
    "        #SALVAR A ESTIMATIVA INICIAL OU RESULTADO DA ITERAÇÃO ANTERIOR NAS VARIAVEIS _ANTIGO PARA FAZER A ANALISE DO RESIDUO\n",
    "        gammaA_antigo = gammaA\n",
    "        gammaB_antigo = gammaB\n",
    "\n",
    "        #EQUACAO DO PONTO DE ORVALHO PARA EQUILIBRIO BIFASICO DE SUBSTANCIAS MISCIVEIS\n",
    "        #SUPOE O GAMMA CONHECIDO\n",
    "        P = 1. / ( yA/(gammaA*PsatA) + yB/(gammaB*PsatB) )\n",
    "\n",
    "        #CALCULO DA COMPOSICAO DA FASE LIQUIDA A PARTIR DESSA PRESSAO\n",
    "        xA= yA*P/(gammaA*PsatA)\n",
    "        xB= yB*P/(gammaB*PsatB)\n",
    "        vetor_x=[xA,xB]\n",
    "\n",
    "        #CALCULO RIGOROSO DOS COEFICIENTES DE ATIVIDADE A PARTIR DO MODELO DE GIBBS DE EXCESSO\n",
    "        vetor_lngamma=func_vetor_lngamma(vetor_x)\n",
    "        gammaA=np.exp(vetor_lngamma[0])\n",
    "        gammaB=np.exp(vetor_lngamma[1])\n",
    "\n",
    "        #CALCULO DO RESIDUO DEFINIDO PELA VARIAÇAO NO VALOR DE GAMMA DE UMA ITERACAO PARA A OUTRA\n",
    "        #ABS É A FUNÇÃO MÓDULO\n",
    "        res= abs(gammaA_antigo - gammaA) + abs(gammaB_antigo - gammaB)\n",
    "        \n",
    "        #FIM DO BLOCO ITERATIVO, VOLTAR PARA A LINHA DO WHILE ATÉ CONVERGIR\n",
    "    \n",
    "    #APÓS CONVERGIR, RETORNAR OS RESULTADOS    \n",
    "    return P, vetor_x"
   ]
  },
  {
   "cell_type": "code",
   "execution_count": 15,
   "metadata": {},
   "outputs": [
    {
     "name": "stdout",
     "output_type": "stream",
     "text": [
      "(2000000.0, [0.0, 1.0])\n",
      "fraçaõ molar do componente B tende a 1, a Porvalho é igual ao Psat do B, o x é igual ao y\n",
      "(410794.51584696426, [0.82413404448777783, 0.17586595551222223])\n",
      "teste composição arbitrária\n"
     ]
    }
   ],
   "source": [
    "vy_test=[.0,1.]\n",
    "resposta_porvalho_test = func_Porvalho(vy_test)\n",
    "print(resposta_porvalho_test)\n",
    "print('fraçaõ molar do componente B tende a 1, a Porvalho é igual ao Psat do B, o x é igual ao y')\n",
    "\n",
    "vy_test=[.2,.8]\n",
    "resposta_porvalho_test = func_Porvalho(vy_test)\n",
    "print(resposta_porvalho_test)\n",
    "print('teste composição arbitrária')"
   ]
  },
  {
   "cell_type": "code",
   "execution_count": 16,
   "metadata": {},
   "outputs": [],
   "source": [
    "#fazer um gráfico\n",
    "vetor_yA = np.linspace(0,1,100) #vetor_fracoes_molares_de_A_em_fase_liquida\n",
    "vetor_yB = 1.-vetor_yA\n",
    "\n",
    "vetor_xA = np.zeros(100)\n",
    "vetor_xB = np.zeros(100)\n",
    "vetor_P = np.zeros(100)\n",
    "\n",
    "for i in range(100):\n",
    "    vetor_P[i],[vetor_xA[i],vetor_xB[i]] = func_Porvalho([vetor_yA[i],vetor_yB[i]])"
   ]
  },
  {
   "cell_type": "code",
   "execution_count": 17,
   "metadata": {},
   "outputs": [
    {
     "data": {
      "image/png": "[encoded data removed]",
      "text/plain": [
       "<Figure size 432x288 with 1 Axes>"
      ]
     },
     "metadata": {},
     "output_type": "display_data"
    }
   ],
   "source": [
    "plt.title('diagrama de equilibrio liquido vapor \\n'r'pelo metodo de pressao de ponto de orvalho $\\gamma$-$\\phi$')\n",
    "plt.scatter(vetor_xA,vetor_P,label='curva de ponto de bolha')\n",
    "plt.scatter(vetor_yA,vetor_P,label='curva de ponto de orvalho')\n",
    "plt.ylabel('P')\n",
    "plt.xlabel(r'$x_A,y_A,z_A$')\n",
    "plt.legend()\n",
    "plt.xlim(0,1)\n",
    "plt.show()"
   ]
  },
  {
   "cell_type": "code",
   "execution_count": null,
   "metadata": {},
   "outputs": [],
   "source": []
  }
 ],
 "metadata": {
  "kernelspec": {
   "display_name": "Python [default]",
   "language": "python",
   "name": "python3"
  },
  "language_info": {
   "codemirror_mode": {
    "name": "ipython",
    "version": 3
   },
   "file_extension": ".py",
   "mimetype": "text/x-python",
   "name": "python",
   "nbconvert_exporter": "python",
   "pygments_lexer": "ipython3",
   "version": "3.6.3"
  }
 },
 "nbformat": 4,
 "nbformat_minor": 2
}
