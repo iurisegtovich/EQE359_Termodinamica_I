{
 "cells": [
  {
   "cell_type": "markdown",
   "metadata": {},
   "source": [
    "# Cálculo de pressão (P) para ponto de bolha e orvalho para mistura binária,\n",
    "## dado composição global (z1,z2) e temperatura (T)"
   ]
  },
  {
   "cell_type": "markdown",
   "metadata": {},
   "source": [
    "O objetivo deste material é mostrar uma estrutura de programação simples para:\n",
    "* Cálculo de coeficientes de atividade usando modelo de Margules para mistura binária\n",
    "* Método de cálculo (direto) de pressão de ponto de bolha\n",
    "* Uso desse método para desenhar o diagrama de equlíbrio líqudo-vapor: P versus x1,y1,z1\n",
    "* Método de cálculo iterativo de pressão de ponto de orvalho\n",
    "* Uso desse outro método para desenhar o mesmo diagrama de equlíbrio líqudo-vapor: P versus x1,y1,z1"
   ]
  },
  {
   "cell_type": "code",
   "execution_count": 1,
   "metadata": {},
   "outputs": [],
   "source": [
    "import numpy as np\n",
    "#pacote para fazer vetores\n",
    "\n",
    "from matplotlib import pyplot as plt\n",
    "#pacote para desenhar graficos\n",
    "\n",
    "%matplotlib inline\n",
    "#configuração de desenho do gráfico no campo de resultado da célula no próprio arquivo ipynb"
   ]
  },
  {
   "cell_type": "code",
   "execution_count": 2,
   "metadata": {},
   "outputs": [],
   "source": [
    "#constante dos modelos termodinâmicos em S.I.\n",
    "R=8.314 #S.I.\n",
    "\n",
    "# temperatura dada\n",
    "T=298 #K\n",
    "\n",
    "#pressao de saturação do componente 1 inventado em uma temperatura dada\n",
    "Psat1=1e5 #Pa\n",
    "\n",
    "#pressao de saturação do  componente 2 inventado na mesma temperatura dada\n",
    "Psat2=20e5 #Pa"
   ]
  },
  {
   "cell_type": "markdown",
   "metadata": {},
   "source": [
    "## As expressões de $\\ln \\left( \\gamma_{i} \\right)$ do modelo de Margules\n",
    "\n",
    "$G^{\\mathrm{E}}=A \\; x_{1} \\; x_{2}$\n",
    "\n",
    "${R \\; T} \\; \\ln \\left( \\gamma_{1} \\right) = {A} \\; {x_{1}}^{2} $\n",
    " \n",
    "${R \\; T} \\; \\ln \\left( \\gamma_{2} \\right) = {A} \\; {x_{2}}^{2} $\n",
    "\n"
   ]
  },
  {
   "cell_type": "code",
   "execution_count": 3,
   "metadata": {},
   "outputs": [],
   "source": [
    "#definição da função que vai conseguir calcular lngammaA e lngammaB a partitr de x1 e x2\n",
    "def func_gamma(x1,x2):\n",
    "    #função que recebe um composição com x1 e x2 e retorna os gamma1 e gamma2\n",
    "    \n",
    "    #calculo do log de gamma de cada componente para a compoisção dada pelo modelo de margules de 1 parametro A\n",
    "    lngamma1=(x2**2)*A/(R*T)\n",
    "    lngamma2=(x1**2)*A/(R*T)\n",
    "    \n",
    "    gamma1= np.exp(lngamma1)\n",
    "    gamma2= np.exp(lngamma2)\n",
    "    \n",
    "    return gamma1, gamma2"
   ]
  },
  {
   "cell_type": "code",
   "execution_count": 4,
   "metadata": {},
   "outputs": [],
   "source": [
    "#definindo Parametro dado para o modelo\n",
    "A=-3000.\n",
    "#quando a função for cghamada ela vai usar esse valor definido aqui"
   ]
  },
  {
   "cell_type": "code",
   "execution_count": 5,
   "metadata": {},
   "outputs": [
    {
     "name": "stdout",
     "output_type": "stream",
     "text": [
      "0.297940078014 1.0\n",
      "fraçaõ molar do componente 2 tende a 1., gamma dele tende a 1.\n",
      "1.0 0.297940078014\n",
      "fraçaõ molar do componente 1 tende a 1., gamma dele tende a 1.\n",
      "0.460725779374 0.952719725421\n",
      "teste com uma composição arbitrária\n"
     ]
    }
   ],
   "source": [
    "#vamos fazer uns testes\n",
    "\n",
    "#primeiro o caso do componente 2 puro\n",
    "x1_test=0.\n",
    "x2_test=1.\n",
    "#chamar a função usando essa composição e salvar o resultado do teste na variável\n",
    "gamma1_test, gamma2_test = func_gamma(x1=x1_test,x2=x2_test)\n",
    "print(gamma1_test, gamma2_test)\n",
    "print('fraçaõ molar do componente 2 tende a 1., gamma dele tende a 1.')\n",
    "\n",
    "#agora para outro\n",
    "x1_test=1.\n",
    "x2_test=0.\n",
    "#chamar a função usando essa composição e salvar o resultado do teste na variável\n",
    "gamma1_test, gamma2_test = func_gamma(x1=x1_test,x2=x2_test)\n",
    "print(gamma1_test, gamma2_test)\n",
    "print('fraçaõ molar do componente 1 tende a 1., gamma dele tende a 1.')\n",
    "\n",
    "#teste com uma composição arbitrária\n",
    "x1_test=.2\n",
    "x2_test=.8\n",
    "#chamar a função usando essa composição e salvar o resultado do teste na variável\n",
    "gamma1_test, gamma2_test = func_gamma(x1=x1_test,x2=x2_test)\n",
    "print(gamma1_test, gamma2_test)\n",
    "print('teste com uma composição arbitrária')"
   ]
  },
  {
   "cell_type": "code",
   "execution_count": 6,
   "metadata": {},
   "outputs": [],
   "source": [
    "#calculo de pressao de bolha (calculo explicito de P e y dado x=z)\n",
    "def func_Pbolha(z1,z2):\n",
    "    #entra compoisçao global\n",
    "    x1=z1\n",
    "    x2=z2\n",
    "    \n",
    "    #calcula os gamma com essa composição\n",
    "    gamma1, gamma2 = func_gamma(x1=x1,x2=x2)\n",
    "\n",
    "    #calculo da pressao com a equaão classica P=somatorio(xi gammi psati)\n",
    "    P=x1*gamma1*Psat1+x2*gamma2*Psat2\n",
    "    \n",
    "    #calculo posterior das fracoes molares na fase gas\n",
    "    y1=x1*gamma1*Psat1/P\n",
    "    y2=x2*gamma2*Psat2/P\n",
    "    \n",
    "    #retornar pressao e composição do gas\n",
    "    return P, y1,y2"
   ]
  },
  {
   "cell_type": "code",
   "execution_count": 7,
   "metadata": {},
   "outputs": [
    {
     "name": "stdout",
     "output_type": "stream",
     "text": [
      "(2000000.0, 0.0, 1.0)\n",
      "fraçaõ molar do componente 2 tende a 1, a Pbolha é igual ao Psat do 2, o y é igual ao x igual a 1\n",
      "(100000.0, 1.0, 0.0)\n",
      "fraçaõ molar do componente 1 tende a 1, a Pbolha é igual ao Psat do 1, o y é igual ao x igual a 1\n",
      "(1533566.0762615299, 0.00600855465579056, 0.99399144534420936)\n",
      "teste com uma composição arbitrária, pressão intermediária se não houver azeotropo, ou maior ou menor se houver, y mais rico no leve (maior psat)\n"
     ]
    }
   ],
   "source": [
    "#testes do metodo de pressao de ponto de bolha\n",
    "\n",
    "x1_test=0.\n",
    "x2_test=1.\n",
    "resposta_pbolha_test = func_Pbolha(z1=x1_test,z2=x2_test)\n",
    "print(resposta_pbolha_test)\n",
    "print('fraçaõ molar do componente 2 tende a 1, a Pbolha é igual ao Psat do 2, o y é igual ao x igual a 1')\n",
    "\n",
    "x1_test=1.\n",
    "x2_test=0.\n",
    "resposta_pbolha_test = func_Pbolha(z1=x1_test,z2=x2_test)\n",
    "print(resposta_pbolha_test)\n",
    "print('fraçaõ molar do componente 1 tende a 1, a Pbolha é igual ao Psat do 1, o y é igual ao x igual a 1')\n",
    "\n",
    "x1_test=0.2\n",
    "x2_test=0.8\n",
    "resposta_pbolha_test = func_Pbolha(z1=x1_test,z2=x2_test)\n",
    "print(resposta_pbolha_test)\n",
    "print('teste com uma composição arbitrária, pressão intermediária se não houver azeotropo, ou maior ou menor se houver, y mais rico no leve (maior psat)')"
   ]
  },
  {
   "cell_type": "code",
   "execution_count": 8,
   "metadata": {},
   "outputs": [],
   "source": [
    "#fazer um gráfico\n",
    "vetor_x1 = np.linspace(0,1,100) #vetor_fracoes_molares_de_A_em_fase_liquida\n",
    "vetor_x2 = 1.-vetor_x1 #subtração termo-a-termo\n",
    "\n",
    "vetor_y1 = np.zeros(100) #vetores de zeros para fazer o calculpo sequencial\n",
    "vetor_y2 = np.zeros(100)\n",
    "vetor_P = np.zeros(100)\n",
    "\n",
    "#para i indo de 0 ate 99 (100 ptos)\n",
    "for i in range(100):\n",
    "    #--------------------------------------chma a função p bolha\n",
    "    # usando como compoisção o iésimo x1 e x2 do nosso vetor para calculo sequencial\n",
    "    #salvar a resposta de pressao e a resposta de y no iesimo elemtno dos vetor prealocados\n",
    "    vetor_P[i],vetor_y1[i],vetor_y2[i] = func_Pbolha(z1=vetor_x1[i],z2=vetor_x2[i])"
   ]
  },
  {
   "cell_type": "code",
   "execution_count": 9,
   "metadata": {},
   "outputs": [
    {
     "data": {
      "image/png": "[encoded data removed]",
      "text/plain": [
       "<Figure size 432x288 with 1 Axes>"
      ]
     },
     "metadata": {},
     "output_type": "display_data"
    }
   ],
   "source": [
    "plt.title('diagrama de equilibrio liquido vapor \\n'r'pelo metodo de pressao de ponto de bolha $\\gamma$-$\\phi$')\n",
    "plt.scatter(vetor_x1,vetor_P,label='curva de ponto de bolha')\n",
    "plt.scatter(vetor_y1,vetor_P,label='curva de ponto de orvalho')\n",
    "plt.ylabel('P')\n",
    "plt.xlabel(r'$x_1,y_1,z_1$')\n",
    "plt.legend()\n",
    "plt.xlim(0,1)\n",
    "plt.show()"
   ]
  },
  {
   "cell_type": "markdown",
   "metadata": {},
   "source": [
    "> Ao rodar o metodo de calculo de ponto de bolha para varios valores de composição da fase liquida obtemos a curva de ponto de orvalho inteira também"
   ]
  },
  {
   "cell_type": "code",
   "execution_count": 10,
   "metadata": {},
   "outputs": [],
   "source": [
    "#calculo de pressao de orvalho\n",
    "#(calculo implicito pois nao se sabe x como entrada e gamma depende de x - requer metodo iterativo)\n",
    "\n",
    "def func_Porvalho(z1,z2):\n",
    "    \n",
    "    #PONTO DE ORVALHO, A COMPOSIÇÃO DO VAPOR É IGUAL A GLOBAL\n",
    "    y1=z1\n",
    "    y2=z2\n",
    "    \n",
    "    #DEFINIR ESTIMATIVA INICIAL BASEADA NO CASO DE MISTURA IDEAL\n",
    "    gamma1=1.\n",
    "    gamma2=1.\n",
    "    \n",
    "    #NUMERO MAXIMO DE ITERACOES\n",
    "    imax=100\n",
    "    #TOLERANCIA DE CONVERGENCIA\n",
    "    tol=1e-9\n",
    "    #DEFINIR VARIAVEL RESIDUO COM VALOR INICIAL MAIOR QUE A TOLERANCIA\n",
    "    res=1.\n",
    "    \n",
    "    \n",
    "    #INICIO DO METODO ITERATIVO\n",
    "    while(res>tol and i<imax):\n",
    "        \n",
    "        #TODA ESSA PARTE COM IDENTAÇÃO ABAIXO DO BLOCK WHILE VAI SER EXECUTADA VÁRIAS VEZES\n",
    "        #ATÉ QUE SE SATISFAÇA O CRITÉRIO DE CONVERGENCIA RESIDUO<TOLERANCIA\n",
    "        #OU QUE ULTRAPASSE O LIMITE DE ITERAÇÕES I>IMAX\n",
    "        \n",
    "        # SALVAR A ESTIMATIVA INICIAL OU RESULTADO DA ITERAÇÃO ANTERIOR NAS VARIAVEIS _ANTIGO\n",
    "        # PARA FAZER A ANALISE DO RESIDUO\n",
    "        gamma1_antigo = gamma1\n",
    "        gamma2_antigo = gamma2\n",
    "\n",
    "        #EQUACAO classica DO PONTO DE ORVALHO PARA EQUILIBRIO BIFASICO DE SUBSTANCIAS MISCIVEIS\n",
    "        #SUPOE O GAMMA CONHECIDO\n",
    "        P = 1. / ( y1/(gamma1*Psat1) + y2/(gamma2*Psat2) )\n",
    "\n",
    "        #CALCULO DA COMPOSICAO DA FASE LIQUIDA A PARTIR DESSA PRESSAO\n",
    "        x1= y1*P/(gamma1*Psat1)\n",
    "        x2= y2*P/(gamma2*Psat2)\n",
    "\n",
    "        #CALCULO RIGOROSO DOS COEFICIENTES DE ATIVIDADE A PARTIR DO MODELO DE GIBBS DE EXCESSO\n",
    "        gammaA,gammaB=func_gamma(x1=x1,x2=x2)\n",
    "\n",
    "        #CALCULO DO RESIDUO DEFINIDO PELA VARIAÇAO NO VALOR DE GAMMA DE UMA ITERACAO PARA A OUTRA\n",
    "        #ABS É A FUNÇÃO MÓDULO\n",
    "        res= abs(gamma1_antigo - gamma1) + abs(gamma2_antigo - gamma2)\n",
    "        \n",
    "        #FIM DO BLOCO ITERATIVO, VOLTAR PARA A LINHA DO WHILE ATÉ CONVERGIR\n",
    "        \n",
    "    #ESSA PARTE ABAIXO, NÃO ESTANDO MAIS IDENTADA, NÃO FAZ PARTE DO MÉTODO ITERATIVO, ELA SÓ RODA APÓS A CONVERGÊNCIA\n",
    "    #APÓS CONVERGIR, RETORNAR OS RESULTADOS    \n",
    "    return P, x1, x2"
   ]
  },
  {
   "cell_type": "code",
   "execution_count": 11,
   "metadata": {},
   "outputs": [
    {
     "name": "stdout",
     "output_type": "stream",
     "text": [
      "(2000000.0, 0.0, 1.0)\n",
      "fraçaõ molar do componente 2 tende a 1, a Porvalho é igual ao Psat do 2, o x é igual ao y = 1\n",
      "(99999.99999999999, 0.9999999999999999, 0.0)\n",
      "e vice versa\n",
      "(416666.6666666667, 0.8333333333333335, 0.16666666666666669)\n",
      "teste composição arbitrária\n"
     ]
    }
   ],
   "source": [
    "y1_test=0.\n",
    "y2_test=1.\n",
    "resposta_porvalho_test = func_Porvalho(z1=y1_test,z2=y2_test)\n",
    "print(resposta_porvalho_test)\n",
    "print('fraçaõ molar do componente 2 tende a 1, a Porvalho é igual ao Psat do 2, o x é igual ao y = 1')\n",
    "\n",
    "y1_test=1.\n",
    "y2_test=0.\n",
    "resposta_porvalho_test = func_Porvalho(z1=y1_test,z2=y2_test)\n",
    "print(resposta_porvalho_test)\n",
    "print('e vice versa')\n",
    "\n",
    "y1_test=.2\n",
    "y2_test=.8\n",
    "resposta_porvalho_test = func_Porvalho(z1=y1_test,z2=y2_test)\n",
    "print(resposta_porvalho_test)\n",
    "print('teste composição arbitrária')"
   ]
  },
  {
   "cell_type": "code",
   "execution_count": 12,
   "metadata": {},
   "outputs": [],
   "source": [
    "#fazer um gráfico\n",
    "vetor_y1 = np.linspace(0,1,100) #vetor_fracoes_molares_de_A_em_fase_liquida\n",
    "vetor_y2 = 1.-vetor_y1\n",
    "\n",
    "vetor_x1 = np.zeros(100)\n",
    "vetor_x2 = np.zeros(100)\n",
    "vetor_P = np.zeros(100)\n",
    "\n",
    "for i in range(100):\n",
    "    vetor_P[i],vetor_x1[i],vetor_x2[i] = func_Porvalho(z1=vetor_y1[i],z2=vetor_y2[i])"
   ]
  },
  {
   "cell_type": "code",
   "execution_count": 13,
   "metadata": {},
   "outputs": [
    {
     "data": {
      "image/png": "[encoded data removed]",
      "text/plain": [
       "<Figure size 432x288 with 1 Axes>"
      ]
     },
     "metadata": {},
     "output_type": "display_data"
    }
   ],
   "source": [
    "plt.title('diagrama de equilibrio liquido vapor \\n'r'pelo metodo de pressao de ponto de orvalho $\\gamma$-$\\phi$')\n",
    "plt.scatter(vetor_x1,vetor_P,label='curva de ponto de bolha')\n",
    "plt.scatter(vetor_y1,vetor_P,label='curva de ponto de orvalho')\n",
    "plt.ylabel('P')\n",
    "plt.xlabel(r'$x_1,y_1,z_1$')\n",
    "plt.legend()\n",
    "plt.xlim(0,1)\n",
    "plt.show()"
   ]
  },
  {
   "cell_type": "markdown",
   "metadata": {},
   "source": [
    "> É possível obter o mesmo gráfico a partir do cálculo sequencial usando o método de pressao de ponto de orvalho ou de pressao de ponto de bolha"
   ]
  }
 ],
 "metadata": {
  "kernelspec": {
   "display_name": "Python [default]",
   "language": "python",
   "name": "python3"
  },
  "language_info": {
   "codemirror_mode": {
    "name": "ipython",
    "version": 3
   },
   "file_extension": ".py",
   "mimetype": "text/x-python",
   "name": "python",
   "nbconvert_exporter": "python",
   "pygments_lexer": "ipython3",
   "version": "3.6.3"
  }
 },
 "nbformat": 4,
 "nbformat_minor": 2
}
